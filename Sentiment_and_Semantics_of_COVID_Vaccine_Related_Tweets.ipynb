{
  "nbformat": 4,
  "nbformat_minor": 0,
  "metadata": {
    "colab": {
      "name": "Sentiment and Semantics of COVID Vaccine Related Tweets.ipynb",
      "provenance": [],
      "collapsed_sections": [
        "1q95EfHKL3XN",
        "sKxsi-cL2Qkj",
        "rUkzbnPv3WFC",
        "bIQAOHJi3ZUY",
        "VyQyAFcm4CJz",
        "Naw7iEEf4qvD",
        "x66l7cWW4TMm",
        "dajo8RjM-jU9",
        "nXlHxAsY9fau",
        "W7hX7xJMJ2Te",
        "mlFohGKVPM56",
        "rKwkWZPEPwiY",
        "GKzhT7_0QBRG",
        "vr-BNOIcQx5g",
        "CFYb95reQm4m",
        "EmeIEedFLk9t",
        "F5GNMQQLOGUb"
      ],
      "authorship_tag": "ABX9TyOatwsYHbtuqfM5qw9Y5EgI",
      "include_colab_link": true
    },
    "kernelspec": {
      "name": "python3",
      "display_name": "Python 3"
    },
    "language_info": {
      "name": "python"
    },
    "widgets": {
      "application/vnd.jupyter.widget-state+json": {
        "0261e64999144d33904eb0ded2bd0128": {
          "model_module": "@jupyter-widgets/controls",
          "model_name": "HBoxModel",
          "state": {
            "_view_name": "HBoxView",
            "_dom_classes": [],
            "_model_name": "HBoxModel",
            "_view_module": "@jupyter-widgets/controls",
            "_model_module_version": "1.5.0",
            "_view_count": null,
            "_view_module_version": "1.5.0",
            "box_style": "",
            "layout": "IPY_MODEL_413bd84f2a424eddaddd5e1b6345dbdf",
            "_model_module": "@jupyter-widgets/controls",
            "children": [
              "IPY_MODEL_b41ba44f2331448c9adec45f8994d3a1",
              "IPY_MODEL_57172ed5a8fc49279f1b654dad4606d9"
            ]
          }
        },
        "413bd84f2a424eddaddd5e1b6345dbdf": {
          "model_module": "@jupyter-widgets/base",
          "model_name": "LayoutModel",
          "state": {
            "_view_name": "LayoutView",
            "grid_template_rows": null,
            "right": null,
            "justify_content": null,
            "_view_module": "@jupyter-widgets/base",
            "overflow": null,
            "_model_module_version": "1.2.0",
            "_view_count": null,
            "flex_flow": null,
            "width": null,
            "min_width": null,
            "border": null,
            "align_items": null,
            "bottom": null,
            "_model_module": "@jupyter-widgets/base",
            "top": null,
            "grid_column": null,
            "overflow_y": null,
            "overflow_x": null,
            "grid_auto_flow": null,
            "grid_area": null,
            "grid_template_columns": null,
            "flex": null,
            "_model_name": "LayoutModel",
            "justify_items": null,
            "grid_row": null,
            "max_height": null,
            "align_content": null,
            "visibility": null,
            "align_self": null,
            "height": null,
            "min_height": null,
            "padding": null,
            "grid_auto_rows": null,
            "grid_gap": null,
            "max_width": null,
            "order": null,
            "_view_module_version": "1.2.0",
            "grid_template_areas": null,
            "object_position": null,
            "object_fit": null,
            "grid_auto_columns": null,
            "margin": null,
            "display": null,
            "left": null
          }
        },
        "b41ba44f2331448c9adec45f8994d3a1": {
          "model_module": "@jupyter-widgets/controls",
          "model_name": "FloatProgressModel",
          "state": {
            "_view_name": "ProgressView",
            "style": "IPY_MODEL_b790e41ea9ce438caa2a6a70588ef1e1",
            "_dom_classes": [],
            "description": "Downloading: 100%",
            "_model_name": "FloatProgressModel",
            "bar_style": "success",
            "max": 629,
            "_view_module": "@jupyter-widgets/controls",
            "_model_module_version": "1.5.0",
            "value": 629,
            "_view_count": null,
            "_view_module_version": "1.5.0",
            "orientation": "horizontal",
            "min": 0,
            "description_tooltip": null,
            "_model_module": "@jupyter-widgets/controls",
            "layout": "IPY_MODEL_4545d2a7158f481d9ac308508b43ac9e"
          }
        },
        "57172ed5a8fc49279f1b654dad4606d9": {
          "model_module": "@jupyter-widgets/controls",
          "model_name": "HTMLModel",
          "state": {
            "_view_name": "HTMLView",
            "style": "IPY_MODEL_6484a7ae16a1452a86b75edf3f88cd0c",
            "_dom_classes": [],
            "description": "",
            "_model_name": "HTMLModel",
            "placeholder": "​",
            "_view_module": "@jupyter-widgets/controls",
            "_model_module_version": "1.5.0",
            "value": " 629/629 [00:00&lt;00:00, 967B/s]",
            "_view_count": null,
            "_view_module_version": "1.5.0",
            "description_tooltip": null,
            "_model_module": "@jupyter-widgets/controls",
            "layout": "IPY_MODEL_0e76c9cb53174544b0ef75f3882f59c7"
          }
        },
        "b790e41ea9ce438caa2a6a70588ef1e1": {
          "model_module": "@jupyter-widgets/controls",
          "model_name": "ProgressStyleModel",
          "state": {
            "_view_name": "StyleView",
            "_model_name": "ProgressStyleModel",
            "description_width": "initial",
            "_view_module": "@jupyter-widgets/base",
            "_model_module_version": "1.5.0",
            "_view_count": null,
            "_view_module_version": "1.2.0",
            "bar_color": null,
            "_model_module": "@jupyter-widgets/controls"
          }
        },
        "4545d2a7158f481d9ac308508b43ac9e": {
          "model_module": "@jupyter-widgets/base",
          "model_name": "LayoutModel",
          "state": {
            "_view_name": "LayoutView",
            "grid_template_rows": null,
            "right": null,
            "justify_content": null,
            "_view_module": "@jupyter-widgets/base",
            "overflow": null,
            "_model_module_version": "1.2.0",
            "_view_count": null,
            "flex_flow": null,
            "width": null,
            "min_width": null,
            "border": null,
            "align_items": null,
            "bottom": null,
            "_model_module": "@jupyter-widgets/base",
            "top": null,
            "grid_column": null,
            "overflow_y": null,
            "overflow_x": null,
            "grid_auto_flow": null,
            "grid_area": null,
            "grid_template_columns": null,
            "flex": null,
            "_model_name": "LayoutModel",
            "justify_items": null,
            "grid_row": null,
            "max_height": null,
            "align_content": null,
            "visibility": null,
            "align_self": null,
            "height": null,
            "min_height": null,
            "padding": null,
            "grid_auto_rows": null,
            "grid_gap": null,
            "max_width": null,
            "order": null,
            "_view_module_version": "1.2.0",
            "grid_template_areas": null,
            "object_position": null,
            "object_fit": null,
            "grid_auto_columns": null,
            "margin": null,
            "display": null,
            "left": null
          }
        },
        "6484a7ae16a1452a86b75edf3f88cd0c": {
          "model_module": "@jupyter-widgets/controls",
          "model_name": "DescriptionStyleModel",
          "state": {
            "_view_name": "StyleView",
            "_model_name": "DescriptionStyleModel",
            "description_width": "",
            "_view_module": "@jupyter-widgets/base",
            "_model_module_version": "1.5.0",
            "_view_count": null,
            "_view_module_version": "1.2.0",
            "_model_module": "@jupyter-widgets/controls"
          }
        },
        "0e76c9cb53174544b0ef75f3882f59c7": {
          "model_module": "@jupyter-widgets/base",
          "model_name": "LayoutModel",
          "state": {
            "_view_name": "LayoutView",
            "grid_template_rows": null,
            "right": null,
            "justify_content": null,
            "_view_module": "@jupyter-widgets/base",
            "overflow": null,
            "_model_module_version": "1.2.0",
            "_view_count": null,
            "flex_flow": null,
            "width": null,
            "min_width": null,
            "border": null,
            "align_items": null,
            "bottom": null,
            "_model_module": "@jupyter-widgets/base",
            "top": null,
            "grid_column": null,
            "overflow_y": null,
            "overflow_x": null,
            "grid_auto_flow": null,
            "grid_area": null,
            "grid_template_columns": null,
            "flex": null,
            "_model_name": "LayoutModel",
            "justify_items": null,
            "grid_row": null,
            "max_height": null,
            "align_content": null,
            "visibility": null,
            "align_self": null,
            "height": null,
            "min_height": null,
            "padding": null,
            "grid_auto_rows": null,
            "grid_gap": null,
            "max_width": null,
            "order": null,
            "_view_module_version": "1.2.0",
            "grid_template_areas": null,
            "object_position": null,
            "object_fit": null,
            "grid_auto_columns": null,
            "margin": null,
            "display": null,
            "left": null
          }
        },
        "17a3eee583b14fa98031fe03863c236a": {
          "model_module": "@jupyter-widgets/controls",
          "model_name": "HBoxModel",
          "state": {
            "_view_name": "HBoxView",
            "_dom_classes": [],
            "_model_name": "HBoxModel",
            "_view_module": "@jupyter-widgets/controls",
            "_model_module_version": "1.5.0",
            "_view_count": null,
            "_view_module_version": "1.5.0",
            "box_style": "",
            "layout": "IPY_MODEL_c44f4eeec0164266a8ea6314bc673fda",
            "_model_module": "@jupyter-widgets/controls",
            "children": [
              "IPY_MODEL_3523a38703184966b0e730ff34c05a03",
              "IPY_MODEL_b3c3cf5fa4d940d98f2be39e95d0686e"
            ]
          }
        },
        "c44f4eeec0164266a8ea6314bc673fda": {
          "model_module": "@jupyter-widgets/base",
          "model_name": "LayoutModel",
          "state": {
            "_view_name": "LayoutView",
            "grid_template_rows": null,
            "right": null,
            "justify_content": null,
            "_view_module": "@jupyter-widgets/base",
            "overflow": null,
            "_model_module_version": "1.2.0",
            "_view_count": null,
            "flex_flow": null,
            "width": null,
            "min_width": null,
            "border": null,
            "align_items": null,
            "bottom": null,
            "_model_module": "@jupyter-widgets/base",
            "top": null,
            "grid_column": null,
            "overflow_y": null,
            "overflow_x": null,
            "grid_auto_flow": null,
            "grid_area": null,
            "grid_template_columns": null,
            "flex": null,
            "_model_name": "LayoutModel",
            "justify_items": null,
            "grid_row": null,
            "max_height": null,
            "align_content": null,
            "visibility": null,
            "align_self": null,
            "height": null,
            "min_height": null,
            "padding": null,
            "grid_auto_rows": null,
            "grid_gap": null,
            "max_width": null,
            "order": null,
            "_view_module_version": "1.2.0",
            "grid_template_areas": null,
            "object_position": null,
            "object_fit": null,
            "grid_auto_columns": null,
            "margin": null,
            "display": null,
            "left": null
          }
        },
        "3523a38703184966b0e730ff34c05a03": {
          "model_module": "@jupyter-widgets/controls",
          "model_name": "FloatProgressModel",
          "state": {
            "_view_name": "ProgressView",
            "style": "IPY_MODEL_c684a260b563480b844fc6ddd448ceee",
            "_dom_classes": [],
            "description": "Downloading: 100%",
            "_model_name": "FloatProgressModel",
            "bar_style": "success",
            "max": 267844284,
            "_view_module": "@jupyter-widgets/controls",
            "_model_module_version": "1.5.0",
            "value": 267844284,
            "_view_count": null,
            "_view_module_version": "1.5.0",
            "orientation": "horizontal",
            "min": 0,
            "description_tooltip": null,
            "_model_module": "@jupyter-widgets/controls",
            "layout": "IPY_MODEL_f0ef069b71f64705861c0a3498cd6ebd"
          }
        },
        "b3c3cf5fa4d940d98f2be39e95d0686e": {
          "model_module": "@jupyter-widgets/controls",
          "model_name": "HTMLModel",
          "state": {
            "_view_name": "HTMLView",
            "style": "IPY_MODEL_e42a6770baba4c0f8841326bf497121c",
            "_dom_classes": [],
            "description": "",
            "_model_name": "HTMLModel",
            "placeholder": "​",
            "_view_module": "@jupyter-widgets/controls",
            "_model_module_version": "1.5.0",
            "value": " 268M/268M [08:31&lt;00:00, 524kB/s]",
            "_view_count": null,
            "_view_module_version": "1.5.0",
            "description_tooltip": null,
            "_model_module": "@jupyter-widgets/controls",
            "layout": "IPY_MODEL_a382d1d9a1094e329d19679c39a2b202"
          }
        },
        "c684a260b563480b844fc6ddd448ceee": {
          "model_module": "@jupyter-widgets/controls",
          "model_name": "ProgressStyleModel",
          "state": {
            "_view_name": "StyleView",
            "_model_name": "ProgressStyleModel",
            "description_width": "initial",
            "_view_module": "@jupyter-widgets/base",
            "_model_module_version": "1.5.0",
            "_view_count": null,
            "_view_module_version": "1.2.0",
            "bar_color": null,
            "_model_module": "@jupyter-widgets/controls"
          }
        },
        "f0ef069b71f64705861c0a3498cd6ebd": {
          "model_module": "@jupyter-widgets/base",
          "model_name": "LayoutModel",
          "state": {
            "_view_name": "LayoutView",
            "grid_template_rows": null,
            "right": null,
            "justify_content": null,
            "_view_module": "@jupyter-widgets/base",
            "overflow": null,
            "_model_module_version": "1.2.0",
            "_view_count": null,
            "flex_flow": null,
            "width": null,
            "min_width": null,
            "border": null,
            "align_items": null,
            "bottom": null,
            "_model_module": "@jupyter-widgets/base",
            "top": null,
            "grid_column": null,
            "overflow_y": null,
            "overflow_x": null,
            "grid_auto_flow": null,
            "grid_area": null,
            "grid_template_columns": null,
            "flex": null,
            "_model_name": "LayoutModel",
            "justify_items": null,
            "grid_row": null,
            "max_height": null,
            "align_content": null,
            "visibility": null,
            "align_self": null,
            "height": null,
            "min_height": null,
            "padding": null,
            "grid_auto_rows": null,
            "grid_gap": null,
            "max_width": null,
            "order": null,
            "_view_module_version": "1.2.0",
            "grid_template_areas": null,
            "object_position": null,
            "object_fit": null,
            "grid_auto_columns": null,
            "margin": null,
            "display": null,
            "left": null
          }
        },
        "e42a6770baba4c0f8841326bf497121c": {
          "model_module": "@jupyter-widgets/controls",
          "model_name": "DescriptionStyleModel",
          "state": {
            "_view_name": "StyleView",
            "_model_name": "DescriptionStyleModel",
            "description_width": "",
            "_view_module": "@jupyter-widgets/base",
            "_model_module_version": "1.5.0",
            "_view_count": null,
            "_view_module_version": "1.2.0",
            "_model_module": "@jupyter-widgets/controls"
          }
        },
        "a382d1d9a1094e329d19679c39a2b202": {
          "model_module": "@jupyter-widgets/base",
          "model_name": "LayoutModel",
          "state": {
            "_view_name": "LayoutView",
            "grid_template_rows": null,
            "right": null,
            "justify_content": null,
            "_view_module": "@jupyter-widgets/base",
            "overflow": null,
            "_model_module_version": "1.2.0",
            "_view_count": null,
            "flex_flow": null,
            "width": null,
            "min_width": null,
            "border": null,
            "align_items": null,
            "bottom": null,
            "_model_module": "@jupyter-widgets/base",
            "top": null,
            "grid_column": null,
            "overflow_y": null,
            "overflow_x": null,
            "grid_auto_flow": null,
            "grid_area": null,
            "grid_template_columns": null,
            "flex": null,
            "_model_name": "LayoutModel",
            "justify_items": null,
            "grid_row": null,
            "max_height": null,
            "align_content": null,
            "visibility": null,
            "align_self": null,
            "height": null,
            "min_height": null,
            "padding": null,
            "grid_auto_rows": null,
            "grid_gap": null,
            "max_width": null,
            "order": null,
            "_view_module_version": "1.2.0",
            "grid_template_areas": null,
            "object_position": null,
            "object_fit": null,
            "grid_auto_columns": null,
            "margin": null,
            "display": null,
            "left": null
          }
        },
        "a5082aafff7343929b756a35eb2aea32": {
          "model_module": "@jupyter-widgets/controls",
          "model_name": "HBoxModel",
          "state": {
            "_view_name": "HBoxView",
            "_dom_classes": [],
            "_model_name": "HBoxModel",
            "_view_module": "@jupyter-widgets/controls",
            "_model_module_version": "1.5.0",
            "_view_count": null,
            "_view_module_version": "1.5.0",
            "box_style": "",
            "layout": "IPY_MODEL_cbd411e5ce8a4343a8019b078585cfb0",
            "_model_module": "@jupyter-widgets/controls",
            "children": [
              "IPY_MODEL_66443a1768cd4663a211591f82285ac8",
              "IPY_MODEL_b09597d098d948bba30d647fc80f046e"
            ]
          }
        },
        "cbd411e5ce8a4343a8019b078585cfb0": {
          "model_module": "@jupyter-widgets/base",
          "model_name": "LayoutModel",
          "state": {
            "_view_name": "LayoutView",
            "grid_template_rows": null,
            "right": null,
            "justify_content": null,
            "_view_module": "@jupyter-widgets/base",
            "overflow": null,
            "_model_module_version": "1.2.0",
            "_view_count": null,
            "flex_flow": null,
            "width": null,
            "min_width": null,
            "border": null,
            "align_items": null,
            "bottom": null,
            "_model_module": "@jupyter-widgets/base",
            "top": null,
            "grid_column": null,
            "overflow_y": null,
            "overflow_x": null,
            "grid_auto_flow": null,
            "grid_area": null,
            "grid_template_columns": null,
            "flex": null,
            "_model_name": "LayoutModel",
            "justify_items": null,
            "grid_row": null,
            "max_height": null,
            "align_content": null,
            "visibility": null,
            "align_self": null,
            "height": null,
            "min_height": null,
            "padding": null,
            "grid_auto_rows": null,
            "grid_gap": null,
            "max_width": null,
            "order": null,
            "_view_module_version": "1.2.0",
            "grid_template_areas": null,
            "object_position": null,
            "object_fit": null,
            "grid_auto_columns": null,
            "margin": null,
            "display": null,
            "left": null
          }
        },
        "66443a1768cd4663a211591f82285ac8": {
          "model_module": "@jupyter-widgets/controls",
          "model_name": "FloatProgressModel",
          "state": {
            "_view_name": "ProgressView",
            "style": "IPY_MODEL_7da98c75385f465297b1856b93d42ddc",
            "_dom_classes": [],
            "description": "Downloading: 100%",
            "_model_name": "FloatProgressModel",
            "bar_style": "success",
            "max": 231508,
            "_view_module": "@jupyter-widgets/controls",
            "_model_module_version": "1.5.0",
            "value": 231508,
            "_view_count": null,
            "_view_module_version": "1.5.0",
            "orientation": "horizontal",
            "min": 0,
            "description_tooltip": null,
            "_model_module": "@jupyter-widgets/controls",
            "layout": "IPY_MODEL_3e9732159b3547cb91fedfe0fdb0da08"
          }
        },
        "b09597d098d948bba30d647fc80f046e": {
          "model_module": "@jupyter-widgets/controls",
          "model_name": "HTMLModel",
          "state": {
            "_view_name": "HTMLView",
            "style": "IPY_MODEL_f10d0cac5d734be88dca9ac5e6a21517",
            "_dom_classes": [],
            "description": "",
            "_model_name": "HTMLModel",
            "placeholder": "​",
            "_view_module": "@jupyter-widgets/controls",
            "_model_module_version": "1.5.0",
            "value": " 232k/232k [00:00&lt;00:00, 1.14MB/s]",
            "_view_count": null,
            "_view_module_version": "1.5.0",
            "description_tooltip": null,
            "_model_module": "@jupyter-widgets/controls",
            "layout": "IPY_MODEL_9a824b0896bf4076a86f42109aaa8b88"
          }
        },
        "7da98c75385f465297b1856b93d42ddc": {
          "model_module": "@jupyter-widgets/controls",
          "model_name": "ProgressStyleModel",
          "state": {
            "_view_name": "StyleView",
            "_model_name": "ProgressStyleModel",
            "description_width": "initial",
            "_view_module": "@jupyter-widgets/base",
            "_model_module_version": "1.5.0",
            "_view_count": null,
            "_view_module_version": "1.2.0",
            "bar_color": null,
            "_model_module": "@jupyter-widgets/controls"
          }
        },
        "3e9732159b3547cb91fedfe0fdb0da08": {
          "model_module": "@jupyter-widgets/base",
          "model_name": "LayoutModel",
          "state": {
            "_view_name": "LayoutView",
            "grid_template_rows": null,
            "right": null,
            "justify_content": null,
            "_view_module": "@jupyter-widgets/base",
            "overflow": null,
            "_model_module_version": "1.2.0",
            "_view_count": null,
            "flex_flow": null,
            "width": null,
            "min_width": null,
            "border": null,
            "align_items": null,
            "bottom": null,
            "_model_module": "@jupyter-widgets/base",
            "top": null,
            "grid_column": null,
            "overflow_y": null,
            "overflow_x": null,
            "grid_auto_flow": null,
            "grid_area": null,
            "grid_template_columns": null,
            "flex": null,
            "_model_name": "LayoutModel",
            "justify_items": null,
            "grid_row": null,
            "max_height": null,
            "align_content": null,
            "visibility": null,
            "align_self": null,
            "height": null,
            "min_height": null,
            "padding": null,
            "grid_auto_rows": null,
            "grid_gap": null,
            "max_width": null,
            "order": null,
            "_view_module_version": "1.2.0",
            "grid_template_areas": null,
            "object_position": null,
            "object_fit": null,
            "grid_auto_columns": null,
            "margin": null,
            "display": null,
            "left": null
          }
        },
        "f10d0cac5d734be88dca9ac5e6a21517": {
          "model_module": "@jupyter-widgets/controls",
          "model_name": "DescriptionStyleModel",
          "state": {
            "_view_name": "StyleView",
            "_model_name": "DescriptionStyleModel",
            "description_width": "",
            "_view_module": "@jupyter-widgets/base",
            "_model_module_version": "1.5.0",
            "_view_count": null,
            "_view_module_version": "1.2.0",
            "_model_module": "@jupyter-widgets/controls"
          }
        },
        "9a824b0896bf4076a86f42109aaa8b88": {
          "model_module": "@jupyter-widgets/base",
          "model_name": "LayoutModel",
          "state": {
            "_view_name": "LayoutView",
            "grid_template_rows": null,
            "right": null,
            "justify_content": null,
            "_view_module": "@jupyter-widgets/base",
            "overflow": null,
            "_model_module_version": "1.2.0",
            "_view_count": null,
            "flex_flow": null,
            "width": null,
            "min_width": null,
            "border": null,
            "align_items": null,
            "bottom": null,
            "_model_module": "@jupyter-widgets/base",
            "top": null,
            "grid_column": null,
            "overflow_y": null,
            "overflow_x": null,
            "grid_auto_flow": null,
            "grid_area": null,
            "grid_template_columns": null,
            "flex": null,
            "_model_name": "LayoutModel",
            "justify_items": null,
            "grid_row": null,
            "max_height": null,
            "align_content": null,
            "visibility": null,
            "align_self": null,
            "height": null,
            "min_height": null,
            "padding": null,
            "grid_auto_rows": null,
            "grid_gap": null,
            "max_width": null,
            "order": null,
            "_view_module_version": "1.2.0",
            "grid_template_areas": null,
            "object_position": null,
            "object_fit": null,
            "grid_auto_columns": null,
            "margin": null,
            "display": null,
            "left": null
          }
        },
        "35d9ec8e17c6462a892d4adce8f24cab": {
          "model_module": "@jupyter-widgets/controls",
          "model_name": "HBoxModel",
          "state": {
            "_view_name": "HBoxView",
            "_dom_classes": [],
            "_model_name": "HBoxModel",
            "_view_module": "@jupyter-widgets/controls",
            "_model_module_version": "1.5.0",
            "_view_count": null,
            "_view_module_version": "1.5.0",
            "box_style": "",
            "layout": "IPY_MODEL_6ef4bdc2a0b540a385d2f57649896469",
            "_model_module": "@jupyter-widgets/controls",
            "children": [
              "IPY_MODEL_c025b3cb280840e98b2b729c12813131",
              "IPY_MODEL_43a6e001b98e4b3e8e72e3c694a7e0c5"
            ]
          }
        },
        "6ef4bdc2a0b540a385d2f57649896469": {
          "model_module": "@jupyter-widgets/base",
          "model_name": "LayoutModel",
          "state": {
            "_view_name": "LayoutView",
            "grid_template_rows": null,
            "right": null,
            "justify_content": null,
            "_view_module": "@jupyter-widgets/base",
            "overflow": null,
            "_model_module_version": "1.2.0",
            "_view_count": null,
            "flex_flow": null,
            "width": null,
            "min_width": null,
            "border": null,
            "align_items": null,
            "bottom": null,
            "_model_module": "@jupyter-widgets/base",
            "top": null,
            "grid_column": null,
            "overflow_y": null,
            "overflow_x": null,
            "grid_auto_flow": null,
            "grid_area": null,
            "grid_template_columns": null,
            "flex": null,
            "_model_name": "LayoutModel",
            "justify_items": null,
            "grid_row": null,
            "max_height": null,
            "align_content": null,
            "visibility": null,
            "align_self": null,
            "height": null,
            "min_height": null,
            "padding": null,
            "grid_auto_rows": null,
            "grid_gap": null,
            "max_width": null,
            "order": null,
            "_view_module_version": "1.2.0",
            "grid_template_areas": null,
            "object_position": null,
            "object_fit": null,
            "grid_auto_columns": null,
            "margin": null,
            "display": null,
            "left": null
          }
        },
        "c025b3cb280840e98b2b729c12813131": {
          "model_module": "@jupyter-widgets/controls",
          "model_name": "FloatProgressModel",
          "state": {
            "_view_name": "ProgressView",
            "style": "IPY_MODEL_a0e01960159144018c8edf2c1dba1889",
            "_dom_classes": [],
            "description": "Downloading: 100%",
            "_model_name": "FloatProgressModel",
            "bar_style": "success",
            "max": 48,
            "_view_module": "@jupyter-widgets/controls",
            "_model_module_version": "1.5.0",
            "value": 48,
            "_view_count": null,
            "_view_module_version": "1.5.0",
            "orientation": "horizontal",
            "min": 0,
            "description_tooltip": null,
            "_model_module": "@jupyter-widgets/controls",
            "layout": "IPY_MODEL_4c6e90e6e0724da9a6739a8da9d5330e"
          }
        },
        "43a6e001b98e4b3e8e72e3c694a7e0c5": {
          "model_module": "@jupyter-widgets/controls",
          "model_name": "HTMLModel",
          "state": {
            "_view_name": "HTMLView",
            "style": "IPY_MODEL_645160e4814a4becb35d0a633efa761d",
            "_dom_classes": [],
            "description": "",
            "_model_name": "HTMLModel",
            "placeholder": "​",
            "_view_module": "@jupyter-widgets/controls",
            "_model_module_version": "1.5.0",
            "value": " 48.0/48.0 [00:00&lt;00:00, 550B/s]",
            "_view_count": null,
            "_view_module_version": "1.5.0",
            "description_tooltip": null,
            "_model_module": "@jupyter-widgets/controls",
            "layout": "IPY_MODEL_dbc955e6d0cc41e8b23fca44d1d6fc6d"
          }
        },
        "a0e01960159144018c8edf2c1dba1889": {
          "model_module": "@jupyter-widgets/controls",
          "model_name": "ProgressStyleModel",
          "state": {
            "_view_name": "StyleView",
            "_model_name": "ProgressStyleModel",
            "description_width": "initial",
            "_view_module": "@jupyter-widgets/base",
            "_model_module_version": "1.5.0",
            "_view_count": null,
            "_view_module_version": "1.2.0",
            "bar_color": null,
            "_model_module": "@jupyter-widgets/controls"
          }
        },
        "4c6e90e6e0724da9a6739a8da9d5330e": {
          "model_module": "@jupyter-widgets/base",
          "model_name": "LayoutModel",
          "state": {
            "_view_name": "LayoutView",
            "grid_template_rows": null,
            "right": null,
            "justify_content": null,
            "_view_module": "@jupyter-widgets/base",
            "overflow": null,
            "_model_module_version": "1.2.0",
            "_view_count": null,
            "flex_flow": null,
            "width": null,
            "min_width": null,
            "border": null,
            "align_items": null,
            "bottom": null,
            "_model_module": "@jupyter-widgets/base",
            "top": null,
            "grid_column": null,
            "overflow_y": null,
            "overflow_x": null,
            "grid_auto_flow": null,
            "grid_area": null,
            "grid_template_columns": null,
            "flex": null,
            "_model_name": "LayoutModel",
            "justify_items": null,
            "grid_row": null,
            "max_height": null,
            "align_content": null,
            "visibility": null,
            "align_self": null,
            "height": null,
            "min_height": null,
            "padding": null,
            "grid_auto_rows": null,
            "grid_gap": null,
            "max_width": null,
            "order": null,
            "_view_module_version": "1.2.0",
            "grid_template_areas": null,
            "object_position": null,
            "object_fit": null,
            "grid_auto_columns": null,
            "margin": null,
            "display": null,
            "left": null
          }
        },
        "645160e4814a4becb35d0a633efa761d": {
          "model_module": "@jupyter-widgets/controls",
          "model_name": "DescriptionStyleModel",
          "state": {
            "_view_name": "StyleView",
            "_model_name": "DescriptionStyleModel",
            "description_width": "",
            "_view_module": "@jupyter-widgets/base",
            "_model_module_version": "1.5.0",
            "_view_count": null,
            "_view_module_version": "1.2.0",
            "_model_module": "@jupyter-widgets/controls"
          }
        },
        "dbc955e6d0cc41e8b23fca44d1d6fc6d": {
          "model_module": "@jupyter-widgets/base",
          "model_name": "LayoutModel",
          "state": {
            "_view_name": "LayoutView",
            "grid_template_rows": null,
            "right": null,
            "justify_content": null,
            "_view_module": "@jupyter-widgets/base",
            "overflow": null,
            "_model_module_version": "1.2.0",
            "_view_count": null,
            "flex_flow": null,
            "width": null,
            "min_width": null,
            "border": null,
            "align_items": null,
            "bottom": null,
            "_model_module": "@jupyter-widgets/base",
            "top": null,
            "grid_column": null,
            "overflow_y": null,
            "overflow_x": null,
            "grid_auto_flow": null,
            "grid_area": null,
            "grid_template_columns": null,
            "flex": null,
            "_model_name": "LayoutModel",
            "justify_items": null,
            "grid_row": null,
            "max_height": null,
            "align_content": null,
            "visibility": null,
            "align_self": null,
            "height": null,
            "min_height": null,
            "padding": null,
            "grid_auto_rows": null,
            "grid_gap": null,
            "max_width": null,
            "order": null,
            "_view_module_version": "1.2.0",
            "grid_template_areas": null,
            "object_position": null,
            "object_fit": null,
            "grid_auto_columns": null,
            "margin": null,
            "display": null,
            "left": null
          }
        },
        "a18761d61a39433eacf5d0dbfa927622": {
          "model_module": "@jupyter-widgets/controls",
          "model_name": "HBoxModel",
          "state": {
            "_view_name": "HBoxView",
            "_dom_classes": [],
            "_model_name": "HBoxModel",
            "_view_module": "@jupyter-widgets/controls",
            "_model_module_version": "1.5.0",
            "_view_count": null,
            "_view_module_version": "1.5.0",
            "box_style": "",
            "layout": "IPY_MODEL_e8e3f9fe8625467c8e08c315b5a1111e",
            "_model_module": "@jupyter-widgets/controls",
            "children": [
              "IPY_MODEL_7f0c8002c3bc4ec9a36cebf0a9231c80",
              "IPY_MODEL_84688dfcf7d64cbf9c65507d0b1cd381"
            ]
          }
        },
        "e8e3f9fe8625467c8e08c315b5a1111e": {
          "model_module": "@jupyter-widgets/base",
          "model_name": "LayoutModel",
          "state": {
            "_view_name": "LayoutView",
            "grid_template_rows": null,
            "right": null,
            "justify_content": null,
            "_view_module": "@jupyter-widgets/base",
            "overflow": null,
            "_model_module_version": "1.2.0",
            "_view_count": null,
            "flex_flow": null,
            "width": null,
            "min_width": null,
            "border": null,
            "align_items": null,
            "bottom": null,
            "_model_module": "@jupyter-widgets/base",
            "top": null,
            "grid_column": null,
            "overflow_y": null,
            "overflow_x": null,
            "grid_auto_flow": null,
            "grid_area": null,
            "grid_template_columns": null,
            "flex": null,
            "_model_name": "LayoutModel",
            "justify_items": null,
            "grid_row": null,
            "max_height": null,
            "align_content": null,
            "visibility": null,
            "align_self": null,
            "height": null,
            "min_height": null,
            "padding": null,
            "grid_auto_rows": null,
            "grid_gap": null,
            "max_width": null,
            "order": null,
            "_view_module_version": "1.2.0",
            "grid_template_areas": null,
            "object_position": null,
            "object_fit": null,
            "grid_auto_columns": null,
            "margin": null,
            "display": null,
            "left": null
          }
        },
        "7f0c8002c3bc4ec9a36cebf0a9231c80": {
          "model_module": "@jupyter-widgets/controls",
          "model_name": "FloatProgressModel",
          "state": {
            "_view_name": "ProgressView",
            "style": "IPY_MODEL_8d33c0551eae4a9e9ec057f76e703a05",
            "_dom_classes": [],
            "description": "Downloading: 100%",
            "_model_name": "FloatProgressModel",
            "bar_style": "success",
            "max": 231508,
            "_view_module": "@jupyter-widgets/controls",
            "_model_module_version": "1.5.0",
            "value": 231508,
            "_view_count": null,
            "_view_module_version": "1.5.0",
            "orientation": "horizontal",
            "min": 0,
            "description_tooltip": null,
            "_model_module": "@jupyter-widgets/controls",
            "layout": "IPY_MODEL_bb88c90d437f45ba97039445763faabb"
          }
        },
        "84688dfcf7d64cbf9c65507d0b1cd381": {
          "model_module": "@jupyter-widgets/controls",
          "model_name": "HTMLModel",
          "state": {
            "_view_name": "HTMLView",
            "style": "IPY_MODEL_d167af83832046b78271926ac0b09d23",
            "_dom_classes": [],
            "description": "",
            "_model_name": "HTMLModel",
            "placeholder": "​",
            "_view_module": "@jupyter-widgets/controls",
            "_model_module_version": "1.5.0",
            "value": " 232k/232k [00:00&lt;00:00, 532kB/s]",
            "_view_count": null,
            "_view_module_version": "1.5.0",
            "description_tooltip": null,
            "_model_module": "@jupyter-widgets/controls",
            "layout": "IPY_MODEL_f6cba8c259004819aa9ebba91d34cb7b"
          }
        },
        "8d33c0551eae4a9e9ec057f76e703a05": {
          "model_module": "@jupyter-widgets/controls",
          "model_name": "ProgressStyleModel",
          "state": {
            "_view_name": "StyleView",
            "_model_name": "ProgressStyleModel",
            "description_width": "initial",
            "_view_module": "@jupyter-widgets/base",
            "_model_module_version": "1.5.0",
            "_view_count": null,
            "_view_module_version": "1.2.0",
            "bar_color": null,
            "_model_module": "@jupyter-widgets/controls"
          }
        },
        "bb88c90d437f45ba97039445763faabb": {
          "model_module": "@jupyter-widgets/base",
          "model_name": "LayoutModel",
          "state": {
            "_view_name": "LayoutView",
            "grid_template_rows": null,
            "right": null,
            "justify_content": null,
            "_view_module": "@jupyter-widgets/base",
            "overflow": null,
            "_model_module_version": "1.2.0",
            "_view_count": null,
            "flex_flow": null,
            "width": null,
            "min_width": null,
            "border": null,
            "align_items": null,
            "bottom": null,
            "_model_module": "@jupyter-widgets/base",
            "top": null,
            "grid_column": null,
            "overflow_y": null,
            "overflow_x": null,
            "grid_auto_flow": null,
            "grid_area": null,
            "grid_template_columns": null,
            "flex": null,
            "_model_name": "LayoutModel",
            "justify_items": null,
            "grid_row": null,
            "max_height": null,
            "align_content": null,
            "visibility": null,
            "align_self": null,
            "height": null,
            "min_height": null,
            "padding": null,
            "grid_auto_rows": null,
            "grid_gap": null,
            "max_width": null,
            "order": null,
            "_view_module_version": "1.2.0",
            "grid_template_areas": null,
            "object_position": null,
            "object_fit": null,
            "grid_auto_columns": null,
            "margin": null,
            "display": null,
            "left": null
          }
        },
        "d167af83832046b78271926ac0b09d23": {
          "model_module": "@jupyter-widgets/controls",
          "model_name": "DescriptionStyleModel",
          "state": {
            "_view_name": "StyleView",
            "_model_name": "DescriptionStyleModel",
            "description_width": "",
            "_view_module": "@jupyter-widgets/base",
            "_model_module_version": "1.5.0",
            "_view_count": null,
            "_view_module_version": "1.2.0",
            "_model_module": "@jupyter-widgets/controls"
          }
        },
        "f6cba8c259004819aa9ebba91d34cb7b": {
          "model_module": "@jupyter-widgets/base",
          "model_name": "LayoutModel",
          "state": {
            "_view_name": "LayoutView",
            "grid_template_rows": null,
            "right": null,
            "justify_content": null,
            "_view_module": "@jupyter-widgets/base",
            "overflow": null,
            "_model_module_version": "1.2.0",
            "_view_count": null,
            "flex_flow": null,
            "width": null,
            "min_width": null,
            "border": null,
            "align_items": null,
            "bottom": null,
            "_model_module": "@jupyter-widgets/base",
            "top": null,
            "grid_column": null,
            "overflow_y": null,
            "overflow_x": null,
            "grid_auto_flow": null,
            "grid_area": null,
            "grid_template_columns": null,
            "flex": null,
            "_model_name": "LayoutModel",
            "justify_items": null,
            "grid_row": null,
            "max_height": null,
            "align_content": null,
            "visibility": null,
            "align_self": null,
            "height": null,
            "min_height": null,
            "padding": null,
            "grid_auto_rows": null,
            "grid_gap": null,
            "max_width": null,
            "order": null,
            "_view_module_version": "1.2.0",
            "grid_template_areas": null,
            "object_position": null,
            "object_fit": null,
            "grid_auto_columns": null,
            "margin": null,
            "display": null,
            "left": null
          }
        },
        "5f9ee2d388794458b4fcf0fd8bd8ebd7": {
          "model_module": "@jupyter-widgets/controls",
          "model_name": "HBoxModel",
          "state": {
            "_view_name": "HBoxView",
            "_dom_classes": [],
            "_model_name": "HBoxModel",
            "_view_module": "@jupyter-widgets/controls",
            "_model_module_version": "1.5.0",
            "_view_count": null,
            "_view_module_version": "1.5.0",
            "box_style": "",
            "layout": "IPY_MODEL_d455217c29964fadba9d09af6b25a543",
            "_model_module": "@jupyter-widgets/controls",
            "children": [
              "IPY_MODEL_f48279f7759f4ca69d6a51322fe0ed4b",
              "IPY_MODEL_2fbf18eca5764dbd93b5c1a82b8b62c0"
            ]
          }
        },
        "d455217c29964fadba9d09af6b25a543": {
          "model_module": "@jupyter-widgets/base",
          "model_name": "LayoutModel",
          "state": {
            "_view_name": "LayoutView",
            "grid_template_rows": null,
            "right": null,
            "justify_content": null,
            "_view_module": "@jupyter-widgets/base",
            "overflow": null,
            "_model_module_version": "1.2.0",
            "_view_count": null,
            "flex_flow": null,
            "width": null,
            "min_width": null,
            "border": null,
            "align_items": null,
            "bottom": null,
            "_model_module": "@jupyter-widgets/base",
            "top": null,
            "grid_column": null,
            "overflow_y": null,
            "overflow_x": null,
            "grid_auto_flow": null,
            "grid_area": null,
            "grid_template_columns": null,
            "flex": null,
            "_model_name": "LayoutModel",
            "justify_items": null,
            "grid_row": null,
            "max_height": null,
            "align_content": null,
            "visibility": null,
            "align_self": null,
            "height": null,
            "min_height": null,
            "padding": null,
            "grid_auto_rows": null,
            "grid_gap": null,
            "max_width": null,
            "order": null,
            "_view_module_version": "1.2.0",
            "grid_template_areas": null,
            "object_position": null,
            "object_fit": null,
            "grid_auto_columns": null,
            "margin": null,
            "display": null,
            "left": null
          }
        },
        "f48279f7759f4ca69d6a51322fe0ed4b": {
          "model_module": "@jupyter-widgets/controls",
          "model_name": "FloatProgressModel",
          "state": {
            "_view_name": "ProgressView",
            "style": "IPY_MODEL_e8954b67f23c438cb126f7aeca1227d3",
            "_dom_classes": [],
            "description": "Downloading: 100%",
            "_model_name": "FloatProgressModel",
            "bar_style": "success",
            "max": 28,
            "_view_module": "@jupyter-widgets/controls",
            "_model_module_version": "1.5.0",
            "value": 28,
            "_view_count": null,
            "_view_module_version": "1.5.0",
            "orientation": "horizontal",
            "min": 0,
            "description_tooltip": null,
            "_model_module": "@jupyter-widgets/controls",
            "layout": "IPY_MODEL_4296f6a511ed4f79ad277f892bb95e59"
          }
        },
        "2fbf18eca5764dbd93b5c1a82b8b62c0": {
          "model_module": "@jupyter-widgets/controls",
          "model_name": "HTMLModel",
          "state": {
            "_view_name": "HTMLView",
            "style": "IPY_MODEL_e5f039bc1f6c404abec41bb7bc80507b",
            "_dom_classes": [],
            "description": "",
            "_model_name": "HTMLModel",
            "placeholder": "​",
            "_view_module": "@jupyter-widgets/controls",
            "_model_module_version": "1.5.0",
            "value": " 28.0/28.0 [00:00&lt;00:00, 110B/s]",
            "_view_count": null,
            "_view_module_version": "1.5.0",
            "description_tooltip": null,
            "_model_module": "@jupyter-widgets/controls",
            "layout": "IPY_MODEL_3aeed401f9204bc5b6ac76a8d368cb2e"
          }
        },
        "e8954b67f23c438cb126f7aeca1227d3": {
          "model_module": "@jupyter-widgets/controls",
          "model_name": "ProgressStyleModel",
          "state": {
            "_view_name": "StyleView",
            "_model_name": "ProgressStyleModel",
            "description_width": "initial",
            "_view_module": "@jupyter-widgets/base",
            "_model_module_version": "1.5.0",
            "_view_count": null,
            "_view_module_version": "1.2.0",
            "bar_color": null,
            "_model_module": "@jupyter-widgets/controls"
          }
        },
        "4296f6a511ed4f79ad277f892bb95e59": {
          "model_module": "@jupyter-widgets/base",
          "model_name": "LayoutModel",
          "state": {
            "_view_name": "LayoutView",
            "grid_template_rows": null,
            "right": null,
            "justify_content": null,
            "_view_module": "@jupyter-widgets/base",
            "overflow": null,
            "_model_module_version": "1.2.0",
            "_view_count": null,
            "flex_flow": null,
            "width": null,
            "min_width": null,
            "border": null,
            "align_items": null,
            "bottom": null,
            "_model_module": "@jupyter-widgets/base",
            "top": null,
            "grid_column": null,
            "overflow_y": null,
            "overflow_x": null,
            "grid_auto_flow": null,
            "grid_area": null,
            "grid_template_columns": null,
            "flex": null,
            "_model_name": "LayoutModel",
            "justify_items": null,
            "grid_row": null,
            "max_height": null,
            "align_content": null,
            "visibility": null,
            "align_self": null,
            "height": null,
            "min_height": null,
            "padding": null,
            "grid_auto_rows": null,
            "grid_gap": null,
            "max_width": null,
            "order": null,
            "_view_module_version": "1.2.0",
            "grid_template_areas": null,
            "object_position": null,
            "object_fit": null,
            "grid_auto_columns": null,
            "margin": null,
            "display": null,
            "left": null
          }
        },
        "e5f039bc1f6c404abec41bb7bc80507b": {
          "model_module": "@jupyter-widgets/controls",
          "model_name": "DescriptionStyleModel",
          "state": {
            "_view_name": "StyleView",
            "_model_name": "DescriptionStyleModel",
            "description_width": "",
            "_view_module": "@jupyter-widgets/base",
            "_model_module_version": "1.5.0",
            "_view_count": null,
            "_view_module_version": "1.2.0",
            "_model_module": "@jupyter-widgets/controls"
          }
        },
        "3aeed401f9204bc5b6ac76a8d368cb2e": {
          "model_module": "@jupyter-widgets/base",
          "model_name": "LayoutModel",
          "state": {
            "_view_name": "LayoutView",
            "grid_template_rows": null,
            "right": null,
            "justify_content": null,
            "_view_module": "@jupyter-widgets/base",
            "overflow": null,
            "_model_module_version": "1.2.0",
            "_view_count": null,
            "flex_flow": null,
            "width": null,
            "min_width": null,
            "border": null,
            "align_items": null,
            "bottom": null,
            "_model_module": "@jupyter-widgets/base",
            "top": null,
            "grid_column": null,
            "overflow_y": null,
            "overflow_x": null,
            "grid_auto_flow": null,
            "grid_area": null,
            "grid_template_columns": null,
            "flex": null,
            "_model_name": "LayoutModel",
            "justify_items": null,
            "grid_row": null,
            "max_height": null,
            "align_content": null,
            "visibility": null,
            "align_self": null,
            "height": null,
            "min_height": null,
            "padding": null,
            "grid_auto_rows": null,
            "grid_gap": null,
            "max_width": null,
            "order": null,
            "_view_module_version": "1.2.0",
            "grid_template_areas": null,
            "object_position": null,
            "object_fit": null,
            "grid_auto_columns": null,
            "margin": null,
            "display": null,
            "left": null
          }
        },
        "0b04db9336f24e48acd3ed94ca8a3357": {
          "model_module": "@jupyter-widgets/controls",
          "model_name": "HBoxModel",
          "state": {
            "_view_name": "HBoxView",
            "_dom_classes": [],
            "_model_name": "HBoxModel",
            "_view_module": "@jupyter-widgets/controls",
            "_model_module_version": "1.5.0",
            "_view_count": null,
            "_view_module_version": "1.5.0",
            "box_style": "",
            "layout": "IPY_MODEL_3f3feb8e3bbf4db8993e00a0676c4b34",
            "_model_module": "@jupyter-widgets/controls",
            "children": [
              "IPY_MODEL_245fb108b1354d78b69e4f077dda796b",
              "IPY_MODEL_6586d7083ce5466e9c4c9422d44d72c8"
            ]
          }
        },
        "3f3feb8e3bbf4db8993e00a0676c4b34": {
          "model_module": "@jupyter-widgets/base",
          "model_name": "LayoutModel",
          "state": {
            "_view_name": "LayoutView",
            "grid_template_rows": null,
            "right": null,
            "justify_content": null,
            "_view_module": "@jupyter-widgets/base",
            "overflow": null,
            "_model_module_version": "1.2.0",
            "_view_count": null,
            "flex_flow": null,
            "width": null,
            "min_width": null,
            "border": null,
            "align_items": null,
            "bottom": null,
            "_model_module": "@jupyter-widgets/base",
            "top": null,
            "grid_column": null,
            "overflow_y": null,
            "overflow_x": null,
            "grid_auto_flow": null,
            "grid_area": null,
            "grid_template_columns": null,
            "flex": null,
            "_model_name": "LayoutModel",
            "justify_items": null,
            "grid_row": null,
            "max_height": null,
            "align_content": null,
            "visibility": null,
            "align_self": null,
            "height": null,
            "min_height": null,
            "padding": null,
            "grid_auto_rows": null,
            "grid_gap": null,
            "max_width": null,
            "order": null,
            "_view_module_version": "1.2.0",
            "grid_template_areas": null,
            "object_position": null,
            "object_fit": null,
            "grid_auto_columns": null,
            "margin": null,
            "display": null,
            "left": null
          }
        },
        "245fb108b1354d78b69e4f077dda796b": {
          "model_module": "@jupyter-widgets/controls",
          "model_name": "FloatProgressModel",
          "state": {
            "_view_name": "ProgressView",
            "style": "IPY_MODEL_93aa977d35f54d11b6d207a8fee885ea",
            "_dom_classes": [],
            "description": "Downloading: 100%",
            "_model_name": "FloatProgressModel",
            "bar_style": "success",
            "max": 466062,
            "_view_module": "@jupyter-widgets/controls",
            "_model_module_version": "1.5.0",
            "value": 466062,
            "_view_count": null,
            "_view_module_version": "1.5.0",
            "orientation": "horizontal",
            "min": 0,
            "description_tooltip": null,
            "_model_module": "@jupyter-widgets/controls",
            "layout": "IPY_MODEL_396584f0e6c94a87bed6480535c78a98"
          }
        },
        "6586d7083ce5466e9c4c9422d44d72c8": {
          "model_module": "@jupyter-widgets/controls",
          "model_name": "HTMLModel",
          "state": {
            "_view_name": "HTMLView",
            "style": "IPY_MODEL_e7e4e89618534867805b29f8e98b2951",
            "_dom_classes": [],
            "description": "",
            "_model_name": "HTMLModel",
            "placeholder": "​",
            "_view_module": "@jupyter-widgets/controls",
            "_model_module_version": "1.5.0",
            "value": " 466k/466k [00:00&lt;00:00, 3.95MB/s]",
            "_view_count": null,
            "_view_module_version": "1.5.0",
            "description_tooltip": null,
            "_model_module": "@jupyter-widgets/controls",
            "layout": "IPY_MODEL_0f172fb97ec34de6a1ac5e931302d20f"
          }
        },
        "93aa977d35f54d11b6d207a8fee885ea": {
          "model_module": "@jupyter-widgets/controls",
          "model_name": "ProgressStyleModel",
          "state": {
            "_view_name": "StyleView",
            "_model_name": "ProgressStyleModel",
            "description_width": "initial",
            "_view_module": "@jupyter-widgets/base",
            "_model_module_version": "1.5.0",
            "_view_count": null,
            "_view_module_version": "1.2.0",
            "bar_color": null,
            "_model_module": "@jupyter-widgets/controls"
          }
        },
        "396584f0e6c94a87bed6480535c78a98": {
          "model_module": "@jupyter-widgets/base",
          "model_name": "LayoutModel",
          "state": {
            "_view_name": "LayoutView",
            "grid_template_rows": null,
            "right": null,
            "justify_content": null,
            "_view_module": "@jupyter-widgets/base",
            "overflow": null,
            "_model_module_version": "1.2.0",
            "_view_count": null,
            "flex_flow": null,
            "width": null,
            "min_width": null,
            "border": null,
            "align_items": null,
            "bottom": null,
            "_model_module": "@jupyter-widgets/base",
            "top": null,
            "grid_column": null,
            "overflow_y": null,
            "overflow_x": null,
            "grid_auto_flow": null,
            "grid_area": null,
            "grid_template_columns": null,
            "flex": null,
            "_model_name": "LayoutModel",
            "justify_items": null,
            "grid_row": null,
            "max_height": null,
            "align_content": null,
            "visibility": null,
            "align_self": null,
            "height": null,
            "min_height": null,
            "padding": null,
            "grid_auto_rows": null,
            "grid_gap": null,
            "max_width": null,
            "order": null,
            "_view_module_version": "1.2.0",
            "grid_template_areas": null,
            "object_position": null,
            "object_fit": null,
            "grid_auto_columns": null,
            "margin": null,
            "display": null,
            "left": null
          }
        },
        "e7e4e89618534867805b29f8e98b2951": {
          "model_module": "@jupyter-widgets/controls",
          "model_name": "DescriptionStyleModel",
          "state": {
            "_view_name": "StyleView",
            "_model_name": "DescriptionStyleModel",
            "description_width": "",
            "_view_module": "@jupyter-widgets/base",
            "_model_module_version": "1.5.0",
            "_view_count": null,
            "_view_module_version": "1.2.0",
            "_model_module": "@jupyter-widgets/controls"
          }
        },
        "0f172fb97ec34de6a1ac5e931302d20f": {
          "model_module": "@jupyter-widgets/base",
          "model_name": "LayoutModel",
          "state": {
            "_view_name": "LayoutView",
            "grid_template_rows": null,
            "right": null,
            "justify_content": null,
            "_view_module": "@jupyter-widgets/base",
            "overflow": null,
            "_model_module_version": "1.2.0",
            "_view_count": null,
            "flex_flow": null,
            "width": null,
            "min_width": null,
            "border": null,
            "align_items": null,
            "bottom": null,
            "_model_module": "@jupyter-widgets/base",
            "top": null,
            "grid_column": null,
            "overflow_y": null,
            "overflow_x": null,
            "grid_auto_flow": null,
            "grid_area": null,
            "grid_template_columns": null,
            "flex": null,
            "_model_name": "LayoutModel",
            "justify_items": null,
            "grid_row": null,
            "max_height": null,
            "align_content": null,
            "visibility": null,
            "align_self": null,
            "height": null,
            "min_height": null,
            "padding": null,
            "grid_auto_rows": null,
            "grid_gap": null,
            "max_width": null,
            "order": null,
            "_view_module_version": "1.2.0",
            "grid_template_areas": null,
            "object_position": null,
            "object_fit": null,
            "grid_auto_columns": null,
            "margin": null,
            "display": null,
            "left": null
          }
        },
        "46088d515a414e208b9c84ead9e046da": {
          "model_module": "@jupyter-widgets/controls",
          "model_name": "HBoxModel",
          "state": {
            "_view_name": "HBoxView",
            "_dom_classes": [],
            "_model_name": "HBoxModel",
            "_view_module": "@jupyter-widgets/controls",
            "_model_module_version": "1.5.0",
            "_view_count": null,
            "_view_module_version": "1.5.0",
            "box_style": "",
            "layout": "IPY_MODEL_52caa5a6cbd04505931d4d8bbb60b35c",
            "_model_module": "@jupyter-widgets/controls",
            "children": [
              "IPY_MODEL_f0c62816ca614516899741a51c2ca4cf",
              "IPY_MODEL_db88309dbacc464b805e87e37f442fdd"
            ]
          }
        },
        "52caa5a6cbd04505931d4d8bbb60b35c": {
          "model_module": "@jupyter-widgets/base",
          "model_name": "LayoutModel",
          "state": {
            "_view_name": "LayoutView",
            "grid_template_rows": null,
            "right": null,
            "justify_content": null,
            "_view_module": "@jupyter-widgets/base",
            "overflow": null,
            "_model_module_version": "1.2.0",
            "_view_count": null,
            "flex_flow": null,
            "width": null,
            "min_width": null,
            "border": null,
            "align_items": null,
            "bottom": null,
            "_model_module": "@jupyter-widgets/base",
            "top": null,
            "grid_column": null,
            "overflow_y": null,
            "overflow_x": null,
            "grid_auto_flow": null,
            "grid_area": null,
            "grid_template_columns": null,
            "flex": null,
            "_model_name": "LayoutModel",
            "justify_items": null,
            "grid_row": null,
            "max_height": null,
            "align_content": null,
            "visibility": null,
            "align_self": null,
            "height": null,
            "min_height": null,
            "padding": null,
            "grid_auto_rows": null,
            "grid_gap": null,
            "max_width": null,
            "order": null,
            "_view_module_version": "1.2.0",
            "grid_template_areas": null,
            "object_position": null,
            "object_fit": null,
            "grid_auto_columns": null,
            "margin": null,
            "display": null,
            "left": null
          }
        },
        "f0c62816ca614516899741a51c2ca4cf": {
          "model_module": "@jupyter-widgets/controls",
          "model_name": "FloatProgressModel",
          "state": {
            "_view_name": "ProgressView",
            "style": "IPY_MODEL_dbd3bc91e6eb47d485e7539f2c1cee8d",
            "_dom_classes": [],
            "description": "Downloading: 100%",
            "_model_name": "FloatProgressModel",
            "bar_style": "success",
            "max": 433,
            "_view_module": "@jupyter-widgets/controls",
            "_model_module_version": "1.5.0",
            "value": 433,
            "_view_count": null,
            "_view_module_version": "1.5.0",
            "orientation": "horizontal",
            "min": 0,
            "description_tooltip": null,
            "_model_module": "@jupyter-widgets/controls",
            "layout": "IPY_MODEL_26c4a0c88a5847e295bd2e2627534132"
          }
        },
        "db88309dbacc464b805e87e37f442fdd": {
          "model_module": "@jupyter-widgets/controls",
          "model_name": "HTMLModel",
          "state": {
            "_view_name": "HTMLView",
            "style": "IPY_MODEL_a88e14379add40c2a8ab546b81bfd592",
            "_dom_classes": [],
            "description": "",
            "_model_name": "HTMLModel",
            "placeholder": "​",
            "_view_module": "@jupyter-widgets/controls",
            "_model_module_version": "1.5.0",
            "value": " 433/433 [00:12&lt;00:00, 33.9B/s]",
            "_view_count": null,
            "_view_module_version": "1.5.0",
            "description_tooltip": null,
            "_model_module": "@jupyter-widgets/controls",
            "layout": "IPY_MODEL_2c9ffbd495f24477ad1e7643b38ba680"
          }
        },
        "dbd3bc91e6eb47d485e7539f2c1cee8d": {
          "model_module": "@jupyter-widgets/controls",
          "model_name": "ProgressStyleModel",
          "state": {
            "_view_name": "StyleView",
            "_model_name": "ProgressStyleModel",
            "description_width": "initial",
            "_view_module": "@jupyter-widgets/base",
            "_model_module_version": "1.5.0",
            "_view_count": null,
            "_view_module_version": "1.2.0",
            "bar_color": null,
            "_model_module": "@jupyter-widgets/controls"
          }
        },
        "26c4a0c88a5847e295bd2e2627534132": {
          "model_module": "@jupyter-widgets/base",
          "model_name": "LayoutModel",
          "state": {
            "_view_name": "LayoutView",
            "grid_template_rows": null,
            "right": null,
            "justify_content": null,
            "_view_module": "@jupyter-widgets/base",
            "overflow": null,
            "_model_module_version": "1.2.0",
            "_view_count": null,
            "flex_flow": null,
            "width": null,
            "min_width": null,
            "border": null,
            "align_items": null,
            "bottom": null,
            "_model_module": "@jupyter-widgets/base",
            "top": null,
            "grid_column": null,
            "overflow_y": null,
            "overflow_x": null,
            "grid_auto_flow": null,
            "grid_area": null,
            "grid_template_columns": null,
            "flex": null,
            "_model_name": "LayoutModel",
            "justify_items": null,
            "grid_row": null,
            "max_height": null,
            "align_content": null,
            "visibility": null,
            "align_self": null,
            "height": null,
            "min_height": null,
            "padding": null,
            "grid_auto_rows": null,
            "grid_gap": null,
            "max_width": null,
            "order": null,
            "_view_module_version": "1.2.0",
            "grid_template_areas": null,
            "object_position": null,
            "object_fit": null,
            "grid_auto_columns": null,
            "margin": null,
            "display": null,
            "left": null
          }
        },
        "a88e14379add40c2a8ab546b81bfd592": {
          "model_module": "@jupyter-widgets/controls",
          "model_name": "DescriptionStyleModel",
          "state": {
            "_view_name": "StyleView",
            "_model_name": "DescriptionStyleModel",
            "description_width": "",
            "_view_module": "@jupyter-widgets/base",
            "_model_module_version": "1.5.0",
            "_view_count": null,
            "_view_module_version": "1.2.0",
            "_model_module": "@jupyter-widgets/controls"
          }
        },
        "2c9ffbd495f24477ad1e7643b38ba680": {
          "model_module": "@jupyter-widgets/base",
          "model_name": "LayoutModel",
          "state": {
            "_view_name": "LayoutView",
            "grid_template_rows": null,
            "right": null,
            "justify_content": null,
            "_view_module": "@jupyter-widgets/base",
            "overflow": null,
            "_model_module_version": "1.2.0",
            "_view_count": null,
            "flex_flow": null,
            "width": null,
            "min_width": null,
            "border": null,
            "align_items": null,
            "bottom": null,
            "_model_module": "@jupyter-widgets/base",
            "top": null,
            "grid_column": null,
            "overflow_y": null,
            "overflow_x": null,
            "grid_auto_flow": null,
            "grid_area": null,
            "grid_template_columns": null,
            "flex": null,
            "_model_name": "LayoutModel",
            "justify_items": null,
            "grid_row": null,
            "max_height": null,
            "align_content": null,
            "visibility": null,
            "align_self": null,
            "height": null,
            "min_height": null,
            "padding": null,
            "grid_auto_rows": null,
            "grid_gap": null,
            "max_width": null,
            "order": null,
            "_view_module_version": "1.2.0",
            "grid_template_areas": null,
            "object_position": null,
            "object_fit": null,
            "grid_auto_columns": null,
            "margin": null,
            "display": null,
            "left": null
          }
        },
        "441bc9d050d34eca8681849ba5633ab7": {
          "model_module": "@jupyter-widgets/controls",
          "model_name": "HBoxModel",
          "state": {
            "_view_name": "HBoxView",
            "_dom_classes": [],
            "_model_name": "HBoxModel",
            "_view_module": "@jupyter-widgets/controls",
            "_model_module_version": "1.5.0",
            "_view_count": null,
            "_view_module_version": "1.5.0",
            "box_style": "",
            "layout": "IPY_MODEL_1b86d69bd79540b3b14c53b9e6cee0f6",
            "_model_module": "@jupyter-widgets/controls",
            "children": [
              "IPY_MODEL_a473566a5ae549a3a1fa2312d2c0e325",
              "IPY_MODEL_a39ce615c9be42aaa08dd8121a45f3a2"
            ]
          }
        },
        "1b86d69bd79540b3b14c53b9e6cee0f6": {
          "model_module": "@jupyter-widgets/base",
          "model_name": "LayoutModel",
          "state": {
            "_view_name": "LayoutView",
            "grid_template_rows": null,
            "right": null,
            "justify_content": null,
            "_view_module": "@jupyter-widgets/base",
            "overflow": null,
            "_model_module_version": "1.2.0",
            "_view_count": null,
            "flex_flow": null,
            "width": null,
            "min_width": null,
            "border": null,
            "align_items": null,
            "bottom": null,
            "_model_module": "@jupyter-widgets/base",
            "top": null,
            "grid_column": null,
            "overflow_y": null,
            "overflow_x": null,
            "grid_auto_flow": null,
            "grid_area": null,
            "grid_template_columns": null,
            "flex": null,
            "_model_name": "LayoutModel",
            "justify_items": null,
            "grid_row": null,
            "max_height": null,
            "align_content": null,
            "visibility": null,
            "align_self": null,
            "height": null,
            "min_height": null,
            "padding": null,
            "grid_auto_rows": null,
            "grid_gap": null,
            "max_width": null,
            "order": null,
            "_view_module_version": "1.2.0",
            "grid_template_areas": null,
            "object_position": null,
            "object_fit": null,
            "grid_auto_columns": null,
            "margin": null,
            "display": null,
            "left": null
          }
        },
        "a473566a5ae549a3a1fa2312d2c0e325": {
          "model_module": "@jupyter-widgets/controls",
          "model_name": "FloatProgressModel",
          "state": {
            "_view_name": "ProgressView",
            "style": "IPY_MODEL_fcb10c4270e2435f948f0e71c29e07b8",
            "_dom_classes": [],
            "description": "Downloading: 100%",
            "_model_name": "FloatProgressModel",
            "bar_style": "success",
            "max": 536063208,
            "_view_module": "@jupyter-widgets/controls",
            "_model_module_version": "1.5.0",
            "value": 536063208,
            "_view_count": null,
            "_view_module_version": "1.5.0",
            "orientation": "horizontal",
            "min": 0,
            "description_tooltip": null,
            "_model_module": "@jupyter-widgets/controls",
            "layout": "IPY_MODEL_8b8e04c09b234de18b247e1cf002a73e"
          }
        },
        "a39ce615c9be42aaa08dd8121a45f3a2": {
          "model_module": "@jupyter-widgets/controls",
          "model_name": "HTMLModel",
          "state": {
            "_view_name": "HTMLView",
            "style": "IPY_MODEL_2eb905cbd7554f5da6a949865f514db4",
            "_dom_classes": [],
            "description": "",
            "_model_name": "HTMLModel",
            "placeholder": "​",
            "_view_module": "@jupyter-widgets/controls",
            "_model_module_version": "1.5.0",
            "value": " 536M/536M [00:12&lt;00:00, 42.7MB/s]",
            "_view_count": null,
            "_view_module_version": "1.5.0",
            "description_tooltip": null,
            "_model_module": "@jupyter-widgets/controls",
            "layout": "IPY_MODEL_6096d71f76ad44f9ac0f11aee9162c17"
          }
        },
        "fcb10c4270e2435f948f0e71c29e07b8": {
          "model_module": "@jupyter-widgets/controls",
          "model_name": "ProgressStyleModel",
          "state": {
            "_view_name": "StyleView",
            "_model_name": "ProgressStyleModel",
            "description_width": "initial",
            "_view_module": "@jupyter-widgets/base",
            "_model_module_version": "1.5.0",
            "_view_count": null,
            "_view_module_version": "1.2.0",
            "bar_color": null,
            "_model_module": "@jupyter-widgets/controls"
          }
        },
        "8b8e04c09b234de18b247e1cf002a73e": {
          "model_module": "@jupyter-widgets/base",
          "model_name": "LayoutModel",
          "state": {
            "_view_name": "LayoutView",
            "grid_template_rows": null,
            "right": null,
            "justify_content": null,
            "_view_module": "@jupyter-widgets/base",
            "overflow": null,
            "_model_module_version": "1.2.0",
            "_view_count": null,
            "flex_flow": null,
            "width": null,
            "min_width": null,
            "border": null,
            "align_items": null,
            "bottom": null,
            "_model_module": "@jupyter-widgets/base",
            "top": null,
            "grid_column": null,
            "overflow_y": null,
            "overflow_x": null,
            "grid_auto_flow": null,
            "grid_area": null,
            "grid_template_columns": null,
            "flex": null,
            "_model_name": "LayoutModel",
            "justify_items": null,
            "grid_row": null,
            "max_height": null,
            "align_content": null,
            "visibility": null,
            "align_self": null,
            "height": null,
            "min_height": null,
            "padding": null,
            "grid_auto_rows": null,
            "grid_gap": null,
            "max_width": null,
            "order": null,
            "_view_module_version": "1.2.0",
            "grid_template_areas": null,
            "object_position": null,
            "object_fit": null,
            "grid_auto_columns": null,
            "margin": null,
            "display": null,
            "left": null
          }
        },
        "2eb905cbd7554f5da6a949865f514db4": {
          "model_module": "@jupyter-widgets/controls",
          "model_name": "DescriptionStyleModel",
          "state": {
            "_view_name": "StyleView",
            "_model_name": "DescriptionStyleModel",
            "description_width": "",
            "_view_module": "@jupyter-widgets/base",
            "_model_module_version": "1.5.0",
            "_view_count": null,
            "_view_module_version": "1.2.0",
            "_model_module": "@jupyter-widgets/controls"
          }
        },
        "6096d71f76ad44f9ac0f11aee9162c17": {
          "model_module": "@jupyter-widgets/base",
          "model_name": "LayoutModel",
          "state": {
            "_view_name": "LayoutView",
            "grid_template_rows": null,
            "right": null,
            "justify_content": null,
            "_view_module": "@jupyter-widgets/base",
            "overflow": null,
            "_model_module_version": "1.2.0",
            "_view_count": null,
            "flex_flow": null,
            "width": null,
            "min_width": null,
            "border": null,
            "align_items": null,
            "bottom": null,
            "_model_module": "@jupyter-widgets/base",
            "top": null,
            "grid_column": null,
            "overflow_y": null,
            "overflow_x": null,
            "grid_auto_flow": null,
            "grid_area": null,
            "grid_template_columns": null,
            "flex": null,
            "_model_name": "LayoutModel",
            "justify_items": null,
            "grid_row": null,
            "max_height": null,
            "align_content": null,
            "visibility": null,
            "align_self": null,
            "height": null,
            "min_height": null,
            "padding": null,
            "grid_auto_rows": null,
            "grid_gap": null,
            "max_width": null,
            "order": null,
            "_view_module_version": "1.2.0",
            "grid_template_areas": null,
            "object_position": null,
            "object_fit": null,
            "grid_auto_columns": null,
            "margin": null,
            "display": null,
            "left": null
          }
        }
      }
    }
  },
  "cells": [
    {
      "cell_type": "markdown",
      "metadata": {
        "id": "view-in-github",
        "colab_type": "text"
      },
      "source": [
        "<a href=\"https://colab.research.google.com/github/JacobFV/sodp-team114/blob/main/Sentiment_and_Semantics_of_COVID_Vaccine_Related_Tweets.ipynb\" target=\"_parent\"><img src=\"https://colab.research.google.com/assets/colab-badge.svg\" alt=\"Open In Colab\"/></a>"
      ]
    },
    {
      "cell_type": "markdown",
      "metadata": {
        "id": "dZPx_loYMU83"
      },
      "source": [
        "# SODP-team114\n",
        "\n",
        "MASAYA HEYWOOD, KOPAL MATHUR, TEDDY SANDLER, JENNA SIMON, AND JACOB VALDEZ\n",
        "\n",
        "Welcome to our Jupyter Notebook analyzing sentiment and semantics of COVID vaccine related tweets. This notebook, its encompassing repository, and accompannying website represents Team 114's submission in the 2021 Stanford Open Datathon."
      ]
    },
    {
      "cell_type": "markdown",
      "metadata": {
        "id": "1q95EfHKL3XN"
      },
      "source": [
        "## Getting Started"
      ]
    },
    {
      "cell_type": "code",
      "metadata": {
        "colab": {
          "base_uri": "https://localhost:8080/"
        },
        "id": "PnaQhLje0dJF",
        "outputId": "0202c366-24dd-4785-b8d9-e48758ab9e8d"
      },
      "source": [
        "import random\n",
        "import datetime\n",
        "\n",
        "import numpy as np\n",
        "import pandas as pd\n",
        "import matplotlib.pyplot as plt\n",
        "import seaborn as sns\n",
        "import scipy\n",
        "import scipy.signal\n",
        "import IPython.display\n",
        "\n",
        "import tensorflow as tf\n",
        "\n",
        "!pip install -q hypertools transformers\n",
        "import hypertools as hyp\n",
        "import transformers"
      ],
      "execution_count": 1,
      "outputs": [
        {
          "output_type": "stream",
          "text": [
            "/usr/local/lib/python3.7/dist-packages/hypertools/plot/__init__.py:10: UserWarning: Could not switch backend to TkAgg.  This may impact performance of the plotting functions.\n",
            "  warnings.warn('Could not switch backend to TkAgg.  This may impact performance of the plotting functions.')\n"
          ],
          "name": "stderr"
        }
      ]
    },
    {
      "cell_type": "markdown",
      "metadata": {
        "id": "sKxsi-cL2Qkj"
      },
      "source": [
        "## Load and process data"
      ]
    },
    {
      "cell_type": "code",
      "metadata": {
        "colab": {
          "base_uri": "https://localhost:8080/"
        },
        "id": "WxbfuW7H02Ha",
        "outputId": "7cc7b10a-1c9a-422a-f68c-5b8d2a1177b7"
      },
      "source": [
        "# I uploaded data.tar.xz\n",
        "!tar -xf data.tar.xz"
      ],
      "execution_count": 3,
      "outputs": [
        {
          "output_type": "stream",
          "text": [
            "xz: (stdin): Unexpected end of input\n",
            "tar: Unexpected EOF in archive\n",
            "tar: Unexpected EOF in archive\n",
            "tar: Error is not recoverable: exiting now\n"
          ],
          "name": "stdout"
        }
      ]
    },
    {
      "cell_type": "code",
      "metadata": {
        "id": "ZAhRaSMt03iC"
      },
      "source": [
        "df1 = pd.read_csv('data/hashtag_covid_vaccine-1.csv')\n",
        "df2 = pd.read_csv('data/hashtag_covid_vaccine-2.csv')\n",
        "df3 = pd.read_csv('data/hashtag_covid_vaccine-3.csv')"
      ],
      "execution_count": 19,
      "outputs": []
    },
    {
      "cell_type": "markdown",
      "metadata": {
        "id": "rUkzbnPv3WFC"
      },
      "source": [
        "### Processing `df1`"
      ]
    },
    {
      "cell_type": "code",
      "metadata": {
        "colab": {
          "base_uri": "https://localhost:8080/",
          "height": 164
        },
        "id": "ufpv-B4C2an9",
        "outputId": "5c98c7ba-79fe-4b1b-8d34-f4ec3b14348c"
      },
      "source": [
        "df1.head(1)"
      ],
      "execution_count": 20,
      "outputs": [
        {
          "output_type": "execute_result",
          "data": {
            "text/html": [
              "<div>\n",
              "<style scoped>\n",
              "    .dataframe tbody tr th:only-of-type {\n",
              "        vertical-align: middle;\n",
              "    }\n",
              "\n",
              "    .dataframe tbody tr th {\n",
              "        vertical-align: top;\n",
              "    }\n",
              "\n",
              "    .dataframe thead th {\n",
              "        text-align: right;\n",
              "    }\n",
              "</style>\n",
              "<table border=\"1\" class=\"dataframe\">\n",
              "  <thead>\n",
              "    <tr style=\"text-align: right;\">\n",
              "      <th></th>\n",
              "      <th>user_name</th>\n",
              "      <th>user_location</th>\n",
              "      <th>user_description</th>\n",
              "      <th>user_created</th>\n",
              "      <th>user_followers</th>\n",
              "      <th>user_friends</th>\n",
              "      <th>user_favourites</th>\n",
              "      <th>user_verified</th>\n",
              "      <th>date</th>\n",
              "      <th>text</th>\n",
              "      <th>hashtags</th>\n",
              "      <th>source</th>\n",
              "      <th>is_retweet</th>\n",
              "    </tr>\n",
              "  </thead>\n",
              "  <tbody>\n",
              "    <tr>\n",
              "      <th>0</th>\n",
              "      <td>MyNewsNE</td>\n",
              "      <td>Assam</td>\n",
              "      <td>MyNewsNE a dedicated multi-lingual media house...</td>\n",
              "      <td>24-05-2020 10:18</td>\n",
              "      <td>64.0</td>\n",
              "      <td>11.0</td>\n",
              "      <td>110.0</td>\n",
              "      <td>False</td>\n",
              "      <td>18-08-2020 12:55</td>\n",
              "      <td>Australia to Manufacture Covid-19 Vaccine and ...</td>\n",
              "      <td>['CovidVaccine']</td>\n",
              "      <td>Twitter Web App</td>\n",
              "      <td>False</td>\n",
              "    </tr>\n",
              "  </tbody>\n",
              "</table>\n",
              "</div>"
            ],
            "text/plain": [
              "  user_name user_location  ...           source is_retweet\n",
              "0  MyNewsNE         Assam  ...  Twitter Web App      False\n",
              "\n",
              "[1 rows x 13 columns]"
            ]
          },
          "metadata": {
            "tags": []
          },
          "execution_count": 20
        }
      ]
    },
    {
      "cell_type": "code",
      "metadata": {
        "id": "7THF_jyb2alw"
      },
      "source": [
        "tmp = []\n",
        "for i, row in df1.iterrows():\n",
        "\n",
        "    try:\n",
        "        date = datetime.datetime.strptime(row.date, '%d-%m-%Y %H:%M')\n",
        "    except:\n",
        "        try:\n",
        "            data = datetime.datetime.strptime(row.date, '%Y-%m-%d %H:%M:%S')\n",
        "        except:\n",
        "            print(f'invalid date: {row.date}')\n",
        "            continue\n",
        "        finally:\n",
        "            pass\n",
        "    finally:\n",
        "        pass\n",
        "    \n",
        "    tmp.append(dict(\n",
        "        text=row.text,\n",
        "        date=date\n",
        "    ))\n",
        "\n",
        "df1 = pd.DataFrame(tmp)"
      ],
      "execution_count": 21,
      "outputs": []
    },
    {
      "cell_type": "code",
      "metadata": {
        "colab": {
          "base_uri": "https://localhost:8080/",
          "height": 195
        },
        "id": "we77XrdQ3Pux",
        "outputId": "ef0701d3-30ef-4751-f578-310b0cdcfc0e"
      },
      "source": [
        "df1.head()"
      ],
      "execution_count": 22,
      "outputs": [
        {
          "output_type": "execute_result",
          "data": {
            "text/html": [
              "<div>\n",
              "<style scoped>\n",
              "    .dataframe tbody tr th:only-of-type {\n",
              "        vertical-align: middle;\n",
              "    }\n",
              "\n",
              "    .dataframe tbody tr th {\n",
              "        vertical-align: top;\n",
              "    }\n",
              "\n",
              "    .dataframe thead th {\n",
              "        text-align: right;\n",
              "    }\n",
              "</style>\n",
              "<table border=\"1\" class=\"dataframe\">\n",
              "  <thead>\n",
              "    <tr style=\"text-align: right;\">\n",
              "      <th></th>\n",
              "      <th>text</th>\n",
              "      <th>date</th>\n",
              "    </tr>\n",
              "  </thead>\n",
              "  <tbody>\n",
              "    <tr>\n",
              "      <th>0</th>\n",
              "      <td>Australia to Manufacture Covid-19 Vaccine and ...</td>\n",
              "      <td>2020-08-18 12:55:00</td>\n",
              "    </tr>\n",
              "    <tr>\n",
              "      <th>1</th>\n",
              "      <td>#CoronavirusVaccine #CoronaVaccine #CovidVacci...</td>\n",
              "      <td>2020-08-18 12:55:00</td>\n",
              "    </tr>\n",
              "    <tr>\n",
              "      <th>2</th>\n",
              "      <td>Deaths due to COVID-19 in Affected Countries\\n...</td>\n",
              "      <td>2020-08-18 12:46:00</td>\n",
              "    </tr>\n",
              "    <tr>\n",
              "      <th>3</th>\n",
              "      <td>@Team_Subhashree @subhashreesotwe @iamrajchoco...</td>\n",
              "      <td>2020-08-18 12:45:00</td>\n",
              "    </tr>\n",
              "    <tr>\n",
              "      <th>4</th>\n",
              "      <td>@michellegrattan @ConversationEDU This is what...</td>\n",
              "      <td>2020-08-18 12:45:00</td>\n",
              "    </tr>\n",
              "  </tbody>\n",
              "</table>\n",
              "</div>"
            ],
            "text/plain": [
              "                                                text                date\n",
              "0  Australia to Manufacture Covid-19 Vaccine and ... 2020-08-18 12:55:00\n",
              "1  #CoronavirusVaccine #CoronaVaccine #CovidVacci... 2020-08-18 12:55:00\n",
              "2  Deaths due to COVID-19 in Affected Countries\\n... 2020-08-18 12:46:00\n",
              "3  @Team_Subhashree @subhashreesotwe @iamrajchoco... 2020-08-18 12:45:00\n",
              "4  @michellegrattan @ConversationEDU This is what... 2020-08-18 12:45:00"
            ]
          },
          "metadata": {
            "tags": []
          },
          "execution_count": 22
        }
      ]
    },
    {
      "cell_type": "markdown",
      "metadata": {
        "id": "bIQAOHJi3ZUY"
      },
      "source": [
        "### Processing `df2`"
      ]
    },
    {
      "cell_type": "code",
      "metadata": {
        "colab": {
          "base_uri": "https://localhost:8080/",
          "height": 198
        },
        "id": "bAdK3Wxw3_d7",
        "outputId": "932a477d-d849-4615-e1e4-f9365c27f147"
      },
      "source": [
        "df2.head(1)"
      ],
      "execution_count": 23,
      "outputs": [
        {
          "output_type": "execute_result",
          "data": {
            "text/html": [
              "<div>\n",
              "<style scoped>\n",
              "    .dataframe tbody tr th:only-of-type {\n",
              "        vertical-align: middle;\n",
              "    }\n",
              "\n",
              "    .dataframe tbody tr th {\n",
              "        vertical-align: top;\n",
              "    }\n",
              "\n",
              "    .dataframe thead th {\n",
              "        text-align: right;\n",
              "    }\n",
              "</style>\n",
              "<table border=\"1\" class=\"dataframe\">\n",
              "  <thead>\n",
              "    <tr style=\"text-align: right;\">\n",
              "      <th></th>\n",
              "      <th>id</th>\n",
              "      <th>conversation_id</th>\n",
              "      <th>created_at</th>\n",
              "      <th>date</th>\n",
              "      <th>time</th>\n",
              "      <th>timezone</th>\n",
              "      <th>user_id</th>\n",
              "      <th>username</th>\n",
              "      <th>name</th>\n",
              "      <th>place</th>\n",
              "      <th>tweet</th>\n",
              "      <th>language</th>\n",
              "      <th>mentions</th>\n",
              "      <th>urls</th>\n",
              "      <th>photos</th>\n",
              "      <th>replies_count</th>\n",
              "      <th>retweets_count</th>\n",
              "      <th>likes_count</th>\n",
              "      <th>hashtags</th>\n",
              "      <th>cashtags</th>\n",
              "      <th>link</th>\n",
              "      <th>retweet</th>\n",
              "      <th>quote_url</th>\n",
              "      <th>video</th>\n",
              "      <th>thumbnail</th>\n",
              "      <th>near</th>\n",
              "      <th>geo</th>\n",
              "      <th>source</th>\n",
              "      <th>user_rt_id</th>\n",
              "      <th>user_rt</th>\n",
              "      <th>retweet_id</th>\n",
              "      <th>reply_to</th>\n",
              "      <th>retweet_date</th>\n",
              "      <th>translate</th>\n",
              "      <th>trans_src</th>\n",
              "      <th>trans_dest</th>\n",
              "    </tr>\n",
              "  </thead>\n",
              "  <tbody>\n",
              "    <tr>\n",
              "      <th>0</th>\n",
              "      <td>1319174447442448384</td>\n",
              "      <td>1319153697406906369</td>\n",
              "      <td>2020-10-22 12:41:12 India Standard Time</td>\n",
              "      <td>2020-10-22</td>\n",
              "      <td>12:41:12</td>\n",
              "      <td>530</td>\n",
              "      <td>270371054</td>\n",
              "      <td>to_fly_to_live</td>\n",
              "      <td>Flynn Rider</td>\n",
              "      <td>NaN</td>\n",
              "      <td>@ANI Isn't it the best poll promise ever?? Fre...</td>\n",
              "      <td>en</td>\n",
              "      <td>['ani']</td>\n",
              "      <td>[]</td>\n",
              "      <td>[]</td>\n",
              "      <td>0</td>\n",
              "      <td>0</td>\n",
              "      <td>0</td>\n",
              "      <td>[]</td>\n",
              "      <td>[]</td>\n",
              "      <td>https://twitter.com/to_fly_to_live/status/1319...</td>\n",
              "      <td>NaN</td>\n",
              "      <td>NaN</td>\n",
              "      <td>0</td>\n",
              "      <td>NaN</td>\n",
              "      <td>NaN</td>\n",
              "      <td>NaN</td>\n",
              "      <td>NaN</td>\n",
              "      <td>NaN</td>\n",
              "      <td>NaN</td>\n",
              "      <td>NaN</td>\n",
              "      <td>{'user_id': '355989081', 'username': 'ANI'}</td>\n",
              "      <td>NaN</td>\n",
              "      <td>NaN</td>\n",
              "      <td>NaN</td>\n",
              "      <td>NaN</td>\n",
              "    </tr>\n",
              "  </tbody>\n",
              "</table>\n",
              "</div>"
            ],
            "text/plain": [
              "                    id      conversation_id  ... trans_src trans_dest\n",
              "0  1319174447442448384  1319153697406906369  ...       NaN        NaN\n",
              "\n",
              "[1 rows x 36 columns]"
            ]
          },
          "metadata": {
            "tags": []
          },
          "execution_count": 23
        }
      ]
    },
    {
      "cell_type": "code",
      "metadata": {
        "id": "4erjVMWC3bby"
      },
      "source": [
        "df2['text'] = df2['tweet']\n",
        "\n",
        "tmp = []\n",
        "for i, row in df2.iterrows():\n",
        "\n",
        "    dt = row.date + ' ' + row.time\n",
        "    try:\n",
        "        date = datetime.datetime.strptime(dt, '%d-%m-%Y %H:%M')\n",
        "    except:\n",
        "        try:\n",
        "            data = datetime.datetime.strptime(dt, '%Y-%m-%d %H:%M:%S')\n",
        "        except:\n",
        "            print(f'invalid date: {dt}')\n",
        "            continue\n",
        "        finally:\n",
        "            pass\n",
        "    finally:\n",
        "        pass\n",
        "    \n",
        "    tmp.append(dict(\n",
        "        text=row.text,\n",
        "        date=date\n",
        "    ))\n",
        "\n",
        "df2 = pd.DataFrame(tmp)"
      ],
      "execution_count": 24,
      "outputs": []
    },
    {
      "cell_type": "code",
      "metadata": {
        "colab": {
          "base_uri": "https://localhost:8080/",
          "height": 195
        },
        "id": "TJBifxlz3hxn",
        "outputId": "8b6d8489-d1e5-45a0-fe9c-3110557c557d"
      },
      "source": [
        "df2.head()"
      ],
      "execution_count": 25,
      "outputs": [
        {
          "output_type": "execute_result",
          "data": {
            "text/html": [
              "<div>\n",
              "<style scoped>\n",
              "    .dataframe tbody tr th:only-of-type {\n",
              "        vertical-align: middle;\n",
              "    }\n",
              "\n",
              "    .dataframe tbody tr th {\n",
              "        vertical-align: top;\n",
              "    }\n",
              "\n",
              "    .dataframe thead th {\n",
              "        text-align: right;\n",
              "    }\n",
              "</style>\n",
              "<table border=\"1\" class=\"dataframe\">\n",
              "  <thead>\n",
              "    <tr style=\"text-align: right;\">\n",
              "      <th></th>\n",
              "      <th>text</th>\n",
              "      <th>date</th>\n",
              "    </tr>\n",
              "  </thead>\n",
              "  <tbody>\n",
              "    <tr>\n",
              "      <th>0</th>\n",
              "      <td>@ANI Isn't it the best poll promise ever?? Fre...</td>\n",
              "      <td>2020-09-16 09:23:00</td>\n",
              "    </tr>\n",
              "    <tr>\n",
              "      <th>1</th>\n",
              "      <td>Now states shall have wait for thier Vidhan Sa...</td>\n",
              "      <td>2020-09-16 09:23:00</td>\n",
              "    </tr>\n",
              "    <tr>\n",
              "      <th>2</th>\n",
              "      <td>जिस मदारी ने ट्रेन तक नहीं चलाई और तुम पत्नी व...</td>\n",
              "      <td>2020-09-16 09:23:00</td>\n",
              "    </tr>\n",
              "    <tr>\n",
              "      <th>3</th>\n",
              "      <td>@MisseeMonis They said vaccine for all but not...</td>\n",
              "      <td>2020-09-16 09:23:00</td>\n",
              "    </tr>\n",
              "    <tr>\n",
              "      <th>4</th>\n",
              "      <td>BJP really presenting \"free COVID vaccine\" as ...</td>\n",
              "      <td>2020-09-16 09:23:00</td>\n",
              "    </tr>\n",
              "  </tbody>\n",
              "</table>\n",
              "</div>"
            ],
            "text/plain": [
              "                                                text                date\n",
              "0  @ANI Isn't it the best poll promise ever?? Fre... 2020-09-16 09:23:00\n",
              "1  Now states shall have wait for thier Vidhan Sa... 2020-09-16 09:23:00\n",
              "2  जिस मदारी ने ट्रेन तक नहीं चलाई और तुम पत्नी व... 2020-09-16 09:23:00\n",
              "3  @MisseeMonis They said vaccine for all but not... 2020-09-16 09:23:00\n",
              "4  BJP really presenting \"free COVID vaccine\" as ... 2020-09-16 09:23:00"
            ]
          },
          "metadata": {
            "tags": []
          },
          "execution_count": 25
        }
      ]
    },
    {
      "cell_type": "markdown",
      "metadata": {
        "id": "VyQyAFcm4CJz"
      },
      "source": [
        "### Process `df3`"
      ]
    },
    {
      "cell_type": "code",
      "metadata": {
        "colab": {
          "base_uri": "https://localhost:8080/",
          "height": 214
        },
        "id": "3rtKaJqM4EE1",
        "outputId": "d1d8155e-fb3c-4408-85dd-549bf4c5cc66"
      },
      "source": [
        "df3.head(1)"
      ],
      "execution_count": 26,
      "outputs": [
        {
          "output_type": "execute_result",
          "data": {
            "text/html": [
              "<div>\n",
              "<style scoped>\n",
              "    .dataframe tbody tr th:only-of-type {\n",
              "        vertical-align: middle;\n",
              "    }\n",
              "\n",
              "    .dataframe tbody tr th {\n",
              "        vertical-align: top;\n",
              "    }\n",
              "\n",
              "    .dataframe thead th {\n",
              "        text-align: right;\n",
              "    }\n",
              "</style>\n",
              "<table border=\"1\" class=\"dataframe\">\n",
              "  <thead>\n",
              "    <tr style=\"text-align: right;\">\n",
              "      <th></th>\n",
              "      <th>id</th>\n",
              "      <th>user_name</th>\n",
              "      <th>user_location</th>\n",
              "      <th>user_description</th>\n",
              "      <th>user_created</th>\n",
              "      <th>user_followers</th>\n",
              "      <th>user_friends</th>\n",
              "      <th>user_favourites</th>\n",
              "      <th>user_verified</th>\n",
              "      <th>date</th>\n",
              "      <th>text</th>\n",
              "      <th>hashtags</th>\n",
              "      <th>source</th>\n",
              "      <th>retweets</th>\n",
              "      <th>favorites</th>\n",
              "      <th>is_retweet</th>\n",
              "    </tr>\n",
              "  </thead>\n",
              "  <tbody>\n",
              "    <tr>\n",
              "      <th>0</th>\n",
              "      <td>1340539111971516416</td>\n",
              "      <td>Rachel Roh</td>\n",
              "      <td>La Crescenta-Montrose, CA</td>\n",
              "      <td>Aggregator of Asian American news; scanning di...</td>\n",
              "      <td>2009-04-08 17:52:46</td>\n",
              "      <td>405</td>\n",
              "      <td>1692</td>\n",
              "      <td>3247</td>\n",
              "      <td>False</td>\n",
              "      <td>2020-12-20 06:06:44</td>\n",
              "      <td>Same folks said daikon paste could treat a cyt...</td>\n",
              "      <td>['PfizerBioNTech']</td>\n",
              "      <td>Twitter for Android</td>\n",
              "      <td>0</td>\n",
              "      <td>0</td>\n",
              "      <td>False</td>\n",
              "    </tr>\n",
              "  </tbody>\n",
              "</table>\n",
              "</div>"
            ],
            "text/plain": [
              "                    id   user_name  ... favorites is_retweet\n",
              "0  1340539111971516416  Rachel Roh  ...         0      False\n",
              "\n",
              "[1 rows x 16 columns]"
            ]
          },
          "metadata": {
            "tags": []
          },
          "execution_count": 26
        }
      ]
    },
    {
      "cell_type": "code",
      "metadata": {
        "id": "jFvNdYTM4FZD"
      },
      "source": [
        "tmp = []\n",
        "for i, row in df3.iterrows():\n",
        "\n",
        "    try:\n",
        "        date = datetime.datetime.strptime(row.date, '%d-%m-%Y %H:%M')\n",
        "    except:\n",
        "        try:\n",
        "            data = datetime.datetime.strptime(row.date, '%Y-%m-%d %H:%M:%S')\n",
        "        except:\n",
        "            print(f'invalid date: {row.date}')\n",
        "            continue\n",
        "        finally:\n",
        "            pass\n",
        "    finally:\n",
        "        pass\n",
        "    \n",
        "    tmp.append(dict(\n",
        "        text=row.text,\n",
        "        date=date\n",
        "    ))\n",
        "\n",
        "df3 = pd.DataFrame(tmp)"
      ],
      "execution_count": 27,
      "outputs": []
    },
    {
      "cell_type": "code",
      "metadata": {
        "colab": {
          "base_uri": "https://localhost:8080/",
          "height": 195
        },
        "id": "3dltv8xc4QuG",
        "outputId": "914dbf4f-4b8e-4948-b61e-88b31bb2c78e"
      },
      "source": [
        "df3.head()"
      ],
      "execution_count": 28,
      "outputs": [
        {
          "output_type": "execute_result",
          "data": {
            "text/html": [
              "<div>\n",
              "<style scoped>\n",
              "    .dataframe tbody tr th:only-of-type {\n",
              "        vertical-align: middle;\n",
              "    }\n",
              "\n",
              "    .dataframe tbody tr th {\n",
              "        vertical-align: top;\n",
              "    }\n",
              "\n",
              "    .dataframe thead th {\n",
              "        text-align: right;\n",
              "    }\n",
              "</style>\n",
              "<table border=\"1\" class=\"dataframe\">\n",
              "  <thead>\n",
              "    <tr style=\"text-align: right;\">\n",
              "      <th></th>\n",
              "      <th>text</th>\n",
              "      <th>date</th>\n",
              "    </tr>\n",
              "  </thead>\n",
              "  <tbody>\n",
              "    <tr>\n",
              "      <th>0</th>\n",
              "      <td>Same folks said daikon paste could treat a cyt...</td>\n",
              "      <td>2020-09-16 09:23:00</td>\n",
              "    </tr>\n",
              "    <tr>\n",
              "      <th>1</th>\n",
              "      <td>While the world has been on the wrong side of ...</td>\n",
              "      <td>2020-09-16 09:23:00</td>\n",
              "    </tr>\n",
              "    <tr>\n",
              "      <th>2</th>\n",
              "      <td>#coronavirus #SputnikV #AstraZeneca #PfizerBio...</td>\n",
              "      <td>2020-09-16 09:23:00</td>\n",
              "    </tr>\n",
              "    <tr>\n",
              "      <th>3</th>\n",
              "      <td>Facts are immutable, Senator, even when you're...</td>\n",
              "      <td>2020-09-16 09:23:00</td>\n",
              "    </tr>\n",
              "    <tr>\n",
              "      <th>4</th>\n",
              "      <td>Explain to me again why we need a vaccine @Bor...</td>\n",
              "      <td>2020-09-16 09:23:00</td>\n",
              "    </tr>\n",
              "  </tbody>\n",
              "</table>\n",
              "</div>"
            ],
            "text/plain": [
              "                                                text                date\n",
              "0  Same folks said daikon paste could treat a cyt... 2020-09-16 09:23:00\n",
              "1  While the world has been on the wrong side of ... 2020-09-16 09:23:00\n",
              "2  #coronavirus #SputnikV #AstraZeneca #PfizerBio... 2020-09-16 09:23:00\n",
              "3  Facts are immutable, Senator, even when you're... 2020-09-16 09:23:00\n",
              "4  Explain to me again why we need a vaccine @Bor... 2020-09-16 09:23:00"
            ]
          },
          "metadata": {
            "tags": []
          },
          "execution_count": 28
        }
      ]
    },
    {
      "cell_type": "markdown",
      "metadata": {
        "id": "Naw7iEEf4qvD"
      },
      "source": [
        "## Explore datasets"
      ]
    },
    {
      "cell_type": "code",
      "metadata": {
        "colab": {
          "base_uri": "https://localhost:8080/"
        },
        "id": "o6fw1psy4f6W",
        "outputId": "34b4ad74-e119-498b-a8a3-b4f3cdef04cc"
      },
      "source": [
        "len(df1), len(df2), len(df3)"
      ],
      "execution_count": 29,
      "outputs": [
        {
          "output_type": "execute_result",
          "data": {
            "text/plain": [
              "(23669, 209929, 7783)"
            ]
          },
          "metadata": {
            "tags": []
          },
          "execution_count": 29
        }
      ]
    },
    {
      "cell_type": "code",
      "metadata": {
        "colab": {
          "base_uri": "https://localhost:8080/",
          "height": 552
        },
        "id": "BhD7_bzC4sP7",
        "outputId": "ad1cf093-90d4-44bc-919a-7f0e17c0598c"
      },
      "source": [
        "display(df1.head())\n",
        "display(df2.head())\n",
        "display(df3.head())"
      ],
      "execution_count": 30,
      "outputs": [
        {
          "output_type": "display_data",
          "data": {
            "text/html": [
              "<div>\n",
              "<style scoped>\n",
              "    .dataframe tbody tr th:only-of-type {\n",
              "        vertical-align: middle;\n",
              "    }\n",
              "\n",
              "    .dataframe tbody tr th {\n",
              "        vertical-align: top;\n",
              "    }\n",
              "\n",
              "    .dataframe thead th {\n",
              "        text-align: right;\n",
              "    }\n",
              "</style>\n",
              "<table border=\"1\" class=\"dataframe\">\n",
              "  <thead>\n",
              "    <tr style=\"text-align: right;\">\n",
              "      <th></th>\n",
              "      <th>text</th>\n",
              "      <th>date</th>\n",
              "    </tr>\n",
              "  </thead>\n",
              "  <tbody>\n",
              "    <tr>\n",
              "      <th>0</th>\n",
              "      <td>Australia to Manufacture Covid-19 Vaccine and ...</td>\n",
              "      <td>2020-08-18 12:55:00</td>\n",
              "    </tr>\n",
              "    <tr>\n",
              "      <th>1</th>\n",
              "      <td>#CoronavirusVaccine #CoronaVaccine #CovidVacci...</td>\n",
              "      <td>2020-08-18 12:55:00</td>\n",
              "    </tr>\n",
              "    <tr>\n",
              "      <th>2</th>\n",
              "      <td>Deaths due to COVID-19 in Affected Countries\\n...</td>\n",
              "      <td>2020-08-18 12:46:00</td>\n",
              "    </tr>\n",
              "    <tr>\n",
              "      <th>3</th>\n",
              "      <td>@Team_Subhashree @subhashreesotwe @iamrajchoco...</td>\n",
              "      <td>2020-08-18 12:45:00</td>\n",
              "    </tr>\n",
              "    <tr>\n",
              "      <th>4</th>\n",
              "      <td>@michellegrattan @ConversationEDU This is what...</td>\n",
              "      <td>2020-08-18 12:45:00</td>\n",
              "    </tr>\n",
              "  </tbody>\n",
              "</table>\n",
              "</div>"
            ],
            "text/plain": [
              "                                                text                date\n",
              "0  Australia to Manufacture Covid-19 Vaccine and ... 2020-08-18 12:55:00\n",
              "1  #CoronavirusVaccine #CoronaVaccine #CovidVacci... 2020-08-18 12:55:00\n",
              "2  Deaths due to COVID-19 in Affected Countries\\n... 2020-08-18 12:46:00\n",
              "3  @Team_Subhashree @subhashreesotwe @iamrajchoco... 2020-08-18 12:45:00\n",
              "4  @michellegrattan @ConversationEDU This is what... 2020-08-18 12:45:00"
            ]
          },
          "metadata": {
            "tags": []
          }
        },
        {
          "output_type": "display_data",
          "data": {
            "text/html": [
              "<div>\n",
              "<style scoped>\n",
              "    .dataframe tbody tr th:only-of-type {\n",
              "        vertical-align: middle;\n",
              "    }\n",
              "\n",
              "    .dataframe tbody tr th {\n",
              "        vertical-align: top;\n",
              "    }\n",
              "\n",
              "    .dataframe thead th {\n",
              "        text-align: right;\n",
              "    }\n",
              "</style>\n",
              "<table border=\"1\" class=\"dataframe\">\n",
              "  <thead>\n",
              "    <tr style=\"text-align: right;\">\n",
              "      <th></th>\n",
              "      <th>text</th>\n",
              "      <th>date</th>\n",
              "    </tr>\n",
              "  </thead>\n",
              "  <tbody>\n",
              "    <tr>\n",
              "      <th>0</th>\n",
              "      <td>@ANI Isn't it the best poll promise ever?? Fre...</td>\n",
              "      <td>2020-09-16 09:23:00</td>\n",
              "    </tr>\n",
              "    <tr>\n",
              "      <th>1</th>\n",
              "      <td>Now states shall have wait for thier Vidhan Sa...</td>\n",
              "      <td>2020-09-16 09:23:00</td>\n",
              "    </tr>\n",
              "    <tr>\n",
              "      <th>2</th>\n",
              "      <td>जिस मदारी ने ट्रेन तक नहीं चलाई और तुम पत्नी व...</td>\n",
              "      <td>2020-09-16 09:23:00</td>\n",
              "    </tr>\n",
              "    <tr>\n",
              "      <th>3</th>\n",
              "      <td>@MisseeMonis They said vaccine for all but not...</td>\n",
              "      <td>2020-09-16 09:23:00</td>\n",
              "    </tr>\n",
              "    <tr>\n",
              "      <th>4</th>\n",
              "      <td>BJP really presenting \"free COVID vaccine\" as ...</td>\n",
              "      <td>2020-09-16 09:23:00</td>\n",
              "    </tr>\n",
              "  </tbody>\n",
              "</table>\n",
              "</div>"
            ],
            "text/plain": [
              "                                                text                date\n",
              "0  @ANI Isn't it the best poll promise ever?? Fre... 2020-09-16 09:23:00\n",
              "1  Now states shall have wait for thier Vidhan Sa... 2020-09-16 09:23:00\n",
              "2  जिस मदारी ने ट्रेन तक नहीं चलाई और तुम पत्नी व... 2020-09-16 09:23:00\n",
              "3  @MisseeMonis They said vaccine for all but not... 2020-09-16 09:23:00\n",
              "4  BJP really presenting \"free COVID vaccine\" as ... 2020-09-16 09:23:00"
            ]
          },
          "metadata": {
            "tags": []
          }
        },
        {
          "output_type": "display_data",
          "data": {
            "text/html": [
              "<div>\n",
              "<style scoped>\n",
              "    .dataframe tbody tr th:only-of-type {\n",
              "        vertical-align: middle;\n",
              "    }\n",
              "\n",
              "    .dataframe tbody tr th {\n",
              "        vertical-align: top;\n",
              "    }\n",
              "\n",
              "    .dataframe thead th {\n",
              "        text-align: right;\n",
              "    }\n",
              "</style>\n",
              "<table border=\"1\" class=\"dataframe\">\n",
              "  <thead>\n",
              "    <tr style=\"text-align: right;\">\n",
              "      <th></th>\n",
              "      <th>text</th>\n",
              "      <th>date</th>\n",
              "    </tr>\n",
              "  </thead>\n",
              "  <tbody>\n",
              "    <tr>\n",
              "      <th>0</th>\n",
              "      <td>Same folks said daikon paste could treat a cyt...</td>\n",
              "      <td>2020-09-16 09:23:00</td>\n",
              "    </tr>\n",
              "    <tr>\n",
              "      <th>1</th>\n",
              "      <td>While the world has been on the wrong side of ...</td>\n",
              "      <td>2020-09-16 09:23:00</td>\n",
              "    </tr>\n",
              "    <tr>\n",
              "      <th>2</th>\n",
              "      <td>#coronavirus #SputnikV #AstraZeneca #PfizerBio...</td>\n",
              "      <td>2020-09-16 09:23:00</td>\n",
              "    </tr>\n",
              "    <tr>\n",
              "      <th>3</th>\n",
              "      <td>Facts are immutable, Senator, even when you're...</td>\n",
              "      <td>2020-09-16 09:23:00</td>\n",
              "    </tr>\n",
              "    <tr>\n",
              "      <th>4</th>\n",
              "      <td>Explain to me again why we need a vaccine @Bor...</td>\n",
              "      <td>2020-09-16 09:23:00</td>\n",
              "    </tr>\n",
              "  </tbody>\n",
              "</table>\n",
              "</div>"
            ],
            "text/plain": [
              "                                                text                date\n",
              "0  Same folks said daikon paste could treat a cyt... 2020-09-16 09:23:00\n",
              "1  While the world has been on the wrong side of ... 2020-09-16 09:23:00\n",
              "2  #coronavirus #SputnikV #AstraZeneca #PfizerBio... 2020-09-16 09:23:00\n",
              "3  Facts are immutable, Senator, even when you're... 2020-09-16 09:23:00\n",
              "4  Explain to me again why we need a vaccine @Bor... 2020-09-16 09:23:00"
            ]
          },
          "metadata": {
            "tags": []
          }
        }
      ]
    },
    {
      "cell_type": "code",
      "metadata": {
        "colab": {
          "base_uri": "https://localhost:8080/",
          "height": 1000
        },
        "id": "eaatndrY7wjr",
        "outputId": "5cf3582e-32ce-491d-f028-f7f6a5e5a6da"
      },
      "source": [
        "sns.displot(df1.date, shrink=0.6)\n",
        "sns.displot(df2.date, shrink=0.6)\n",
        "sns.displot(df3.date, shrink=0.6)\n",
        "plt.show()"
      ],
      "execution_count": 56,
      "outputs": [
        {
          "output_type": "display_data",
          "data": {
            "image/png": "[encoded data removed]",
            "text/plain": [
              "<Figure size 360x360 with 1 Axes>"
            ]
          },
          "metadata": {
            "tags": [],
            "needs_background": "light"
          }
        },
        {
          "output_type": "display_data",
          "data": {
            "image/png": "[encoded data removed]",
            "text/plain": [
              "<Figure size 360x360 with 1 Axes>"
            ]
          },
          "metadata": {
            "tags": [],
            "needs_background": "light"
          }
        },
        {
          "output_type": "display_data",
          "data": {
            "image/png": "[encoded data removed]",
            "text/plain": [
              "<Figure size 360x360 with 1 Axes>"
            ]
          },
          "metadata": {
            "tags": [],
            "needs_background": "light"
          }
        }
      ]
    },
    {
      "cell_type": "code",
      "metadata": {
        "colab": {
          "base_uri": "https://localhost:8080/"
        },
        "id": "moWqJiG95wL1",
        "outputId": "d816a1c4-a622-47cd-f4f7-ff61955ffd69"
      },
      "source": [
        "def toDaysRelative(dt):\n",
        "    days_in_year = 366 if dt.is_leap_year else 365\n",
        "    year_fraction = dt.dayofyear + (60*60*dt.hour + 60*dt.minute + dt.second) / (24*60*60)\n",
        "    return dt.year + (year_fraction / days_in_year)\n",
        "\n",
        "toDaysRelative(x)"
      ],
      "execution_count": 48,
      "outputs": [
        {
          "output_type": "execute_result",
          "data": {
            "text/plain": [
              "2020.6326180176077"
            ]
          },
          "metadata": {
            "tags": []
          },
          "execution_count": 48
        }
      ]
    },
    {
      "cell_type": "code",
      "metadata": {
        "colab": {
          "base_uri": "https://localhost:8080/",
          "height": 402
        },
        "id": "lwQmJGSe41gv",
        "outputId": "171ee144-403f-4480-f045-554d4e110ad0"
      },
      "source": [
        "sns.distplot([toDaysRelative(dt) for dt in df1.date], color='red')\n",
        "sns.distplot([toDaysRelative(dt) for dt in df2.date], color='green')\n",
        "sns.distplot([toDaysRelative(dt) for dt in df3.date], color='blue')\n",
        "plt.show()"
      ],
      "execution_count": 59,
      "outputs": [
        {
          "output_type": "stream",
          "text": [
            "/usr/local/lib/python3.7/dist-packages/seaborn/distributions.py:2557: FutureWarning: `distplot` is a deprecated function and will be removed in a future version. Please adapt your code to use either `displot` (a figure-level function with similar flexibility) or `histplot` (an axes-level function for histograms).\n",
            "  warnings.warn(msg, FutureWarning)\n",
            "/usr/local/lib/python3.7/dist-packages/seaborn/distributions.py:2557: FutureWarning: `distplot` is a deprecated function and will be removed in a future version. Please adapt your code to use either `displot` (a figure-level function with similar flexibility) or `histplot` (an axes-level function for histograms).\n",
            "  warnings.warn(msg, FutureWarning)\n",
            "/usr/local/lib/python3.7/dist-packages/seaborn/distributions.py:2557: FutureWarning: `distplot` is a deprecated function and will be removed in a future version. Please adapt your code to use either `displot` (a figure-level function with similar flexibility) or `histplot` (an axes-level function for histograms).\n",
            "  warnings.warn(msg, FutureWarning)\n"
          ],
          "name": "stderr"
        },
        {
          "output_type": "display_data",
          "data": {
            "image/png": "[encoded data removed]",
            "text/plain": [
              "<Figure size 432x288 with 1 Axes>"
            ]
          },
          "metadata": {
            "tags": [],
            "needs_background": "light"
          }
        }
      ]
    },
    {
      "cell_type": "code",
      "metadata": {
        "colab": {
          "base_uri": "https://localhost:8080/",
          "height": 276
        },
        "id": "QuK6Y5tm8xE_",
        "outputId": "1316ebb4-926f-46f9-f48c-1a83a45f439d"
      },
      "source": [
        "fig, axes = plt.subplots(1, 3)\n",
        "\n",
        "axes[0].boxplot([toDaysRelative(dt) for dt in df1.date])\n",
        "axes[1].boxplot([toDaysRelative(dt) for dt in df2.date])\n",
        "axes[2].boxplot([toDaysRelative(dt) for dt in df3.date])\n",
        "\n",
        "plt.show()"
      ],
      "execution_count": 61,
      "outputs": [
        {
          "output_type": "display_data",
          "data": {
            "image/png": "[encoded data removed]",
            "text/plain": [
              "<Figure size 432x288 with 3 Axes>"
            ]
          },
          "metadata": {
            "tags": [],
            "needs_background": "light"
          }
        }
      ]
    },
    {
      "cell_type": "markdown",
      "metadata": {
        "id": "se0Bzr7T9GIM"
      },
      "source": [
        "It appears that only `df1` covers a significant span of time. Therefore, we will use this dataset to analyze timeseries."
      ]
    },
    {
      "cell_type": "code",
      "metadata": {
        "colab": {
          "base_uri": "https://localhost:8080/",
          "height": 417
        },
        "id": "Dx5JqOYM_OUq",
        "outputId": "1b30553f-f725-46b8-f8f8-e20841d2fbbb"
      },
      "source": [
        "df1_dates = [toDaysRelative(dt) for dt in df1.date]\n",
        "plt.boxplot(df1_dates[::50])"
      ],
      "execution_count": 72,
      "outputs": [
        {
          "output_type": "execute_result",
          "data": {
            "text/plain": [
              "{'boxes': [<matplotlib.lines.Line2D at 0x7f552fb5ea50>],\n",
              " 'caps': [<matplotlib.lines.Line2D at 0x7f552f808ad0>,\n",
              "  <matplotlib.lines.Line2D at 0x7f552f801050>],\n",
              " 'fliers': [<matplotlib.lines.Line2D at 0x7f552f801b10>],\n",
              " 'means': [],\n",
              " 'medians': [<matplotlib.lines.Line2D at 0x7f552f8015d0>],\n",
              " 'whiskers': [<matplotlib.lines.Line2D at 0x7f552f808050>,\n",
              "  <matplotlib.lines.Line2D at 0x7f552f808590>]}"
            ]
          },
          "metadata": {
            "tags": []
          },
          "execution_count": 72
        },
        {
          "output_type": "display_data",
          "data": {
            "image/png": "[encoded data removed]",
            "text/plain": [
              "<Figure size 432x288 with 1 Axes>"
            ]
          },
          "metadata": {
            "tags": [],
            "needs_background": "light"
          }
        }
      ]
    },
    {
      "cell_type": "markdown",
      "metadata": {
        "id": "x66l7cWW4TMm"
      },
      "source": [
        "## Build sentiment and semantic analysis utility functions"
      ]
    },
    {
      "cell_type": "markdown",
      "metadata": {
        "id": "dajo8RjM-jU9"
      },
      "source": [
        "### Load ML models"
      ]
    },
    {
      "cell_type": "code",
      "metadata": {
        "colab": {
          "base_uri": "https://localhost:8080/",
          "height": 215,
          "referenced_widgets": [
            "0261e64999144d33904eb0ded2bd0128",
            "413bd84f2a424eddaddd5e1b6345dbdf",
            "b41ba44f2331448c9adec45f8994d3a1",
            "57172ed5a8fc49279f1b654dad4606d9",
            "b790e41ea9ce438caa2a6a70588ef1e1",
            "4545d2a7158f481d9ac308508b43ac9e",
            "6484a7ae16a1452a86b75edf3f88cd0c",
            "0e76c9cb53174544b0ef75f3882f59c7",
            "17a3eee583b14fa98031fe03863c236a",
            "c44f4eeec0164266a8ea6314bc673fda",
            "3523a38703184966b0e730ff34c05a03",
            "b3c3cf5fa4d940d98f2be39e95d0686e",
            "c684a260b563480b844fc6ddd448ceee",
            "f0ef069b71f64705861c0a3498cd6ebd",
            "e42a6770baba4c0f8841326bf497121c",
            "a382d1d9a1094e329d19679c39a2b202",
            "a5082aafff7343929b756a35eb2aea32",
            "cbd411e5ce8a4343a8019b078585cfb0",
            "66443a1768cd4663a211591f82285ac8",
            "b09597d098d948bba30d647fc80f046e",
            "7da98c75385f465297b1856b93d42ddc",
            "3e9732159b3547cb91fedfe0fdb0da08",
            "f10d0cac5d734be88dca9ac5e6a21517",
            "9a824b0896bf4076a86f42109aaa8b88",
            "35d9ec8e17c6462a892d4adce8f24cab",
            "6ef4bdc2a0b540a385d2f57649896469",
            "c025b3cb280840e98b2b729c12813131",
            "43a6e001b98e4b3e8e72e3c694a7e0c5",
            "a0e01960159144018c8edf2c1dba1889",
            "4c6e90e6e0724da9a6739a8da9d5330e",
            "645160e4814a4becb35d0a633efa761d",
            "dbc955e6d0cc41e8b23fca44d1d6fc6d"
          ]
        },
        "id": "hcyhzM309TAn",
        "outputId": "781973f8-1ffc-4c5f-d9df-29291ef206cf"
      },
      "source": [
        "classifier = transformers.pipeline('sentiment-analysis')"
      ],
      "execution_count": 62,
      "outputs": [
        {
          "output_type": "display_data",
          "data": {
            "application/vnd.jupyter.widget-view+json": {
              "model_id": "0261e64999144d33904eb0ded2bd0128",
              "version_minor": 0,
              "version_major": 2
            },
            "text/plain": [
              "HBox(children=(FloatProgress(value=0.0, description='Downloading', max=629.0, style=ProgressStyle(description_…"
            ]
          },
          "metadata": {
            "tags": []
          }
        },
        {
          "output_type": "stream",
          "text": [
            "\n"
          ],
          "name": "stdout"
        },
        {
          "output_type": "display_data",
          "data": {
            "application/vnd.jupyter.widget-view+json": {
              "model_id": "17a3eee583b14fa98031fe03863c236a",
              "version_minor": 0,
              "version_major": 2
            },
            "text/plain": [
              "HBox(children=(FloatProgress(value=0.0, description='Downloading', max=267844284.0, style=ProgressStyle(descri…"
            ]
          },
          "metadata": {
            "tags": []
          }
        },
        {
          "output_type": "stream",
          "text": [
            "\n"
          ],
          "name": "stdout"
        },
        {
          "output_type": "display_data",
          "data": {
            "application/vnd.jupyter.widget-view+json": {
              "model_id": "a5082aafff7343929b756a35eb2aea32",
              "version_minor": 0,
              "version_major": 2
            },
            "text/plain": [
              "HBox(children=(FloatProgress(value=0.0, description='Downloading', max=231508.0, style=ProgressStyle(descripti…"
            ]
          },
          "metadata": {
            "tags": []
          }
        },
        {
          "output_type": "stream",
          "text": [
            "\n"
          ],
          "name": "stdout"
        },
        {
          "output_type": "display_data",
          "data": {
            "application/vnd.jupyter.widget-view+json": {
              "model_id": "35d9ec8e17c6462a892d4adce8f24cab",
              "version_minor": 0,
              "version_major": 2
            },
            "text/plain": [
              "HBox(children=(FloatProgress(value=0.0, description='Downloading', max=48.0, style=ProgressStyle(description_w…"
            ]
          },
          "metadata": {
            "tags": []
          }
        },
        {
          "output_type": "stream",
          "text": [
            "\n"
          ],
          "name": "stdout"
        }
      ]
    },
    {
      "cell_type": "code",
      "metadata": {
        "colab": {
          "base_uri": "https://localhost:8080/",
          "height": 373,
          "referenced_widgets": [
            "a18761d61a39433eacf5d0dbfa927622",
            "e8e3f9fe8625467c8e08c315b5a1111e",
            "7f0c8002c3bc4ec9a36cebf0a9231c80",
            "84688dfcf7d64cbf9c65507d0b1cd381",
            "8d33c0551eae4a9e9ec057f76e703a05",
            "bb88c90d437f45ba97039445763faabb",
            "d167af83832046b78271926ac0b09d23",
            "f6cba8c259004819aa9ebba91d34cb7b",
            "5f9ee2d388794458b4fcf0fd8bd8ebd7",
            "d455217c29964fadba9d09af6b25a543",
            "f48279f7759f4ca69d6a51322fe0ed4b",
            "2fbf18eca5764dbd93b5c1a82b8b62c0",
            "e8954b67f23c438cb126f7aeca1227d3",
            "4296f6a511ed4f79ad277f892bb95e59",
            "e5f039bc1f6c404abec41bb7bc80507b",
            "3aeed401f9204bc5b6ac76a8d368cb2e",
            "0b04db9336f24e48acd3ed94ca8a3357",
            "3f3feb8e3bbf4db8993e00a0676c4b34",
            "245fb108b1354d78b69e4f077dda796b",
            "6586d7083ce5466e9c4c9422d44d72c8",
            "93aa977d35f54d11b6d207a8fee885ea",
            "396584f0e6c94a87bed6480535c78a98",
            "e7e4e89618534867805b29f8e98b2951",
            "0f172fb97ec34de6a1ac5e931302d20f",
            "46088d515a414e208b9c84ead9e046da",
            "52caa5a6cbd04505931d4d8bbb60b35c",
            "f0c62816ca614516899741a51c2ca4cf",
            "db88309dbacc464b805e87e37f442fdd",
            "dbd3bc91e6eb47d485e7539f2c1cee8d",
            "26c4a0c88a5847e295bd2e2627534132",
            "a88e14379add40c2a8ab546b81bfd592",
            "2c9ffbd495f24477ad1e7643b38ba680",
            "441bc9d050d34eca8681849ba5633ab7",
            "1b86d69bd79540b3b14c53b9e6cee0f6",
            "a473566a5ae549a3a1fa2312d2c0e325",
            "a39ce615c9be42aaa08dd8121a45f3a2",
            "fcb10c4270e2435f948f0e71c29e07b8",
            "8b8e04c09b234de18b247e1cf002a73e",
            "2eb905cbd7554f5da6a949865f514db4",
            "6096d71f76ad44f9ac0f11aee9162c17"
          ]
        },
        "id": "oeAyjRiA9iA4",
        "outputId": "5944e66a-0233-43f7-9799-fa20e9ccca25"
      },
      "source": [
        "from transformers import BertTokenizer, TFBertModel\n",
        "tokenizer = BertTokenizer.from_pretrained('bert-base-uncased')\n",
        "model = TFBertModel.from_pretrained(\"bert-base-uncased\")"
      ],
      "execution_count": 63,
      "outputs": [
        {
          "output_type": "display_data",
          "data": {
            "application/vnd.jupyter.widget-view+json": {
              "model_id": "a18761d61a39433eacf5d0dbfa927622",
              "version_minor": 0,
              "version_major": 2
            },
            "text/plain": [
              "HBox(children=(FloatProgress(value=0.0, description='Downloading', max=231508.0, style=ProgressStyle(descripti…"
            ]
          },
          "metadata": {
            "tags": []
          }
        },
        {
          "output_type": "stream",
          "text": [
            "\n"
          ],
          "name": "stdout"
        },
        {
          "output_type": "display_data",
          "data": {
            "application/vnd.jupyter.widget-view+json": {
              "model_id": "5f9ee2d388794458b4fcf0fd8bd8ebd7",
              "version_minor": 0,
              "version_major": 2
            },
            "text/plain": [
              "HBox(children=(FloatProgress(value=0.0, description='Downloading', max=28.0, style=ProgressStyle(description_w…"
            ]
          },
          "metadata": {
            "tags": []
          }
        },
        {
          "output_type": "stream",
          "text": [
            "\n"
          ],
          "name": "stdout"
        },
        {
          "output_type": "display_data",
          "data": {
            "application/vnd.jupyter.widget-view+json": {
              "model_id": "0b04db9336f24e48acd3ed94ca8a3357",
              "version_minor": 0,
              "version_major": 2
            },
            "text/plain": [
              "HBox(children=(FloatProgress(value=0.0, description='Downloading', max=466062.0, style=ProgressStyle(descripti…"
            ]
          },
          "metadata": {
            "tags": []
          }
        },
        {
          "output_type": "stream",
          "text": [
            "\n"
          ],
          "name": "stdout"
        },
        {
          "output_type": "display_data",
          "data": {
            "application/vnd.jupyter.widget-view+json": {
              "model_id": "46088d515a414e208b9c84ead9e046da",
              "version_minor": 0,
              "version_major": 2
            },
            "text/plain": [
              "HBox(children=(FloatProgress(value=0.0, description='Downloading', max=433.0, style=ProgressStyle(description_…"
            ]
          },
          "metadata": {
            "tags": []
          }
        },
        {
          "output_type": "stream",
          "text": [
            "\n"
          ],
          "name": "stdout"
        },
        {
          "output_type": "display_data",
          "data": {
            "application/vnd.jupyter.widget-view+json": {
              "model_id": "441bc9d050d34eca8681849ba5633ab7",
              "version_minor": 0,
              "version_major": 2
            },
            "text/plain": [
              "HBox(children=(FloatProgress(value=0.0, description='Downloading', max=536063208.0, style=ProgressStyle(descri…"
            ]
          },
          "metadata": {
            "tags": []
          }
        },
        {
          "output_type": "stream",
          "text": [
            "\n"
          ],
          "name": "stdout"
        },
        {
          "output_type": "stream",
          "text": [
            "Some layers from the model checkpoint at bert-base-uncased were not used when initializing TFBertModel: ['mlm___cls', 'nsp___cls']\n",
            "- This IS expected if you are initializing TFBertModel from the checkpoint of a model trained on another task or with another architecture (e.g. initializing a BertForSequenceClassification model from a BertForPreTraining model).\n",
            "- This IS NOT expected if you are initializing TFBertModel from the checkpoint of a model that you expect to be exactly identical (initializing a BertForSequenceClassification model from a BertForSequenceClassification model).\n",
            "All the layers of TFBertModel were initialized from the model checkpoint at bert-base-uncased.\n",
            "If your task is similar to the task the model of the checkpoint was trained on, you can already use TFBertModel for predictions without further training.\n"
          ],
          "name": "stderr"
        }
      ]
    },
    {
      "cell_type": "markdown",
      "metadata": {
        "id": "nXlHxAsY9fau"
      },
      "source": [
        "### Example usage\n",
        "\n",
        "`classifier` produces a POSITIVE/NEGATIVE label classification with a floating-point valued output [0,1] indicating classification certainty.\n",
        "\n",
        "`model` is a BERT language encoder. Basically, it converts a sentence into a 768-dimensional vector."
      ]
    },
    {
      "cell_type": "code",
      "metadata": {
        "colab": {
          "base_uri": "https://localhost:8080/"
        },
        "id": "KwLy2RUj__Wz",
        "outputId": "1c7ea19f-ae21-408a-b57b-0d76dcb756e5"
      },
      "source": [
        "classifier([\"I'm excited about getting the vaccine!\",\n",
        "            \"I'm sick with the coronavirus\"])"
      ],
      "execution_count": 77,
      "outputs": [
        {
          "output_type": "execute_result",
          "data": {
            "text/plain": [
              "[{'label': 'POSITIVE', 'score': 0.9996540546417236},\n",
              " {'label': 'NEGATIVE', 'score': 0.999416708946228}]"
            ]
          },
          "metadata": {
            "tags": []
          },
          "execution_count": 77
        }
      ]
    },
    {
      "cell_type": "code",
      "metadata": {
        "colab": {
          "base_uri": "https://localhost:8080/"
        },
        "id": "2L-chapuAA6G",
        "outputId": "e2a5a4ec-12ea-4c52-f645-9a801f37ae52"
      },
      "source": [
        "text = \"COVID is made up\"\n",
        "encoded_input = tokenizer(text, return_tensors='tf')\n",
        "output = model(encoded_input)\n",
        "output"
      ],
      "execution_count": 78,
      "outputs": [
        {
          "output_type": "execute_result",
          "data": {
            "text/plain": [
              "TFBaseModelOutputWithPooling([('last_hidden_state',\n",
              "                               <tf.Tensor: shape=(1, 7, 768), dtype=float32, numpy=\n",
              "                               array([[[-0.21936978,  0.07017213,  0.07137642, ..., -0.3403647 ,\n",
              "                                         0.21772459,  0.64096576],\n",
              "                                       [-0.5038416 , -0.6416414 ,  0.662215  , ..., -0.43450135,\n",
              "                                         0.6450827 ,  0.98320436],\n",
              "                                       [ 0.19287986, -0.05116391,  0.11417533, ...,  0.03888023,\n",
              "                                         0.26550043,  0.88543904],\n",
              "                                       ...,\n",
              "                                       [-0.5965658 , -0.10243181, -0.11949789, ...,  0.03236017,\n",
              "                                         0.0706492 ,  0.513479  ],\n",
              "                                       [ 0.03660946, -1.1083236 ,  0.4871317 , ...,  0.23205262,\n",
              "                                         0.54832274,  0.87375534],\n",
              "                                       [ 0.8080455 , -0.10345592, -0.33492056, ...,  0.24067965,\n",
              "                                        -0.90280986, -0.11903504]]], dtype=float32)>),\n",
              "                              ('pooler_output',\n",
              "                               <tf.Tensor: shape=(1, 768), dtype=float32, numpy=\n",
              "                               array([[-8.63182425e-01, -3.02886069e-01, -6.16420023e-02,\n",
              "                                        7.47816145e-01,  1.31561235e-01, -1.52283058e-01,\n",
              "                                        8.63306820e-01,  2.34552398e-01,  1.61035080e-02,\n",
              "                                       -9.99953687e-01,  1.53477222e-01,  4.68412578e-01,\n",
              "                                        9.72192109e-01, -1.76917464e-01,  8.86361718e-01,\n",
              "                                       -5.50321400e-01, -8.01964477e-02, -4.60440844e-01,\n",
              "                                        3.36336613e-01, -6.73146367e-01,  5.67865849e-01,\n",
              "                                        9.93090212e-01,  5.61543941e-01,  2.63620675e-01,\n",
              "                                        3.44256163e-01,  5.46620786e-01, -5.32904804e-01,\n",
              "                                        8.91185164e-01,  9.26636159e-01,  6.49555981e-01,\n",
              "                                       -6.76295340e-01,  1.81733355e-01, -9.75544214e-01,\n",
              "                                       -1.27452388e-01, -1.17568851e-01, -9.77424860e-01,\n",
              "                                        2.40277424e-01, -7.39982426e-01,  4.91748117e-02,\n",
              "                                       -3.75817381e-02, -8.45175147e-01,  2.97796875e-01,\n",
              "                                        9.99418914e-01, -4.66648668e-01, -5.40279858e-02,\n",
              "                                       -2.89874613e-01, -9.99972641e-01,  2.11900517e-01,\n",
              "                                       -8.47904801e-01, -7.03257546e-02, -5.14144152e-02,\n",
              "                                       -2.03977421e-01,  1.50702521e-01,  3.59455258e-01,\n",
              "                                        3.97795498e-01,  1.84199110e-01, -2.16358915e-01,\n",
              "                                        7.47950152e-02, -1.55313313e-01, -5.68582952e-01,\n",
              "                                       -4.96413738e-01,  2.17505679e-01, -9.39964503e-02,\n",
              "                                       -8.87723505e-01, -5.27487174e-02, -2.20904320e-01,\n",
              "                                       -1.76857766e-02, -2.49055341e-01, -2.62550451e-02,\n",
              "                                       -4.70860042e-02,  8.28610182e-01,  1.77940354e-01,\n",
              "                                        2.01876223e-01, -7.11580455e-01, -2.69791931e-01,\n",
              "                                        1.06346011e-01, -4.46015060e-01,  1.00000000e+00,\n",
              "                                       -3.89998287e-01, -9.64089572e-01,  6.00054301e-03,\n",
              "                                       -8.81151929e-02,  3.82449627e-01,  4.88664508e-01,\n",
              "                                       -1.41303629e-01, -9.99999046e-01,  3.89750540e-01,\n",
              "                                       -7.16140121e-02, -9.79196846e-01,  1.73275709e-01,\n",
              "                                        4.04874682e-01, -6.24590032e-02, -2.13037595e-01,\n",
              "                                        4.09502655e-01, -3.12007964e-01, -2.24399596e-01,\n",
              "                                       -2.97442108e-01, -1.32195652e-04, -1.00543007e-01,\n",
              "                                       -8.38809535e-02,  6.89513832e-02, -1.85311064e-01,\n",
              "                                       -3.31091769e-02, -2.65993267e-01,  1.28140032e-01,\n",
              "                                       -2.91743368e-01, -3.55145335e-01,  1.34437710e-01,\n",
              "                                       -2.16992468e-01,  5.96821189e-01,  3.22088152e-01,\n",
              "                                       -2.60519922e-01,  2.24009395e-01, -9.28817570e-01,\n",
              "                                        5.39892852e-01, -2.08836198e-01, -9.70861614e-01,\n",
              "                                       -4.27362591e-01, -9.72897828e-01,  6.57611847e-01,\n",
              "                                        1.36017427e-01, -8.37610140e-02,  9.41497564e-01,\n",
              "                                        3.58897924e-01,  2.16652378e-01, -6.79712668e-02,\n",
              "                                        5.26030697e-02, -1.00000000e+00, -3.75501186e-01,\n",
              "                                       -2.44101629e-01,  1.50712311e-01, -5.89762889e-02,\n",
              "                                       -9.63082671e-01, -9.19078469e-01,  5.03339052e-01,\n",
              "                                        9.37655568e-01,  1.10174507e-01,  9.98245656e-01,\n",
              "                                       -2.58676410e-01,  9.07101810e-01,  2.40831122e-01,\n",
              "                                       -2.37272471e-01, -2.33157754e-01, -3.67507309e-01,\n",
              "                                        3.82468164e-01,  2.39409670e-01, -7.12262094e-01,\n",
              "                                        1.81735769e-01, -3.07515431e-02, -1.16521925e-01,\n",
              "                                       -2.94499308e-01, -2.26369649e-01,  9.60446522e-02,\n",
              "                                       -8.86451900e-01, -3.72644007e-01,  9.24082458e-01,\n",
              "                                        1.86862513e-01,  1.42116724e-02,  5.91184556e-01,\n",
              "                                       -1.59838989e-01, -3.27086657e-01,  8.36456656e-01,\n",
              "                                        5.09795010e-01,  2.77547210e-01, -3.98944505e-02,\n",
              "                                        2.53466636e-01, -4.48804721e-02,  4.29297775e-01,\n",
              "                                       -8.59427512e-01,  1.92314446e-01,  3.22299033e-01,\n",
              "                                       -2.13809684e-01,  7.51026198e-02, -9.58021939e-01,\n",
              "                                       -2.01358616e-01,  5.08774638e-01,  9.73307729e-01,\n",
              "                                        7.06296980e-01,  2.44622275e-01,  1.36779279e-01,\n",
              "                                       -2.97546536e-01,  2.12928146e-01, -9.02363241e-01,\n",
              "                                        9.60043013e-01,  6.07311120e-03,  1.14149667e-01,\n",
              "                                        2.83854723e-01, -2.72768140e-02, -8.57926488e-01,\n",
              "                                       -3.28656703e-01,  8.22118521e-01, -1.56619906e-01,\n",
              "                                       -8.28518152e-01,  3.45296822e-02, -3.56091946e-01,\n",
              "                                       -3.91646683e-01,  7.07145222e-03,  5.67456543e-01,\n",
              "                                       -1.98880360e-01, -3.63056719e-01, -1.94406193e-02,\n",
              "                                        8.69191289e-01,  9.67170060e-01,  7.32601285e-01,\n",
              "                                       -4.76893723e-01,  4.75055754e-01, -8.79686832e-01,\n",
              "                                       -2.82117009e-01,  1.00893453e-01,  1.55875728e-01,\n",
              "                                       -2.85446234e-02,  9.86915171e-01, -2.53684938e-01,\n",
              "                                       -8.82356688e-02, -8.94788623e-01, -9.64940846e-01,\n",
              "                                       -9.21480637e-03, -8.13978553e-01,  7.35053197e-02,\n",
              "                                       -6.87826574e-01,  2.84186661e-01,  2.70215929e-01,\n",
              "                                       -1.52445570e-01,  2.31909156e-01, -9.76189852e-01,\n",
              "                                       -7.39876390e-01,  2.01419339e-01, -2.67784029e-01,\n",
              "                                        3.30079168e-01, -1.93571255e-01,  4.78095055e-01,\n",
              "                                        3.28796059e-01, -5.16220570e-01,  6.95893705e-01,\n",
              "                                        8.58356833e-01,  2.79349554e-02, -6.36568427e-01,\n",
              "                                        7.89046705e-01, -1.79511741e-01,  8.67763638e-01,\n",
              "                                       -5.45184970e-01,  9.87272859e-01,  2.80180871e-01,\n",
              "                                        4.67259735e-01, -9.00704622e-01,  1.39207300e-03,\n",
              "                                       -9.09802735e-01,  7.49827102e-02, -4.47239308e-03,\n",
              "                                       -5.11914253e-01,  9.25084054e-02,  4.72014189e-01,\n",
              "                                        2.55079240e-01,  6.90713048e-01, -4.96617019e-01,\n",
              "                                        9.91385281e-01, -4.42527503e-01, -9.24209356e-01,\n",
              "                                        1.35365322e-01, -2.14962568e-02, -9.76881146e-01,\n",
              "                                        1.95620865e-01,  1.88716248e-01, -1.26586229e-01,\n",
              "                                       -3.57120126e-01, -4.71267641e-01, -9.15331483e-01,\n",
              "                                        8.65899444e-01,  5.76940775e-02,  9.86809671e-01,\n",
              "                                       -5.27147613e-02, -8.80889297e-01, -3.00318509e-01,\n",
              "                                       -8.56948674e-01, -2.04445109e-01, -8.24967846e-02,\n",
              "                                        5.33198774e-01, -2.02089131e-01, -9.22774374e-01,\n",
              "                                        3.05941135e-01,  5.21950006e-01,  3.50190043e-01,\n",
              "                                        3.11389387e-01,  9.92968321e-01,  9.99867141e-01,\n",
              "                                        9.58722532e-01,  8.39855909e-01,  8.50572407e-01,\n",
              "                                       -9.72796619e-01, -1.03285477e-01,  9.99981105e-01,\n",
              "                                       -7.71624804e-01, -9.99997079e-01, -9.16405618e-01,\n",
              "                                       -5.84573925e-01,  3.77146572e-01, -1.00000000e+00,\n",
              "                                       -8.54844879e-03,  5.64625151e-02, -8.66230726e-01,\n",
              "                                       -1.63726971e-01,  9.65452790e-01,  9.77275491e-01,\n",
              "                                       -1.00000000e+00,  8.88647914e-01,  9.24972951e-01,\n",
              "                                       -5.23832321e-01,  2.05073491e-01, -2.58757830e-01,\n",
              "                                        9.64857161e-01,  2.72104532e-01,  4.61126775e-01,\n",
              "                                       -1.00530751e-01,  2.35722959e-01, -3.27794522e-01,\n",
              "                                       -8.24404836e-01,  1.87308148e-01,  1.36431322e-01,\n",
              "                                        9.04138923e-01,  6.55872822e-02, -6.95002139e-01,\n",
              "                                       -8.89488697e-01,  7.03593763e-03,  1.30906031e-02,\n",
              "                                       -1.75600663e-01, -9.20077384e-01, -1.20831408e-01,\n",
              "                                       -3.04489583e-01,  6.39781952e-01,  1.80937991e-01,\n",
              "                                        2.09064066e-01, -7.79290318e-01,  1.93192318e-01,\n",
              "                                       -5.15827835e-01,  4.32701647e-01,  5.28184652e-01,\n",
              "                                       -9.19635355e-01, -6.93015516e-01,  2.39213090e-02,\n",
              "                                       -3.68221551e-01,  1.63234010e-01, -9.30485785e-01,\n",
              "                                        9.48215842e-01, -2.80386299e-01,  8.44795853e-02,\n",
              "                                        1.00000000e+00,  3.63143869e-02, -8.52803826e-01,\n",
              "                                        3.60908866e-01,  1.69278130e-01, -2.52320468e-01,\n",
              "                                        9.99999821e-01,  3.24009806e-01, -9.62476015e-01,\n",
              "                                       -4.60220486e-01,  3.24280649e-01, -3.64318252e-01,\n",
              "                                       -4.32676941e-01,  9.98619974e-01, -1.41447932e-01,\n",
              "                                        1.14526309e-01,  2.24763080e-01,  9.51704979e-01,\n",
              "                                       -9.78803813e-01,  7.59632051e-01, -8.73485506e-01,\n",
              "                                       -9.23305988e-01,  9.41884577e-01,  8.90048862e-01,\n",
              "                                       -9.78839993e-02, -7.47779131e-01,  5.63029153e-03,\n",
              "                                       -2.07323983e-01,  1.67185143e-01, -9.42150593e-01,\n",
              "                                        5.69705725e-01,  3.33063722e-01, -9.02382210e-02,\n",
              "                                        8.33478153e-01, -8.43110621e-01, -4.33928490e-01,\n",
              "                                        3.83375615e-01, -5.52030988e-02,  3.79507869e-01,\n",
              "                                        3.55546236e-01,  4.35556084e-01, -2.24770740e-01,\n",
              "                                        1.62856914e-02, -9.05632973e-02, -1.31466568e-01,\n",
              "                                       -9.47831929e-01,  9.36857834e-02,  9.99999702e-01,\n",
              "                                        1.83645800e-01, -8.92379656e-02, -1.34521961e-01,\n",
              "                                       -5.91958798e-02, -3.08904409e-01,  3.51907164e-01,\n",
              "                                        4.08392966e-01, -1.74117669e-01, -8.27604413e-01,\n",
              "                                       -5.01318127e-02, -8.67686450e-01, -9.72595215e-01,\n",
              "                                        6.95702314e-01,  1.27659887e-01, -2.14526936e-01,\n",
              "                                        9.99568164e-01,  1.39363050e-01,  1.70320526e-01,\n",
              "                                       -8.87521878e-02,  5.08026361e-01,  5.30725829e-02,\n",
              "                                        5.38514555e-01, -3.55260342e-01,  9.55390155e-01,\n",
              "                                       -1.42043769e-01,  4.42446321e-01,  8.07484806e-01,\n",
              "                                        4.50027660e-02, -2.12480396e-01, -6.16281390e-01,\n",
              "                                       -3.92149165e-02, -8.66273403e-01,  3.48014683e-02,\n",
              "                                       -9.25204158e-01,  9.30994511e-01,  4.47780713e-02,\n",
              "                                        2.38298297e-01,  2.78079249e-02,  5.50846122e-02,\n",
              "                                        1.00000000e+00, -2.55751386e-02,  6.15273714e-01,\n",
              "                                       -4.86415386e-01,  8.21936905e-01, -9.61003542e-01,\n",
              "                                       -6.88254952e-01, -3.20112854e-01,  2.18205508e-02,\n",
              "                                        1.74166664e-01, -2.00252220e-01,  9.00153667e-02,\n",
              "                                       -9.54174519e-01, -2.25060552e-01,  1.63984541e-02,\n",
              "                                       -9.65096533e-01, -9.77791429e-01,  3.93636972e-01,\n",
              "                                        8.00476193e-01, -4.50016484e-02, -6.88639104e-01,\n",
              "                                       -5.11425972e-01, -5.66830575e-01,  1.02996565e-01,\n",
              "                                       -1.63183182e-01, -8.63248944e-01,  5.97433567e-01,\n",
              "                                       -1.65422946e-01,  3.54725510e-01, -2.53780484e-01,\n",
              "                                        4.27299440e-01, -1.53052703e-01,  7.52942204e-01,\n",
              "                                       -5.17850230e-03, -3.53652649e-02, -7.00204894e-02,\n",
              "                                       -7.65895724e-01,  7.67739832e-01, -8.15863431e-01,\n",
              "                                       -6.80866987e-02, -4.54978608e-02,  1.00000000e+00,\n",
              "                                       -3.55421305e-01,  1.38195381e-01,  7.07888067e-01,\n",
              "                                        5.80958664e-01, -6.96016699e-02,  5.88965490e-02,\n",
              "                                        2.84312397e-01,  1.16132490e-01,  1.36559248e-01,\n",
              "                                        2.08103940e-01, -6.61861062e-01, -2.72720009e-01,\n",
              "                                        4.64227289e-01, -2.71175474e-01, -3.91781069e-02,\n",
              "                                        6.66037261e-01,  2.76173204e-01,  5.32088801e-04,\n",
              "                                        8.69709626e-02,  6.82398453e-02,  9.97315168e-01,\n",
              "                                       -1.14694916e-01, -1.20788693e-01, -4.49083149e-01,\n",
              "                                        7.76127428e-02, -2.01433793e-01, -4.91163343e-01,\n",
              "                                        9.99998808e-01,  2.75189340e-01,  3.51307690e-02,\n",
              "                                       -9.81156647e-01, -8.51081908e-02, -9.25817311e-01,\n",
              "                                        9.99603748e-01,  7.28556752e-01, -8.74546885e-01,\n",
              "                                        4.57197547e-01,  3.18096995e-01, -1.27073407e-01,\n",
              "                                        6.91513956e-01, -1.16070583e-01, -1.36385113e-01,\n",
              "                                        1.05580240e-01,  3.92414480e-02,  9.34659958e-01,\n",
              "                                       -3.14725101e-01, -9.35826898e-01, -6.10451221e-01,\n",
              "                                        3.09437692e-01, -9.31442857e-01,  9.81860697e-01,\n",
              "                                       -4.87871915e-01, -1.34599164e-01, -2.46003598e-01,\n",
              "                                        7.00727850e-02,  8.03885520e-01, -3.02883256e-02,\n",
              "                                       -9.54475462e-01, -6.13042861e-02, -7.98247755e-02,\n",
              "                                        9.43822086e-01,  1.09283112e-01, -4.34584081e-01,\n",
              "                                       -8.97254407e-01, -7.86571056e-02,  1.59260944e-01,\n",
              "                                        1.64763346e-01, -9.06098664e-01,  9.41163063e-01,\n",
              "                                       -9.55879152e-01,  2.93161362e-01,  9.99996364e-01,\n",
              "                                        2.74940073e-01, -5.09672940e-01,  7.34482035e-02,\n",
              "                                       -4.20689106e-01,  1.84618369e-01,  1.91832036e-01,\n",
              "                                        4.74478573e-01, -9.22510386e-01, -1.82385668e-01,\n",
              "                                       -7.07080811e-02,  2.92744428e-01, -1.98609933e-01,\n",
              "                                        1.45801306e-01,  6.31978691e-01,  1.33071557e-01,\n",
              "                                       -3.78199846e-01, -5.11977553e-01, -4.54076044e-02,\n",
              "                                        3.63449723e-01,  7.42032707e-01, -1.56902313e-01,\n",
              "                                       -6.89160377e-02,  1.04958467e-01, -9.45903435e-02,\n",
              "                                       -8.52491856e-01, -1.62813306e-01, -2.37719133e-01,\n",
              "                                       -9.96157706e-01,  5.95153153e-01, -1.00000000e+00,\n",
              "                                       -1.02940686e-01, -4.19907570e-01, -1.30468845e-01,\n",
              "                                        7.63526082e-01,  1.78190872e-01,  1.17563300e-01,\n",
              "                                       -6.27882719e-01,  1.97919965e-01,  7.66739964e-01,\n",
              "                                        6.27987683e-01, -1.56868100e-01,  9.71548930e-02,\n",
              "                                       -6.85923338e-01,  1.43609405e-01, -3.69727649e-02,\n",
              "                                        1.54503793e-01,  3.66344489e-02,  6.44414783e-01,\n",
              "                                       -8.21920708e-02,  1.00000000e+00,  7.89391156e-03,\n",
              "                                       -5.14166296e-01, -9.38193679e-01,  2.27773935e-01,\n",
              "                                       -2.11914986e-01,  9.99965787e-01, -8.71464968e-01,\n",
              "                                       -9.23259735e-01,  1.82868049e-01, -5.49719155e-01,\n",
              "                                       -7.20552683e-01,  1.75927296e-01, -5.38397320e-02,\n",
              "                                       -6.30298734e-01, -3.43605131e-01,  9.42115307e-01,\n",
              "                                        8.26424837e-01, -4.25435007e-01,  2.85808772e-01,\n",
              "                                       -2.38628149e-01, -3.78265411e-01, -4.40611783e-03,\n",
              "                                        7.96894729e-02,  9.71605539e-01,  4.07899708e-01,\n",
              "                                        8.59685123e-01,  3.46120358e-01,  1.17991485e-01,\n",
              "                                        9.28212821e-01,  1.91393301e-01,  6.25161052e-01,\n",
              "                                        3.98178436e-02,  9.99998450e-01,  2.60045588e-01,\n",
              "                                       -8.92256975e-01,  4.36365932e-01, -9.78771329e-01,\n",
              "                                       -1.48641542e-01, -9.39401984e-01,  1.46860600e-01,\n",
              "                                        7.79651925e-02,  8.23376298e-01, -1.82559535e-01,\n",
              "                                        9.48464930e-01,  1.63509130e-01, -7.88499508e-03,\n",
              "                                        3.08238715e-02,  4.65073854e-01,  2.81537533e-01,\n",
              "                                       -8.70947897e-01, -9.73298848e-01, -9.75446582e-01,\n",
              "                                        3.37936819e-01, -3.47872615e-01,  6.92522898e-03,\n",
              "                                        1.82498842e-01,  1.62862882e-01,  3.14584494e-01,\n",
              "                                        2.53922194e-01, -9.99997437e-01,  9.02830958e-01,\n",
              "                                        3.42812240e-01, -4.79522301e-03,  9.38189209e-01,\n",
              "                                        2.36532986e-01,  2.90057093e-01,  2.19678417e-01,\n",
              "                                       -9.74846959e-01, -9.39141154e-01, -2.68509239e-01,\n",
              "                                       -2.33579382e-01,  7.72132874e-01,  5.81399024e-01,\n",
              "                                        7.53044367e-01,  2.06122354e-01, -3.77319723e-01,\n",
              "                                       -4.01179820e-01,  2.43520662e-01, -2.83450246e-01,\n",
              "                                       -9.82361376e-01,  3.28113586e-01,  1.81936458e-01,\n",
              "                                       -9.18510079e-01,  9.19104099e-01, -5.23777962e-01,\n",
              "                                       -1.25793308e-01,  5.41348934e-01, -3.06542274e-02,\n",
              "                                        9.24396992e-01,  8.13683510e-01,  3.61108929e-01,\n",
              "                                        1.19610101e-01,  5.25851607e-01,  8.22032392e-01,\n",
              "                                        9.41633344e-01,  9.81830895e-01, -1.65968612e-01,\n",
              "                                        7.75148690e-01,  1.02795571e-01,  3.17640573e-01,\n",
              "                                        3.47377777e-01, -9.18939233e-01,  1.00862019e-01,\n",
              "                                       -3.53485234e-02,  6.67182822e-03,  1.31217837e-01,\n",
              "                                       -1.17156245e-01, -9.39927101e-01,  4.17511344e-01,\n",
              "                                       -1.67683572e-01,  4.45886463e-01, -3.23320001e-01,\n",
              "                                        2.12417841e-01, -3.68370354e-01, -1.28606066e-01,\n",
              "                                       -7.21094489e-01, -4.03555900e-01,  4.87150103e-01,\n",
              "                                        2.73032963e-01,  8.77578735e-01,  3.97325128e-01,\n",
              "                                        2.18102406e-03, -5.89812517e-01, -1.30988792e-01,\n",
              "                                       -2.88721398e-02, -8.74270678e-01,  8.93110812e-01,\n",
              "                                        4.03569713e-02,  2.99615383e-01,  1.27908334e-01,\n",
              "                                       -7.46679306e-02,  7.14530468e-01, -2.21813306e-01,\n",
              "                                       -3.36834639e-01, -1.99835971e-01, -7.49743581e-01,\n",
              "                                        8.50843072e-01, -3.59656125e-01, -4.15180147e-01,\n",
              "                                       -4.29033220e-01,  6.30135834e-01,  2.65204400e-01,\n",
              "                                        9.93321359e-01, -2.03518532e-02, -2.07293332e-02,\n",
              "                                       -1.09281383e-01, -1.93203747e-01,  2.67742097e-01,\n",
              "                                       -2.00001553e-01, -9.99997616e-01,  3.52442414e-01,\n",
              "                                        6.56030551e-02, -8.63057598e-02, -1.23482579e-02,\n",
              "                                        1.17993606e-02, -6.01540729e-02, -9.62802052e-01,\n",
              "                                       -1.31586820e-01,  4.42270264e-02, -6.57687262e-02,\n",
              "                                       -4.92262512e-01, -3.47348690e-01,  4.04801816e-01,\n",
              "                                        3.11014414e-01,  4.99767959e-01,  8.73730302e-01,\n",
              "                                       -1.58645399e-02,  4.86597687e-01,  5.08283496e-01,\n",
              "                                       -1.64928377e-01, -5.68093240e-01,  7.92583823e-01]], dtype=float32)>)])"
            ]
          },
          "metadata": {
            "tags": []
          },
          "execution_count": 78
        }
      ]
    },
    {
      "cell_type": "code",
      "metadata": {
        "colab": {
          "base_uri": "https://localhost:8080/"
        },
        "id": "OtNrpZS49mVP",
        "outputId": "07715db8-088b-4240-ab72-7efc5323f5c5"
      },
      "source": [
        "%%timeit\n",
        "classifier([\"Time of processing a single statement\"])"
      ],
      "execution_count": 79,
      "outputs": [
        {
          "output_type": "stream",
          "text": [
            "10 loops, best of 5: 40.4 ms per loop\n"
          ],
          "name": "stdout"
        }
      ]
    },
    {
      "cell_type": "code",
      "metadata": {
        "colab": {
          "base_uri": "https://localhost:8080/"
        },
        "id": "A8Wmc2ic9lLw",
        "outputId": "e9efba50-5d27-4723-fdae-928ff226a682"
      },
      "source": [
        "%%timeit\n",
        "text = \"Time of processing a single statement\"\n",
        "encoded_input = tokenizer(text, return_tensors='tf')\n",
        "output = model(encoded_input)\n",
        "output"
      ],
      "execution_count": 80,
      "outputs": [
        {
          "output_type": "stream",
          "text": [
            "1 loop, best of 5: 227 ms per loop\n"
          ],
          "name": "stdout"
        }
      ]
    },
    {
      "cell_type": "markdown",
      "metadata": {
        "id": "tOCdKg-V-cer"
      },
      "source": [
        "### Run Analyses"
      ]
    },
    {
      "cell_type": "code",
      "metadata": {
        "colab": {
          "base_uri": "https://localhost:8080/",
          "height": 0
        },
        "id": "4qAcFRZ79Q9i",
        "outputId": "b311fdf5-ae6f-4030-cdb0-717df89ce369"
      },
      "source": [
        "def analyze_data(df, make_embeddings=True):\n",
        "\n",
        "    display(df.head(5))\n",
        "    df = df.sort_values('date')\n",
        "\n",
        "    processed = []\n",
        "    for i, row in df[::50].iterrows():\n",
        "\n",
        "        sentiment = classifier([row.text])\n",
        "\n",
        "        continuous_sentiment = sentiment[0]['score']\n",
        "        if sentiment[0]['label'] == 'NEGATIVE':\n",
        "            continuous_sentiment *= -1\n",
        "\n",
        "        if make_embeddings:\n",
        "            embedding = model(tokenizer(row.text, return_tensors='tf'))\n",
        "        else:\n",
        "            embedding = None\n",
        "\n",
        "        processed.append(dict(\n",
        "            text=row.text, \n",
        "            date=row.date,\n",
        "            sentiment=continuous_sentiment,\n",
        "            embedding=embedding\n",
        "        ))\n",
        "    processed_df = pd.DataFrame(processed)\n",
        "\n",
        "    return processed_df\n",
        "\n",
        "processed_df1 = analyze_data(df1, make_embeddings=True)"
      ],
      "execution_count": 128,
      "outputs": [
        {
          "output_type": "display_data",
          "data": {
            "text/html": [
              "<div>\n",
              "<style scoped>\n",
              "    .dataframe tbody tr th:only-of-type {\n",
              "        vertical-align: middle;\n",
              "    }\n",
              "\n",
              "    .dataframe tbody tr th {\n",
              "        vertical-align: top;\n",
              "    }\n",
              "\n",
              "    .dataframe thead th {\n",
              "        text-align: right;\n",
              "    }\n",
              "</style>\n",
              "<table border=\"1\" class=\"dataframe\">\n",
              "  <thead>\n",
              "    <tr style=\"text-align: right;\">\n",
              "      <th></th>\n",
              "      <th>text</th>\n",
              "      <th>date</th>\n",
              "    </tr>\n",
              "  </thead>\n",
              "  <tbody>\n",
              "    <tr>\n",
              "      <th>0</th>\n",
              "      <td>Australia to Manufacture Covid-19 Vaccine and ...</td>\n",
              "      <td>2020-08-18 12:55:00</td>\n",
              "    </tr>\n",
              "    <tr>\n",
              "      <th>1</th>\n",
              "      <td>#CoronavirusVaccine #CoronaVaccine #CovidVacci...</td>\n",
              "      <td>2020-08-18 12:55:00</td>\n",
              "    </tr>\n",
              "    <tr>\n",
              "      <th>2</th>\n",
              "      <td>Deaths due to COVID-19 in Affected Countries\\n...</td>\n",
              "      <td>2020-08-18 12:46:00</td>\n",
              "    </tr>\n",
              "    <tr>\n",
              "      <th>3</th>\n",
              "      <td>@Team_Subhashree @subhashreesotwe @iamrajchoco...</td>\n",
              "      <td>2020-08-18 12:45:00</td>\n",
              "    </tr>\n",
              "    <tr>\n",
              "      <th>4</th>\n",
              "      <td>@michellegrattan @ConversationEDU This is what...</td>\n",
              "      <td>2020-08-18 12:45:00</td>\n",
              "    </tr>\n",
              "  </tbody>\n",
              "</table>\n",
              "</div>"
            ],
            "text/plain": [
              "                                                text                date\n",
              "0  Australia to Manufacture Covid-19 Vaccine and ... 2020-08-18 12:55:00\n",
              "1  #CoronavirusVaccine #CoronaVaccine #CovidVacci... 2020-08-18 12:55:00\n",
              "2  Deaths due to COVID-19 in Affected Countries\\n... 2020-08-18 12:46:00\n",
              "3  @Team_Subhashree @subhashreesotwe @iamrajchoco... 2020-08-18 12:45:00\n",
              "4  @michellegrattan @ConversationEDU This is what... 2020-08-18 12:45:00"
            ]
          },
          "metadata": {
            "tags": []
          }
        }
      ]
    },
    {
      "cell_type": "markdown",
      "metadata": {
        "id": "W7hX7xJMJ2Te"
      },
      "source": [
        "## Visualize sentiment over time (the wrong way)"
      ]
    },
    {
      "cell_type": "code",
      "metadata": {
        "colab": {
          "base_uri": "https://localhost:8080/",
          "height": 1000
        },
        "id": "ambwhOjlAPrY",
        "outputId": "067df4a6-1645-4347-bca4-2b095a84dce7"
      },
      "source": [
        "plt.figure(figsize=(10, 10), dpi=300)\n",
        "\n",
        "df1_sorted = processed_df1.sort_values('date')\n",
        "plt.plot(df1_sorted.date, df1_sorted.sentiment, '.', color='red')\n",
        "smoothed_sentiment = scipy.signal.savgol_filter(df1_sorted.sentiment, 51, 7) # window size 51, polynomial order 3\n",
        "plt.plot(df1_sorted.date, smoothed_sentiment, color='blue')\n",
        "\n",
        "plt.title('Sentiment over time')\n",
        "plt.xlabel('Date')\n",
        "plt.ylabel('Sentiment')\n",
        "plt.legend(['raw sentiment', 'savgol filtered sentiment'])\n",
        "plt.show()"
      ],
      "execution_count": 94,
      "outputs": [
        {
          "output_type": "display_data",
          "data": {
            "image/png": "[encoded data removed]",
            "text/plain": [
              "<Figure size 3000x3000 with 1 Axes>"
            ]
          },
          "metadata": {
            "tags": [],
            "needs_background": "light"
          }
        }
      ]
    },
    {
      "cell_type": "code",
      "metadata": {
        "colab": {
          "base_uri": "https://localhost:8080/",
          "height": 1000
        },
        "id": "tCmU9JLHEVrO",
        "outputId": "4752fc08-7327-40ad-ee88-787b4ea78070"
      },
      "source": [
        "plt.figure(figsize=(10, 10), dpi=300)\n",
        "\n",
        "df1_sorted = processed_df1.sort_values('date')\n",
        "\n",
        "neg_df1_sorted = df1_sorted[df1_sorted.sentiment <= 0]\n",
        "\n",
        "plt.plot(neg_df1_sorted.date, neg_df1_sorted.sentiment, '.', color='red')\n",
        "smoothed_sentiment = scipy.signal.savgol_filter(neg_df1_sorted.sentiment, 51, 7) # window size 51, polynomial order 3\n",
        "plt.plot(neg_df1_sorted.date, smoothed_sentiment, color='blue')\n",
        "\n",
        "plt.title('Negative sentiment over time')\n",
        "plt.xlabel('Date')\n",
        "plt.ylabel('Sentiment')\n",
        "plt.legend(['raw sentiment', 'savgol filtered sentiment'])\n",
        "\n",
        "plt.show()"
      ],
      "execution_count": 92,
      "outputs": [
        {
          "output_type": "display_data",
          "data": {
            "image/png": "[encoded data removed]",
            "text/plain": [
              "<Figure size 3000x3000 with 1 Axes>"
            ]
          },
          "metadata": {
            "tags": [],
            "needs_background": "light"
          }
        }
      ]
    },
    {
      "cell_type": "markdown",
      "metadata": {
        "id": "joqhBSorK6SD"
      },
      "source": [
        "We later realized that these fluctuations may reflect the true sentiment of statements, but they may also reflect the certainty of the classifier. Therefore, we discarded this data in favor of the [Coronavirus (COVID-19) Tweets Dataset](https://ieee-dataport.org/open-access/coronavirus-covid-19-tweets-dataset#files). The spreadsheet and publication chart for that data is accessible from our [project site](https://sodp-team114.herokuapp.com/)"
      ]
    },
    {
      "cell_type": "markdown",
      "metadata": {
        "id": "mlFohGKVPM56"
      },
      "source": [
        "## Visualize sentiment over time (less biased approach"
      ]
    },
    {
      "cell_type": "code",
      "metadata": {
        "colab": {
          "base_uri": "https://localhost:8080/",
          "height": 195
        },
        "id": "pA4UBAEgPOPb",
        "outputId": "7abb652e-2c99-4b5e-e4d2-cf95018733e0"
      },
      "source": [
        "# I uploaded 'corona_tweets_09.csv' from \n",
        "# https://ieee-dataport.org/open-access/coronavirus-covid-19-tweets-dataset\n",
        "\n",
        "ct9 = pd.read_csv('corona_tweets_09.csv')\n",
        "ct9.head()"
      ],
      "execution_count": 2,
      "outputs": [
        {
          "output_type": "execute_result",
          "data": {
            "text/html": [
              "<div>\n",
              "<style scoped>\n",
              "    .dataframe tbody tr th:only-of-type {\n",
              "        vertical-align: middle;\n",
              "    }\n",
              "\n",
              "    .dataframe tbody tr th {\n",
              "        vertical-align: top;\n",
              "    }\n",
              "\n",
              "    .dataframe thead th {\n",
              "        text-align: right;\n",
              "    }\n",
              "</style>\n",
              "<table border=\"1\" class=\"dataframe\">\n",
              "  <thead>\n",
              "    <tr style=\"text-align: right;\">\n",
              "      <th></th>\n",
              "      <th>1243071692966105088</th>\n",
              "      <th>0</th>\n",
              "    </tr>\n",
              "  </thead>\n",
              "  <tbody>\n",
              "    <tr>\n",
              "      <th>0</th>\n",
              "      <td>1243071693133942784</td>\n",
              "      <td>-0.125000</td>\n",
              "    </tr>\n",
              "    <tr>\n",
              "      <th>1</th>\n",
              "      <td>1243071693347643393</td>\n",
              "      <td>0.233333</td>\n",
              "    </tr>\n",
              "    <tr>\n",
              "      <th>2</th>\n",
              "      <td>1243071693611880448</td>\n",
              "      <td>0.000000</td>\n",
              "    </tr>\n",
              "    <tr>\n",
              "      <th>3</th>\n",
              "      <td>1243071693498638336</td>\n",
              "      <td>-0.133333</td>\n",
              "    </tr>\n",
              "    <tr>\n",
              "      <th>4</th>\n",
              "      <td>1243071693821747201</td>\n",
              "      <td>-0.062500</td>\n",
              "    </tr>\n",
              "  </tbody>\n",
              "</table>\n",
              "</div>"
            ],
            "text/plain": [
              "   1243071692966105088         0\n",
              "0  1243071693133942784 -0.125000\n",
              "1  1243071693347643393  0.233333\n",
              "2  1243071693611880448  0.000000\n",
              "3  1243071693498638336 -0.133333\n",
              "4  1243071693821747201 -0.062500"
            ]
          },
          "metadata": {
            "tags": []
          },
          "execution_count": 2
        }
      ]
    },
    {
      "cell_type": "code",
      "metadata": {
        "id": "cccW0sfUUzdB"
      },
      "source": [
        "def plot_vals(vals, title):\n",
        "    print(f'\\nmean={vals.mean()}, meadian={scipy.median(vals)}\\n')\n",
        "\n",
        "    fig, axes = plt.subplots(1, 2, figsize=(12, 6))\n",
        "    sns.distplot(vals, rug=True, ax=axes[0])\n",
        "    axes[0].set_xlabel('Sentiment')\n",
        "    axes[0].set_ylabel('Frequency')\n",
        "\n",
        "    axes[1].boxplot(vals)\n",
        "    axes[1].set_ylabel('Sentiment')\n",
        "\n",
        "    fig.suptitle(title)\n",
        "    plt.show()"
      ],
      "execution_count": 3,
      "outputs": []
    },
    {
      "cell_type": "markdown",
      "metadata": {
        "id": "rKwkWZPEPwiY"
      },
      "source": [
        "### Unstratified sampling"
      ]
    },
    {
      "cell_type": "code",
      "metadata": {
        "colab": {
          "base_uri": "https://localhost:8080/",
          "height": 610
        },
        "id": "HIlNn4GFPv1f",
        "outputId": "2b7ee81c-3564-4e4b-c621-879de882c854"
      },
      "source": [
        "vals = ct9['0']\n",
        "vals = vals.to_numpy()\n",
        "\n",
        "plot_vals(vals, 'Sentiment of March 27-28 2020 COVID Vaccine Related Tweets')"
      ],
      "execution_count": 4,
      "outputs": [
        {
          "output_type": "stream",
          "text": [
            "/usr/local/lib/python3.7/dist-packages/ipykernel_launcher.py:2: DeprecationWarning: scipy.median is deprecated and will be removed in SciPy 2.0.0, use numpy.median instead\n",
            "  \n",
            "/usr/local/lib/python3.7/dist-packages/seaborn/distributions.py:2557: FutureWarning: `distplot` is a deprecated function and will be removed in a future version. Please adapt your code to use either `displot` (a figure-level function with similar flexibility) or `histplot` (an axes-level function for histograms).\n",
            "  warnings.warn(msg, FutureWarning)\n"
          ],
          "name": "stderr"
        },
        {
          "output_type": "stream",
          "text": [
            "\n",
            "mean=0.04918822590081064, meadian=0.0\n",
            "\n"
          ],
          "name": "stdout"
        },
        {
          "output_type": "stream",
          "text": [
            "/usr/local/lib/python3.7/dist-packages/seaborn/distributions.py:2056: FutureWarning: The `axis` variable is no longer used and will be removed. Instead, assign variables directly to `x` or `y`.\n",
            "  warnings.warn(msg, FutureWarning)\n"
          ],
          "name": "stderr"
        },
        {
          "output_type": "display_data",
          "data": {
            "image/png": "[encoded data removed]",
            "text/plain": [
              "<Figure size 864x432 with 2 Axes>"
            ]
          },
          "metadata": {
            "tags": [],
            "needs_background": "light"
          }
        }
      ]
    },
    {
      "cell_type": "markdown",
      "metadata": {
        "id": "GKzhT7_0QBRG"
      },
      "source": [
        "### $x \\le -0.05 \\mathrm{\\ or\\ } 0.05 \\le x$ "
      ]
    },
    {
      "cell_type": "code",
      "metadata": {
        "colab": {
          "base_uri": "https://localhost:8080/",
          "height": 610
        },
        "id": "Gd4S7QdmQh7B",
        "outputId": "9414304b-36d2-4ef2-ea1b-dd569334acb3"
      },
      "source": [
        "vals = ct9['0']\n",
        "vals = vals.to_numpy()\n",
        "vals = [val for val in vals\n",
        "        if val >= 0.05 or val <= -0.05]\n",
        "vals = np.array(vals)\n",
        "\n",
        "plot_vals(vals, r'Non-Central Sentiment of March 27-28 2020 COVID Vaccine Related Tweets')"
      ],
      "execution_count": 5,
      "outputs": [
        {
          "output_type": "stream",
          "text": [
            "/usr/local/lib/python3.7/dist-packages/ipykernel_launcher.py:2: DeprecationWarning: scipy.median is deprecated and will be removed in SciPy 2.0.0, use numpy.median instead\n",
            "  \n",
            "/usr/local/lib/python3.7/dist-packages/seaborn/distributions.py:2557: FutureWarning: `distplot` is a deprecated function and will be removed in a future version. Please adapt your code to use either `displot` (a figure-level function with similar flexibility) or `histplot` (an axes-level function for histograms).\n",
            "  warnings.warn(msg, FutureWarning)\n"
          ],
          "name": "stderr"
        },
        {
          "output_type": "stream",
          "text": [
            "\n",
            "mean=0.09570094913863447, meadian=0.13392857142857142\n",
            "\n"
          ],
          "name": "stdout"
        },
        {
          "output_type": "stream",
          "text": [
            "/usr/local/lib/python3.7/dist-packages/seaborn/distributions.py:2056: FutureWarning: The `axis` variable is no longer used and will be removed. Instead, assign variables directly to `x` or `y`.\n",
            "  warnings.warn(msg, FutureWarning)\n"
          ],
          "name": "stderr"
        },
        {
          "output_type": "display_data",
          "data": {
            "image/png": "[encoded data removed]",
            "text/plain": [
              "<Figure size 864x432 with 2 Axes>"
            ]
          },
          "metadata": {
            "tags": [],
            "needs_background": "light"
          }
        }
      ]
    },
    {
      "cell_type": "markdown",
      "metadata": {
        "id": "vr-BNOIcQx5g"
      },
      "source": [
        "### $x \\ge 0.05$"
      ]
    },
    {
      "cell_type": "code",
      "metadata": {
        "colab": {
          "base_uri": "https://localhost:8080/",
          "height": 610
        },
        "id": "w3gb3yQNQusW",
        "outputId": "0d100a2a-d083-4a2c-8e00-0c67b04526e2"
      },
      "source": [
        "vals = ct9['0']\n",
        "vals = vals.to_numpy()\n",
        "vals = vals[vals >= 0.05]\n",
        "\n",
        "plot_vals(vals, r'Positive-Filtered Sentiment of March 27-28 2020 COVID Vaccine Related Tweets')"
      ],
      "execution_count": 6,
      "outputs": [
        {
          "output_type": "stream",
          "text": [
            "/usr/local/lib/python3.7/dist-packages/ipykernel_launcher.py:2: DeprecationWarning: scipy.median is deprecated and will be removed in SciPy 2.0.0, use numpy.median instead\n",
            "  \n",
            "/usr/local/lib/python3.7/dist-packages/seaborn/distributions.py:2557: FutureWarning: `distplot` is a deprecated function and will be removed in a future version. Please adapt your code to use either `displot` (a figure-level function with similar flexibility) or `histplot` (an axes-level function for histograms).\n",
            "  warnings.warn(msg, FutureWarning)\n"
          ],
          "name": "stderr"
        },
        {
          "output_type": "stream",
          "text": [
            "\n",
            "mean=0.3124805752967794, meadian=0.25\n",
            "\n"
          ],
          "name": "stdout"
        },
        {
          "output_type": "stream",
          "text": [
            "/usr/local/lib/python3.7/dist-packages/seaborn/distributions.py:2056: FutureWarning: The `axis` variable is no longer used and will be removed. Instead, assign variables directly to `x` or `y`.\n",
            "  warnings.warn(msg, FutureWarning)\n"
          ],
          "name": "stderr"
        },
        {
          "output_type": "display_data",
          "data": {
            "image/png": "[encoded data removed]",
            "text/plain": [
              "<Figure size 864x432 with 2 Axes>"
            ]
          },
          "metadata": {
            "tags": [],
            "needs_background": "light"
          }
        }
      ]
    },
    {
      "cell_type": "markdown",
      "metadata": {
        "id": "CFYb95reQm4m"
      },
      "source": [
        "### $x \\le -0.05$"
      ]
    },
    {
      "cell_type": "code",
      "metadata": {
        "colab": {
          "base_uri": "https://localhost:8080/",
          "height": 610
        },
        "id": "cGHxqRT1Ql64",
        "outputId": "6d930df4-75db-4ecd-a7c3-59017a7c5d14"
      },
      "source": [
        "vals = ct9['0']\n",
        "vals = vals.to_numpy()\n",
        "vals = vals[vals <= -0.05]\n",
        "\n",
        "plot_vals(vals, r'Negative-Filtered Sentiment of March 27-28 2020 COVID Vaccine Related Tweets')"
      ],
      "execution_count": 7,
      "outputs": [
        {
          "output_type": "stream",
          "text": [
            "/usr/local/lib/python3.7/dist-packages/ipykernel_launcher.py:2: DeprecationWarning: scipy.median is deprecated and will be removed in SciPy 2.0.0, use numpy.median instead\n",
            "  \n",
            "/usr/local/lib/python3.7/dist-packages/seaborn/distributions.py:2557: FutureWarning: `distplot` is a deprecated function and will be removed in a future version. Please adapt your code to use either `displot` (a figure-level function with similar flexibility) or `histplot` (an axes-level function for histograms).\n",
            "  warnings.warn(msg, FutureWarning)\n"
          ],
          "name": "stderr"
        },
        {
          "output_type": "stream",
          "text": [
            "\n",
            "mean=-0.30970065211674563, meadian=-0.22083333333333333\n",
            "\n"
          ],
          "name": "stdout"
        },
        {
          "output_type": "stream",
          "text": [
            "/usr/local/lib/python3.7/dist-packages/seaborn/distributions.py:2056: FutureWarning: The `axis` variable is no longer used and will be removed. Instead, assign variables directly to `x` or `y`.\n",
            "  warnings.warn(msg, FutureWarning)\n"
          ],
          "name": "stderr"
        },
        {
          "output_type": "display_data",
          "data": {
            "image/png": "[encoded data removed]",
            "text/plain": [
              "<Figure size 864x432 with 2 Axes>"
            ]
          },
          "metadata": {
            "tags": [],
            "needs_background": "light"
          }
        }
      ]
    },
    {
      "cell_type": "markdown",
      "metadata": {
        "id": "EmeIEedFLk9t"
      },
      "source": [
        "## Visualize semantic clusters"
      ]
    },
    {
      "cell_type": "code",
      "metadata": {
        "colab": {
          "base_uri": "https://localhost:8080/"
        },
        "id": "XM2nlxMWLouD",
        "outputId": "8f2311f8-60f1-45b6-a09f-0ef2253117ab"
      },
      "source": [
        "cluster_ds = processed_df1[processed_df1.sentiment < 0]\n",
        "cluster_ds = cluster_ds[cluster_ds.text!='']\n",
        "cluster_ds.text"
      ],
      "execution_count": 130,
      "outputs": [
        {
          "output_type": "execute_result",
          "data": {
            "text/plain": [
              "1      August 28 webinar - COVID Vaccine Research &am...\n",
              "2      Covid-19 vaccines may cause mild side effects,...\n",
              "3      Russia has developed first coronavirus vaccine...\n",
              "4      : Legendary Putin claimed that Russian Vaccine...\n",
              "5      Russia makes the first #COVID19\\nVaccine!\\n\\nh...\n",
              "                             ...                        \n",
              "469    I'm worried too. Very worried. \\n#SARSCoV2 #CO...\n",
              "470    So, Wuhan has \"fully recovered\" without any pr...\n",
              "471    Pharma giant Johnson &amp; Johnson just launch...\n",
              "472    @timesofindia @TOIWorld #WHO is this guy? When...\n",
              "473    While there is no indication that #Trump’s des...\n",
              "Name: text, Length: 382, dtype: object"
            ]
          },
          "metadata": {
            "tags": []
          },
          "execution_count": 130
        }
      ]
    },
    {
      "cell_type": "code",
      "metadata": {
        "colab": {
          "base_uri": "https://localhost:8080/",
          "height": 1000
        },
        "id": "PmzbzKDOMuOT",
        "outputId": "5739961a-8610-4600-cd60-eadfe0466387"
      },
      "source": [
        "K = 10\n",
        "\n",
        "np_emb = [row.embedding['last_hidden_state'].numpy()[:, -1, :] for row in cluster_ds.itertuples()]\n",
        "hyp.plot(np_emb, '.', zoom=0.1, n_clusters=K, size=(10, 10))\n",
        "plt.show()\n",
        "\n",
        "np_emb = [row.embedding['pooler_output'].numpy() for row in cluster_ds.itertuples()]\n",
        "hyp.plot(np_emb, '.', zoom=0.1, n_clusters=K, size=(10, 10))\n",
        "plt.show()\n",
        "\n",
        "clusters2020 = np.array(hyp.cluster(np_emb, n_clusters=K))"
      ],
      "execution_count": 133,
      "outputs": [
        {
          "output_type": "display_data",
          "data": {
            "image/png": "[encoded data removed]",
            "text/plain": [
              "<Figure size 720x720 with 1 Axes>"
            ]
          },
          "metadata": {
            "tags": []
          }
        },
        {
          "output_type": "stream",
          "text": [
            "/usr/local/lib/python3.7/dist-packages/hypertools/plot/plot.py:487: VisibleDeprecationWarning: Creating an ndarray from ragged nested sequences (which is a list-or-tuple of lists-or-tuples-or ndarrays with different lengths or shapes) is deprecated. If you meant to do this, you must specify 'dtype=object' when creating the ndarray\n",
            "  kwargs[kwarg]=np.array(kwargs[kwarg])\n"
          ],
          "name": "stderr"
        },
        {
          "output_type": "display_data",
          "data": {
            "image/png": "[encoded data removed]",
            "text/plain": [
              "<Figure size 720x720 with 1 Axes>"
            ]
          },
          "metadata": {
            "tags": []
          }
        },
        {
          "output_type": "stream",
          "text": [
            "/usr/local/lib/python3.7/dist-packages/hypertools/plot/plot.py:487: VisibleDeprecationWarning: Creating an ndarray from ragged nested sequences (which is a list-or-tuple of lists-or-tuples-or ndarrays with different lengths or shapes) is deprecated. If you meant to do this, you must specify 'dtype=object' when creating the ndarray\n",
            "  kwargs[kwarg]=np.array(kwargs[kwarg])\n"
          ],
          "name": "stderr"
        }
      ]
    },
    {
      "cell_type": "markdown",
      "metadata": {
        "id": "F5GNMQQLOGUb"
      },
      "source": [
        "## Qualitatively analyze clusters"
      ]
    },
    {
      "cell_type": "code",
      "metadata": {
        "colab": {
          "base_uri": "https://localhost:8080/"
        },
        "id": "nbsl-agaNEJ7",
        "outputId": "d7ec41f7-1359-47a3-b92f-bdfa11eaa288"
      },
      "source": [
        "cluster_bins = {k: list() for k in range(K)}\n",
        "for k_select in range(K):\n",
        "    print(f'Looking at cluster {k_select} with {sum((clusters2020==k_select).astype(int))} elements:\\n')\n",
        "    #print(sum((clusters2020==k_select).astype(int)))\n",
        "    for i, ki in enumerate(clusters2020):\n",
        "        if ki == k_select:\n",
        "            try:\n",
        "                text = cluster_ds.loc[i].text.strip()\n",
        "                cluster_bins[ki].append(text)\n",
        "                print(text)\n",
        "            except:\n",
        "                pass\n",
        "    print(96*'=' + '\\n')"
      ],
      "execution_count": 134,
      "outputs": [
        {
          "output_type": "stream",
          "text": [
            "Looking at cluster 0 with 23 elements:\n",
            "\n",
            ": Legendary Putin claimed that Russian Vaccine is ready to be distributed. He claims he used the vaccine on his dau… https://t.co/jneZcY9ecY\n",
            "#Scientists ask: Without trial data, how can we trust #Russia's #Covidvaccine? https://t.co/txahNbGb0O\n",
            "Seriously, guys, this year has been the worst and the hits keep coming (for the nation, for all of us, but also for… https://t.co/d5F1mcZGOy\n",
            "As @narendramodi mentioned about #CovidVaccine so why are we taking risks with Millions of Student's life and their… https://t.co/gOuBdbt0Sf\n",
            "Health workers' army to be trained to deliver #Covidvaccine!!\n",
            "Join with us online at #vaccinerd2020\n",
            "Email: vacciner… https://t.co/mvBflGDnpW\n",
            "Covidvacince latest updates \n",
            "#COVID #COVID__19 #COVID19 #CovidVaccine https://t.co/4NL1CHtttt\n",
            "Prevent any restrictions on those who refuse a #COVID19 vaccination\n",
            "\n",
            "#coronavirus\n",
            "#COVID\n",
            "#COVID__19\n",
            "#CovidVaccine… https://t.co/DC1Pa73mro\n",
            "World's First Registered Russian Vaccine Against COVID-19 Presented to Defence Ministers of SCO, CIS, CSTO &amp; Republ… https://t.co/q2kxr9Ofna\n",
            "I've been wary of the #EmergencyUseAuthorization for a #COVIDvaccine and if you want to know why, take it from a RE… https://t.co/Fvlmg070kP\n",
            "India is doing best in controlling #mortilityRate of #COVID19 \n",
            "#TestingTracking&amp;treatment\n",
            "#CovidVaccine making\n",
            "Labo… https://t.co/OoIEfRUnrK\n",
            "\"ACCUTE flaccide Myelitis\" #AFM received by #CovidVaccine https://t.co/xiduECeDQB\n",
            "\"#Pfizer and #BioNTech say their #vaccine is '95% effective' and has passed safety checks\" \n",
            "#CovidVaccine #vaccines… https://t.co/bh62yOWZSt\n",
            "@brianpoliakoff Hello, please postpone the #TokyoOlympics, #ParisOlympics and #LAOlympics to #2024year, #2028year &amp;… https://t.co/AE44CALqZu\n",
            "Which one is your president? Is it really that hard to be on the right side of history &amp; humanity? #JoeBiden #trump… https://t.co/cruX2Ri45u\n",
            "What will happen if someone got vaccinated while he already covid positive? #COVID19 #Covid #CovidVaccine @NYGovCuomo @jimmyfallon\n",
            "What a way to start 2021 🥳💃🏻 #covidvaccine https://t.co/VCNGpJjbzJ\n",
            "Why are Holocaust survivors - some of the most vulnerable among us - waiting at home to get the vaccine, while heal… https://t.co/08PnkNxxOF\n",
            "Trump wants credit for the development of the COVID vaccine which, basically, involved the administration telling p… https://t.co/lSbsQEB1z3\n",
            "Why a coronavirus vaccine may provide better immunity than infection via @Independent #COVID-19 #Coronavirus… https://t.co/pYzgrvQ1qp\n",
            "#JandJ pauses #COVIDvaccine late stage trials due to unexplained illness in participant https://t.co/TtFhREolo3\n",
            "================================================================================================\n",
            "\n",
            "Looking at cluster 1 with 8 elements:\n",
            "\n",
            "#5G the silent killer just like #DirectedEnergyWeapons cause damage. #SmartMeter #Smartphone give off radiation.\n",
            "Wi… https://t.co/14xoES03ut\n",
            "#covidvaccine looks like $MRNA vaccine has less strinhgent refrigeration demands, but high side effect burden;… https://t.co/zj4YkoePMQ\n",
            "Predatory Capitalism at it's finest! 🇨🇦🇺🇸🇦🇺🇪🇺  Richest countries hoard #CovidVaccine in advance &amp; then support… https://t.co/qVbqr4FmOY\n",
            "@swimmersdaily Hello, please postpone the #TokyoOlympics, #ParisOlympics and #LAOlympics to #2024year, #2028year &amp;… https://t.co/Tmh8CukjYE\n",
            "@GovRonDeSantis making #CovidVaccine political just like his mentor! 65-74 yr olds shouldn’t be in the second wave.… https://t.co/GRywYyfbIs\n",
            "“Comply! ... or you will be punished” #CovidVaccine is next. *smh* #Sheeple #COVIDIOTS #COVIDAlert… https://t.co/OTXtuf36jZ\n",
            "Two days ago, they announced @JoeBiden #won... now they have a #cure for #COVID19... 🤔 #CovidVaccine #CovidCure… https://t.co/YWhkKfZeUy\n",
            "================================================================================================\n",
            "\n",
            "Looking at cluster 2 with 24 elements:\n",
            "\n",
            "Russia has developed first coronavirus vaccine, says Vladimir Putin: news agency AFP\n",
            "\n",
            "#COVID19 #vaccines… https://t.co/jfNSunPqDr\n",
            "Russia makes the first #COVID19\n",
            "Vaccine!\n",
            "\n",
            "https://t.co/1h53VkqRRC\n",
            "#Russia #COVIDUpdates #CovidVaccine\n",
            "@BW Covid-19= 19 ways to TERRORIZE A NATION into accepting dangerous DNA-altering VA$CINATIONS. #ID2020… https://t.co/w11lSNyMSh\n",
            "Four more individuals recovered from #COVID__19  bringing the total recoveries in the country to 2883, the Epidemio… https://t.co/bFtMRVDHrG\n",
            "#COVIDVaccine Trump’s Vaccine Can’t Be Trusted - Article by Laurie Garrett, MSNBC Analyst/journalist/author (\"The C… https://t.co/uyfoSCv7L5\n",
            "Sunny Deol's still screaming 'Tareekh pe Tareekh', but this time for COVID vaccine.\n",
            "\n",
            "@GabbbarSingh #covidvaccine #coronavaccine\n",
            "@realDonaldTrump people don’t want a #CovidVaccine https://t.co/8tRW3BEuYF\n",
            "@pauldeb891 @meryamelia Hello, please postpone the #TokyoOlympics, #ParisOlympics and #LAOlympics to #2024year,… https://t.co/ynV3bQQ1Uk\n",
            "@CMK71 @Tusbear @TugAlex1 @CatFoodBreath @sandcastler1 Please postpone the #TokyoOlympics, #ParisOlympics and… https://t.co/nVSFuRNFdN\n",
            "Nearly 20 Covid Vaccines are in different stages of Trials. This Vaccine will prevent the Corona Virus or Cure it i… https://t.co/fGks01Oqio\n",
            "#ourbestshot at getting back to something resembling normal is getting the #CovidVaccine. I got my first dose today… https://t.co/bpskzkjHXt\n",
            "The Latest DiscoverCovid https://t.co/wjbs0OHa1c Discovered by @kharper02742513 @BerlandGroup @StopCorpFraud #covidvaccine #covid19\n",
            "Considering all the controversies I've seen surrounding the new COVID-19 vaccine, I don't think I'll be getting a s… https://t.co/P5Ag0Yas2q\n",
            "This man's bio (Mr. Westjet) says he was focused on mergers and acquisitions for years. His greed blew up in his fa… https://t.co/nifumhamXq\n",
            "Coronavirus vaccine update | India likely to start producing Russia's Sputnik V vaccine \n",
            "#CovidVaccine #SputnikV… https://t.co/fkHS3dtdZA\n",
            "My category is “and then everyone else” = really know how to make a girl feel special #CovidVaccine  https://t.co/UoHg8BHwam\n",
            "ICYMI: As #COVID19 cases are back on the rise in our area @NIAIDNews #DrFauci talks w/ @rosannascotto &amp; @loristokes… https://t.co/2CW8QRjVft\n",
            "Twenty coronavirus patients recovered and discharged, confirmed the Health Promotion Bureau\n",
            "#COVID19 #coronavirus… https://t.co/EnZh4qxDF6\n",
            "Coronavirus vaccine volunteer in Brazil's AstraZeneca trial dies, but authorities say trial to continue… https://t.co/tDOFNToGRH\n",
            "================================================================================================\n",
            "\n",
            "Looking at cluster 3 with 33 elements:\n",
            "\n",
            "World Leaders approaching to Putin Be like \n",
            "\n",
            " #CoronavirusVaccine #RussianVaccine\n",
            "#CovidVaccine #coronavirus… https://t.co/v7ie36fImf\n",
            "#Russia launches #SpookNikV-#CovidVaccine, as Dr. Vladimir Putin believes in its efficacy..Only God can save Us fro… https://t.co/ooGEV79lwy\n",
            "While plans for the use of Russia-developed vaccine 'Sputnik V,' the Philippine government is still in talks with 2… https://t.co/IpUBTMifrU\n",
            "@mjrowland68 @BreakfastNews Only to lie, spin, deflect and lie some more. Didn't need to be on, we already get his… https://t.co/YhDBoyJ0ni\n",
            "#WATCHLIVE: Andrew Alnatan (@AndrewElnatan) of @IAVI raises the critical question whether regulatory agencies have… https://t.co/GG2eHEG8UX\n",
            "Pretty sure Chuck Norris’ sweat is the vaccine we have been looking for; but it would be more dangerous collecting… https://t.co/a3KCooowL7\n",
            "Fauci says we should not expect a vaccine this fall. \n",
            "That’s all. #CovidVaccine\n",
            "@GSAEmily Stop wasting your time on this!  Give the Biden transition team what they need so we can all get on with our lives.  #covidvaccine\n",
            "#COVID19 :  The U.S. and Europe could get emergency authorization of COVID-19 vaccine by Christmas \n",
            "\n",
            "#Covid_19 #CovidVaccine\n",
            "ETHealthworld | Madhya Pradesh: State stands third in cold chain points for vaccine delivery #CovidVaccine… https://t.co/IkrLWD1dAT\n",
            "Anyone else feel like @pfizer &amp; @moderna_tx be like ... \n",
            "\n",
            "#COVID19 #Covid_19 #Covid #CovidVaccine #Pfizervaccine… https://t.co/0MBDOEbY5d\n",
            "Pfizer’s announcement that their #CovidVaccine is “90% effective” only applies to .2% of the participants in their… https://t.co/hOwPtJaU60\n",
            "#CovidVaccine to be imported from Belgium. What happens after 1 Jan, post #Brexit ?\n",
            "#CovidVaccine\n",
            "\n",
            "Compared to late summer, has your wish to get vaccinated for #covid19 increased, decreased, or stayed the same?\n",
            "Idk about nobody else but 2020 has taken a toll on me mentally and physically.. #cancel2020 #Drained #CovidVaccine… https://t.co/8aOMHYMhyh\n",
            "CVS Health Begins Administering COVID-19 Vaccines\n",
            "#citynewsgroup #cvs #health #covid #vaccines #covidvaccine\n",
            "https://t.co/Sp3MCLU7yR\n",
            "Almost 5 million people have had a #CovidVaccine across the world. Let’s hope these numbers explode in the new year… https://t.co/4YNBZGvq0o\n",
            "Modi govt panel rejects emergency-use approval for Dr. Reddy’s potential #Covid drug which is indigenous...… https://t.co/KaBIxtw8SC\n",
            "\"Practices will be paid £12.58 (€14.15; $16.69) per vaccination. This is 25% more than the current £10.06 practices… https://t.co/y9vStUWYVN\n",
            "Vote here - BiggBoss 2020\n",
            "\n",
            "https://t.co/Ju5WGLtFQr\n",
            "\n",
            "#Ariyana #BiggBoss2020 #BiggBoss14 #BiggBossTelugu4… https://t.co/n932m5Gem8\n",
            "#CovidVaccine #Pfizer “Medical freezers that go down to minus 70 degrees Celsius are rare even in U.S. and European hospitals....”\n",
            "Do you need Luxury Business card or thank you card design?\n",
            "Order here: https://t.co/wpXf6ANG7k\n",
            "\n",
            "#businesscard #logo… https://t.co/LgW0NKvIfS\n",
            "The estimated cost for the entire #CovidVaccine will be $40 per person.\n",
            "\n",
            "Cuomo plans on requiring all 20 million NY… https://t.co/ukU4bx9Ih1\n",
            "The Prime Minister there.....telling us fuck all! #DowningStreetBriefing #COVID19 #Covid19UK #CovidVaccine\n",
            "Why the fuck is #BorisJohnson waffling on about climate change and the relationship with the US?  He has skirted ro… https://t.co/8IqU5VC9cT\n",
            "@JoeBiden Biden's plan is to talk w people this week to see what's needed. Translation: #Biden has no plan. He does… https://t.co/Bv4SJbECd9\n",
            "@Mike_Pence @realDonaldTrump @pfizer NOTHING TO DO WITH TRUMP’S CORRUPT WH. Hats off to scientists working diligent… https://t.co/J0QtNfUO2r\n",
            "A global pandemic requires a world effort to end it – none of us will be safe until everyone is safe by… https://t.co/O4eMgtkEHR\n",
            "#CovidVaccine confusion “Each company is running its own trial, comparing its jab with a placebo. But it didn’t hav… https://t.co/cafd3iA1LA\n",
            "================================================================================================\n",
            "\n",
            "Looking at cluster 4 with 68 elements:\n",
            "\n",
            "August 28 webinar - COVID Vaccine Research &amp; Deployment: Reconciling Speed &amp; Safety https://t.co/HbXHKtC220 - via… https://t.co/Ot14W5dNQ7\n",
            "Do you trust #Russia &amp; #VladimirPutin on #RussianVaccine for #coronavirus ?\n",
            "\n",
            "#russiavaccine #RussiaReport #COVID19… https://t.co/CrVS1eo6Tz\n",
            "First Covid 19 Vaccin Announced By Russia\n",
            "https://t.co/YsncAsjIki\n",
            "#RussianVaccine #HappyJanmashtami #tuesdayvibes… https://t.co/0fniNBQBTT\n",
            "#CovidVaccine\n",
            "All countries doing trial on coronavirus \n",
            "But our media done on riya https://t.co/gnRaHmcsfi\n",
            "@ds13_manon I hope this gets trending #IWillNotTakeTheVaccine\n",
            "\n",
            "#COVID1984 #coronavirus #CovidVaccine #CovidHoax #CovidVaccineRace\n",
            "Murashko: Vaccine criticism caused by fear of competition\n",
            "#CovidVaccine #RussianVaccine  \n",
            "https://t.co/fFjMnFtz46\n",
            "PURE PROPAGANDA - Politicians Pretending To Get The Rushed Through COVID Vaccine So All The Stupid People Will Rush… https://t.co/SL8WQd5AtI\n",
            "Big Pharma: “Trump Loves Me?”\n",
            "\n",
            "“He Love Me Not…he loves me?“\n",
            "\n",
            "Trump dances 2 steps towards #BigPharma, then one ste… https://t.co/TUk4VRgtMr\n",
            "GO CORONA GO\n",
            "Russia announces World's first Covid-19 vaccine!\n",
            "#Covid_19 #coronavirus #CovidVaccine #RussianVaccine https://t.co/qjKKmPXDXW\n",
            "Sanofi Snags Another US Biotech Asset With $3.7 Billion Deal For Principia Biopharma\n",
            "https://t.co/4CrQsZYWFT… https://t.co/NCehFKfzS4\n",
            "@connectgurmeet @CNBCi Sirf @RelianceAGM @reliancejio  #MukeshAmbani  Company &amp; it's Workers Jobs are Safe baaki Sa… https://t.co/GW2KpWZpNz\n",
            "@BreesAnna .@nickcoatsworth1 will you go first? Using us as guinea pigs.  Trials go for about 4 years to see if the… https://t.co/yy784yopkF\n",
            "@AngryGranny1 \"Australia Locks in Coronavirus Vaccine Deal as New Cases Ease.\" via  The @nytimes… https://t.co/qgEi1Yto51\n",
            "Is 'Centralized' vaccine policy of @ICMRDELHI delaying #CovidVaccine?\n",
            "-Slowing clinical trials &amp; testing\n",
            "-Delayed L… https://t.co/htEcwtGyxU\n",
            "Here again is your #Truth\n",
            "I highly suggest you watch this &amp; #WakeUpPeople this is critical! \n",
            "#BillGatesEvil… https://t.co/681PINv9w8\n",
            "The Health Ministry confirmed the 12th death due to COVID-19 as the number of COVID-19 contracted patients rose to… https://t.co/fohFxyPef9\n",
            "Made-in-Canada COVID-19 vaccine effort slowed by manufacturing delay | CBC News https://t.co/vFvVER7ywT… https://t.co/vp4tAoPoNz\n",
            "Just a small suggestion:\n",
            "Why don't @PMOIndia officially announce the experimentation/trail of #CovidVaccine on… https://t.co/Ndr0R0sl02\n",
            "@SimonChapman6 @Covid19NSW A new bumper sticker  “Don’t agree with voluntary assisted dying,  Don’t do it”.  Religi… https://t.co/QzRhwAFs4t\n",
            "#Russia is set to approve a second #COVID19 vaccine in late September or early October, said Russian Deputy Prime M… https://t.co/U2GjnFvhFK\n",
            "Will your health policy cover for #CovidVaccine expenses? Listen for more information: \n",
            "#VaccinesWork #COVIDー19 https://t.co/PHDVEHSItj\n",
            "#Britain is preparing to revise its laws to allow the emergency use of any effective #coronavirus #vaccine before i… https://t.co/80X2HzoDgN\n",
            "Prime Minister @JustinTrudeau announced Canada has agreed to buy more than 100 million Covid-19 vaccines from Novav… https://t.co/YLP73SODJZ\n",
            "Don't trust @realDonaldTrump and a vaccine that he is forcing the #CDC to expedite so that he can win an election.… https://t.co/TALvbsYyaa\n",
            "Don’t Get Your Hopes Up On Trump Rhetoric...#COVIDVaccine https://t.co/uVH1Fu05C4\n",
            "Astra Zeneca has halted Covid vaccine trials at UW Madison due to a severe adverse reaction in the UK. #COVID19 #CovidVaccine\n",
            "Pharma giant AstraZeneca has paused a clinical trial of its coronavirus vaccine after a volunteer developed an unex… https://t.co/QFpSIjekqz\n",
            "#Covidvaccine Pfizer, BioNTech propose expanding COVID-19 vaccine trial to 44,000 volunteers https://t.co/v1ghEKHvOV via @yahoosg\n",
            "@Soriano310ms Hello, please postpone the #TokyoOlympics, #ParisOlympics and #LAOlympics to #2024year, #2028year &amp;… https://t.co/bHvmeTKxvY\n",
            "We are about supporting #farmers sell their farm produce at @Farm_Pesa\n",
            " #FarmPesa #climatechange #ClimateJusticeNow… https://t.co/OgqFqDI86D\n",
            "@chinaorgcn Please postpone the #TokyoOlympics, #ParisOlympics and #LAOlympics to #2024year, #2028year and… https://t.co/s8IolFTCHF\n",
            "Here’s an idea. If we want idiots to understand the severity of the pandemic, why not create a reality show about a… https://t.co/vSlJfaZa4b\n",
            "Trump fires director of HSA who rejected President's election conspiracy theories.\n",
            "\n",
            "#AmericaFirst #BidenHarris… https://t.co/NZBMlU0YaE\n",
            "So you respect science ?  Please see the photos\n",
            "How come @adriandix and Dr Bonnie Henry close down churches and hou… https://t.co/Qgmxenpk6d\n",
            "@awfulannouncing Hello, please postpone the #TokyoOlympics, #ParisOlympics and #LAOlympics to #2024year, #2028year… https://t.co/614LL691lN\n",
            "Who gets the #CovidVaccine first? If you believe in the ethics of outcome (utilitarianism)or to save max lives, you… https://t.co/EpGFqHSLee\n",
            "So yesterday Ontario's health minister said that Canada could be receiving the COVID-19 vaccine within the next cou… https://t.co/qwLUCXlEMJ\n",
            "Haryana Health Minister Anil Vij being administered a trial dose of #Covaxin, at a hospital in Ambala. \n",
            "\n",
            "He had off… https://t.co/8IsE1pJJac\n",
            "Every state provided a #vaccine plan 📝 for distribution and administration, per the #CDC. Find out each state’s pla… https://t.co/vS19RBjJ0e\n",
            "#CovidVaccine | Pfizer will make 50 million doses available this year (once approved) and Moderna, 20 million. Both… https://t.co/iV05u7iTcO\n",
            "@piersmorgan Thoughts?\n",
            "We have real and grave concerns about these sudden changes to the Pfizer vaccine regime\n",
            "\n",
            "It… https://t.co/gL2K67YJqV\n",
            "Anyone else hear of physicians being turned away for vaccine if not affiliated with a hospital? How does the logist… https://t.co/lh3BNJpQxr\n",
            "#CovidVaccine\n",
            "USA UK and many countries have started vaccinating their citizens.\n",
            "Considering the large population a… https://t.co/xuLfQwHaCk\n",
            "Please everyone #WearAMask a #CovidVaccine is coming!  We can do this together! @UMmedschool @UMBaltimore @UMMC https://t.co/G4di4GpPYJ\n",
            "Imagine 47 Billion could mean a billion shilling health referral facility per county. Kwani how hard is it to run a… https://t.co/VT0PuCZq2Z\n",
            "Would get on an airplane if you had 5.5% chance of it not landing? #CovidVaccine https://t.co/Dgpe6UFNFj\n",
            "Couldn't have asked for a better editor than @SumayyaIsmail to shepherd this through. Take a look at the complicate… https://t.co/jvScORQNuj\n",
            "April was 6 months ago but it was an easy prediction. \n",
            "#Moderna #CovidVaccine #Fauci https://t.co/2oclGoHKQI\n",
            "‘’#CovidVaccine Centre’’\n",
            "We are minorities we got first right on vaccine, MonMohan told us so\n",
            "Sanghi doc- https://t.co/pAW2HhwYJh\n",
            "#Covid19: qui sont les anti-vaccins ? https://t.co/nUEnZJKiCi \n",
            "\n",
            "#Covid19: who are the anti-vaccines?\n",
            "\n",
            "#CovidVaccine\n",
            "PM Modi gives big clue on India's #CovidVaccine rollout plan; digital health ID in tandem? https://t.co/5U3txXLpJR… https://t.co/5jAJWilcrg\n",
            "#Sinovac Biotech #covidvaccine offered by #Chinese city for emergency use costs $60\n",
            "https://t.co/sh9jzriGic https://t.co/C3jkj6rGzl\n",
            "As a person who is afraid of needles, this #CovidVaccine with pictures of them isn't great, but on the other hand,… https://t.co/TGGdm4tlUy\n",
            "#CovidVaccine NOT IN MY ASS ARE YOU STICKING ME WITH IT!!! STICK @JoeBiden @KamalaHarris  IN THE ASS WITH IT!!! https://t.co/UWpBSbMEW0\n",
            "Biden wants a mandated (forced) #CovidVaccine. Don't vote for this jack ass if you value your bodily autonomy.… https://t.co/XUlgR300M8\n",
            "The best way to beat #COVID19 is to reach #herdimmunity, and #vaccines could be our best shot! Get involved in… https://t.co/cNagsnv9Sw\n",
            "Tamil Nadu @CMOTamilNadu announces free #COVID19 vaccine for people of #TamilNadu, once vaccine is ready.… https://t.co/NqH9Qeug2X\n",
            "Social media promotion service.\n",
            "https://t.co/U21T8WN1C3\n",
            "#Facebook #FacebookMarketing #facebookpromotion #faceapp… https://t.co/ZseoJbOm7D\n",
            "#भारत_की_शान_बॉलीवुड please help me sir 🙏😭 @akshaykumar I am in a lot of trouble, sir! #CovidVaccine I have been tw… https://t.co/kgLWsTf4Wz\n",
            "================================================================================================\n",
            "\n",
            "Looking at cluster 5 with 72 elements:\n",
            "\n",
            "#CovidVaccine Russian President Vladimir Putin said that the country has registered a vaccine for Covid-19 first co… https://t.co/WQQN8thdAb\n",
            "Russia becomes first country to approve a COVID-19 vaccine.\n",
            "\n",
            "Meanwhile @kpsharmaoli #nepalindiaborder #CovidVaccine… https://t.co/UyW81Nwxf0\n",
            "Is @adarpoonawalla listening? \n",
            "Could you please coordinate with Russian Embassy?\n",
            " #CovidVaccine\n",
            "So first their friends (China) made &amp; spread the Chinese Virus and now all of a sudden Russia got a vaccine huuh...… https://t.co/3aOuaNN5Pf\n",
            "@MeerFoundation please help us spread the word #covidwarriors #MythAndFact #COVID19India #CovidVaccine… https://t.co/88tctjyqwv\n",
            "This method looks promising! #CovidVaccine https://t.co/v206m6gjyU\n",
            "@jimsciutto My assumption is that people will ultimately realize that a #CovidVaccine will give people a ticket bac… https://t.co/GBXOdCrhAl\n",
            "Drug Screening Laboratory Services Market to Garner $7.05 Bn, Globally, by 2027 at 9.4% CAGR.\n",
            "#covid19impact analys… https://t.co/NhCLK603n1\n",
            "Consultation document: changes to Human Medicine Regulations to support the rollout of COVID-19 vaccines… https://t.co/uSnPMcPcQ8\n",
            "Nine individuals recovered from #COVIDー19 bringing the total recoveries in the country to 2935, the Epidemiology Un… https://t.co/DhCI9FcFxn\n",
            "high on corona vaccine https://t.co/H0gzrCIX55 via @YouTube #coronavirus #Covid19UK #COVID19 #COVID #Corona in… https://t.co/6tN9dkj5jn\n",
            "#India considering #Russia's request for #Phase3 trial, production of #Covidvaccine | The Scrbblr - https://t.co/PQlcburlFZ\n",
            "September DOJ Report Lists 200 #VaccineInjuries and 1 #VaccineDeath Compensated During 6 Month Period – And that’s… https://t.co/3gTBhwjOeC\n",
            "Dr. Rashid A Buttar is now on LiveStream https://t.co/G4vOyJhtR6 via @YouTube #DrButtar #Vaccines #CovidVaccine… https://t.co/6BM0U40hXi\n",
            "How can providers prepare for potential supply chain issues with a COVID-19 #vaccine? #Healthcare attorney Clint He… https://t.co/6N4jMunkyT\n",
            "CNN boasting up the vaccine as “the end of the pandemic” is nothing short of false marketing. They haven’t even mad… https://t.co/xk6jfRJKBk\n",
            "What will #CovidVaccine distribution look like asks #AHCJsummit moderator @marynmck ? \n",
            "Marston: @NIAIDNews has sign… https://t.co/aKdqdV8FVE\n",
            "@icer12 Hello, please postpone the #TokyoOlympics, #ParisOlympics and #LAOlympics to #2024year, #2028year &amp;… https://t.co/mE1Zz7KZjn\n",
            "@SteveFDA What is the #FDA waiting for? How Many People Have To Die Before You approve #CovidVaccine https://t.co/NNvN3qr9QG\n",
            "PCR picks up viral debris not indicative of active infection....\n",
            "PCR cannot be used to further restrict lives and l… https://t.co/aPcPcjTQdQ\n",
            "@newsflyall Please postpone the #TokyoOlympics, #ParisOlympics and #LAOlympics to #2024year, #2028year and… https://t.co/qPftXE9q8B\n",
            "Missed out on this week’s dental news? No problem, here’s what happened over the past seven days…… https://t.co/kZHQYT8IJx\n",
            "@DarrenPlymouth maybe we can see all those calling for the #CovidVaccine goto the front of the que.. with legit inj… https://t.co/nF4COfYLVd\n",
            "Think there should be more media attention to the important caveat that the #covidvaccine trials only looked for sy… https://t.co/OyqAmm64wn\n",
            "And what if you risked seeing people or went without a mask and caught #Covid_19 and perished, or were forced to wo… https://t.co/vdLCxTPHTR\n",
            "@davenewworld_2 How about a report on #COVID  or #PPE supply or why #ScienceMatters or #CovidVaccine\n",
            "President #Trump Delivers an Update on #OperationWarpSpeed\n",
            "\n",
            "All #MAGA followers will be required to take this \"safe… https://t.co/Zuz57bViI9\n",
            "EU official: 2 vaccines could be authorized soon https://t.co/yfx03SVQ2i #covidvaccine\n",
            "All these clowns willing to take the #CovidVaccine this is the guy that died while volunteering to take the  vaccin… https://t.co/pfV5RjCpjW\n",
            "30 minutes! Race for the COVID-19 Vaccine: Latest Updates #covidupdates #NPRForum #covidvaccine #ForumHSPH… https://t.co/nN1Kl5cFC0\n",
            "Pl dont get trap in any model for control  of #Covid_19 \n",
            "The important is\n",
            "☑️ #MaskUp all the time\n",
            "☑️ Social Distanc… https://t.co/y8CF6wxUGf\n",
            "The End of the Pandemic Is Now In Sight (via @TheAtlantic) https://t.co/vp3g1yOaXO #COVID19 #CovidVaccine\n",
            "@randyhillier When is ANY #cdnpoli going to be an ADULT and QUOTE #pathology #doctors from (at least) 8 countries?… https://t.co/YMMHRePRG0\n",
            "@tariqnasheed Voting patterns of Black people unfortunately shows. Many might just be gullible enough to willfully… https://t.co/nd725cBThL\n",
            "@BBCNews @BorisJohnson @MattHancock Oh dear... Here we go...\n",
            "\n",
            "\"World Beating Vaccine Screw Up\"\n",
            "\n",
            "Everything you touc… https://t.co/ScJIPzv6HB\n",
            "2021. Will we crack #Covid through ayurveda, or will get a #CovidVaccine?\n",
            "My question is why aren’t you reporting the reactions, some of them being severe, life changing reactions to this v… https://t.co/AXQomhMcaq\n",
            "We're working with @VolunteeringMcr to recruit volunteer marshals to support the delivery of #Manchester Covid-19 v… https://t.co/ugSSqP6d6f\n",
            "Here we are with our next blog on 'COLLAR VACCINE: RUSH FOR PRE BOOKING' by Senia Shafaq. \n",
            "\n",
            "Link:… https://t.co/z7iAXLqIea\n",
            "@CNN #Covid19 It's been here for years. Everyone has had it or is getting it. It's that we are testing for it now.… https://t.co/mko4c5j4hp\n",
            "#CovidVaccine !! When? How? Where? Lets answer the most asked question of the year. The session shall shed some lig… https://t.co/KdnSgKmlHc\n",
            "Oops that was meant to be on the thread ..... #CovidVaccine\n",
            "Who's pocket is that going in? #vaccine #CovidVaccine #coronavirus https://t.co/oNJ3ZJkIOn\n",
            "LATEST💫 Trials show new COVID-19 vaccine 94.5% effective, says Moderna | Punch Newspaper \n",
            "\n",
            "_\n",
            "#COVID19 #CovidVaccine… https://t.co/0DdwD9uUnh\n",
            "They vaccinate, but don’t get vaccinated. #CovidVaccine\n",
            "@c_riddle49 @BillOReilly The Pfzier vaccine was NOT funded by The US, as part of Trump's \"Operation Warp Speed\", bu… https://t.co/8hJ3kzJ661\n",
            "The Governor hinted that his team may impose a cessation of movement measure should the cases continue to rise.\n",
            "\n",
            "➡️… https://t.co/wjpJ7hZ5u9\n",
            "If only i had a @Canon camera, i would shoot more than my @Infinixhot8 Android phone...\n",
            "\n",
            "#officialvideo #LILBABY… https://t.co/rD95Wzv1zr\n",
            "If #TrumpIsCompromised then #Obama:\n",
            "\n",
            "FAILED to enact travel restrictions for #Zika.\n",
            "\n",
            "SHRUNKEN BABY HEADS not alarmi… https://t.co/42Ro5fWdkw\n",
            "Pfizer to seek FDA approval for Covid -19 vaccine in November\n",
            "\n",
            "US group and German partner BioNTech prepare to subm… https://t.co/kzrCaSFJYI\n",
            "ETHealthworld | Russia green lights 2nd vaccine before Ph-3 trials #Covid19 #Coronavirus #Phase3Trials… https://t.co/hUiVyUYhod\n",
            "Russia approves 2nd virus vaccine after early trials https://t.co/tLGp5XDzP7 #covidvaccine\n",
            "#National: Pune-based @SerumInstIndia announces that it will get another $150 million in funds from Bill and Melind… https://t.co/1BWkDFk1Ve\n",
            "The world awaits.\n",
            "\n",
            "#COVIDー19 #CovidVaccine #CovidCure https://t.co/K2ZZfi3Zy1\n",
            "#COVID19 vaccine portal launched, all data linked to research, clinical trial on it. Details ⬇️\n",
            "\n",
            "#Coronavirus… https://t.co/L27akRpwki\n",
            "Next up in hunt for Covid-19 vaccine: Testing shots in kids\n",
            "Via ⁦@NBCNews⁩ \n",
            "—\n",
            "#vaxnews #vaccines #covidvaccine… https://t.co/Cw3f20feKx\n",
            "COVID-19 Vaccine: China joins Covax initiative co-led by @WHO ⬇️\n",
            "\n",
            "#China #CovidVaccine #COVID19 #COVAXIN \n",
            "\n",
            "https://t.co/IKa6vaPV0K\n",
            "I hope that developing countries aren’t priced out from obtaining #CovidVaccine @WHO must do all it can to ensure t… https://t.co/utg1NPLUWv\n",
            "================================================================================================\n",
            "\n",
            "Looking at cluster 6 with 44 elements:\n",
            "\n",
            "#Vaccine #Nationalism Makes a Deadly Disease Even Worse. The world’s #governments have opted to lock themselves in… https://t.co/hl2WDI2SF8\n",
            "The country which created all these is now SHOWING OFF a COVID vaccine. Any thoughts?\n",
            "#COVID19 #CovidVaccine \n",
            "\n",
            "https://t.co/zB93TfP1gU\n",
            "UK Health minister: '“It is obviously a challenge TO THIS PARTICULAR vaccine,” (emphasis mine).\n",
            "\n",
            "#covidvaccine… https://t.co/vG8IJKvMTf\n",
            "Take a look at the #TopHeadlines of the day\n",
            "\n",
            "#COVIDVaccine #COVID19 #COVID #ICMR #PlasmaTherapy #covidfatalities… https://t.co/yzyLfoM3BR\n",
            "@CNN Yes.   I would not use any vaccine I45 pushed.  It will just be a bleach injection.  #CovidVaccine #DonTheCon… https://t.co/taeGzrt9q9\n",
            "#COVIDVaccine\n",
            "\n",
            "@DukeMargolis director Dr. Mark McClellan outlines the challenges and approaches the FDA is taking t… https://t.co/FDJAUhHMo1\n",
            "@amero3_1416 @EcuavisaInforma https://t.co/DX4dzpAGAo\n",
            "\n",
            "Are you going to get Vaccine for corona for this year 2020🤨🧐… https://t.co/6AeZPswPuR\n",
            "@wdSeaidDSgniCwN @MoamenZakaria @US_FDA @SteveFDA @realDonaldTrump @POTUS @EMA_News @EU_Commission @SKyriakidesEU… https://t.co/dzTg8hOWb8\n",
            "After hearing #CSL's Dr, Nash,\n",
            "it would a mammoth task to produce #CovidVaccine for any country, let alone… https://t.co/RKO3ITaje5\n",
            "I’m not getting that #CovidVaccine no way! How about you? #MondayVibes #mondaythoughts #MondayMotivation #art… https://t.co/5ludgG84ZA\n",
            "#India's role in production of Covid vaccine critical in containing pandemic: Bill Gates #CovidVaccine #BillGates… https://t.co/bhvh9GT0K0\n",
            "@lurulyn Hello, please postpone the #TokyoOlympics, #ParisOlympics and #LAOlympics to #2024year, #2028year &amp;… https://t.co/bNUjMpRsXL\n",
            "@CMichaelGibson @NBCNews Hello, please postpone the #TokyoOlympics, #ParisOlympics and #LAOlympics to #2024year,… https://t.co/VpcLIPjku3\n",
            "@minieam Hello, please postpone the #TokyoOlympics, #ParisOlympics and #LAOlympics to #2024year, #2028year &amp;… https://t.co/SzH6TkZ93n\n",
            "@CSNewsApp Please postpone the #TokyoOlympics, #ParisOlympics and #LAOlympics to #2024year, #2028year and #2032year… https://t.co/YOvCAbB4Md\n",
            "Hook that vaccine to my veins and get me on an airplane to anywhere asap. 😫 #CovidVaccine #Pfizer #Moderna #INeedABreak\n",
            "@AndrewDampf Hello, please postpone the #TokyoOlympics, #ParisOlympics and #LAOlympics to #2024year, #2028year &amp;… https://t.co/xmhnqJjOpJ\n",
            "Someone tell #JoeBiden that #KamalaHarris has a PLAN B just incase....you know a Kraken or two 🤷🏾‍♂️  are released.… https://t.co/skAHc0kNyL\n",
            "Lights are on but nobody's home - The Garrick Bar in Belfast city centre turned on their Christmas lights @PPAI_IRL… https://t.co/Tf9Vcertwd\n",
            "Thanks to @Potus #COVID19 #vaccine will be released in 24 hours to high risk patients and people by utilizing an em… https://t.co/ne82iYg1jz\n",
            "@drsanjaygupta we don't want the #CovidVaccine when there are cheaper and effective treatments for #COVID19 - such… https://t.co/aEfT3nMi5m\n",
            "Why does tin foil hat Twitter assume their lives are interesting enough to warrant government surveillance via a va… https://t.co/hjXcCwzfFy\n",
            "@pfizer is that 95% success rate across all of humanity? If so does that mean this #CovidVaccine is ineffective for some 400 million humans?\n",
            "2020 has been tough. But for all the negatives, let's not forget some key breakthroughs:\n",
            "\n",
            "- #CovidVaccine\n",
            "- 🇪🇺🇬🇧… https://t.co/gpzcoNnapR\n",
            "I'm chronicling my day-by-day experience after getting the #CovidVaccine and answering questions on my Twitter \"fleet\"(??) Stories, above ☝️\n",
            "#crownprince  Prince receives #CovidVaccine -19 vaccine on camera https://t.co/MBkjo4el3v\n",
            "We're indians 😁😁😅😅😅\n",
            "#COVID19India \n",
            "#CovidVaccine Soon https://t.co/MVng5qUP0S\n",
            "The US has now recorded more than 100,000 daily infections for two weeks straight and on Monday reported more than… https://t.co/AXYYu35iru\n",
            "Mouthwashes containing the ingredient cetylpyridinium chloride ‘show promising signs’ of reducing COVID-19 in saliv… https://t.co/tfOcC26cAU\n",
            "#BalasahebThackeray\n",
            "PM Modi and his party doing politics  on the bases of Religious, \n",
            "#CovidVaccine… https://t.co/nw2IEsuELX\n",
            "Democrats are DESPERATE to downplay and slow play the #CovidVaccine because:\n",
            "1. It comes under @realDonaldTrump (pr… https://t.co/5xg3lr50Pg\n",
            "2nd COVID-19 vaccine trial paused over unexplained illness | CBC News https://t.co/pjXeZXBNjm #COVID19 #COVID_19 #COVIDVaccine\n",
            "2/ If #BJP loses in #BiharElections2020, would Bihar  be the last state in India to get #covidvaccine &amp; would they… https://t.co/pe6A1Borsq\n",
            "================================================================================================\n",
            "\n",
            "Looking at cluster 7 with 3 elements:\n",
            "\n",
            "Russia 1 - 0 rest of the world. \n",
            "#coronavaccine | #covidvaccine | #sputnikv | #sputnik\n",
            ".\n",
            ".\n",
            ".\n",
            ".\n",
            "#digitalmarketing |… https://t.co/hCx6n3rxSC\n",
            "It sounds like this volunteer, a doctor working with covid patients, has died of covid, and it’s understood he had… https://t.co/WPYruJJe2H\n",
            "================================================================================================\n",
            "\n",
            "Looking at cluster 8 with 88 elements:\n",
            "\n",
            "Covid-19 vaccines may cause mild side effects, no fear. Experts say, stressing need for education, not alarm… https://t.co/RWd3Uq5R11\n",
            "Premier of Queensland, Australia, Fakes Getting Jabbed With The Rushed Through Covid19 Vaccine - PURE PROPAGANDA -… https://t.co/DNSW1PVrUZ\n",
            "Does Russian made virus vaccine contains G5 micro bots?#startrekisreal #CovidVaccine #NewWorldOrder\n",
            "#CovidVaccin\n",
            "\n",
            "Breaking \n",
            "Putin announced that Russia approved a COVID-19 vaccine — and gave it to his daughter… https://t.co/DMz0r17xcY\n",
            "@politico Funny how they have the first #CovidVaccine but he's social distancing. 😆 😆 😆😜\n",
            "EPIC reaction to Russia’s “rushed” vaccine...\n",
            " \n",
            "My same reaction 😭\n",
            "\n",
            "#SputnikUpdates #CovidVaccine https://t.co/HPZ23jJ0se\n",
            "Russia is going to be Putin out COVID-19 Vaccines. \n",
            "\n",
            "Get the shot details: \n",
            "https://t.co/HIYkVYrVaq\n",
            "\n",
            "#news… https://t.co/dmLhY44DQY\n",
            "First covid-19vaccine by russia. Is this the end of Coronavirus?\n",
            "#Russia #coronavirus #Corona #vaccinoCovid\n",
            "#COVID… https://t.co/F5xWMjbDPo\n",
            "Vaccine is the second best thing that came from Russia \n",
            ".\n",
            ".\n",
            "Smirnoff still remains First.\n",
            "\n",
            "#RussianVaccine #COVID \n",
            "#CovidVaccine\n",
            "Russia announces they have a vaccine. #CovidVaccine #RussianVaccine #Vaccine #TrumpRussia #TrumpPutin #PutinsPuppet… https://t.co/SEH3GaRoy7\n",
            "Odd, isn't it, that just 5 months ago, many politicians on the left were excoriating the very same #pharmaceutical… https://t.co/f1INoUB7eQ\n",
            "Vietnam’s health ministry has registered to buy a Russian COVID-19 vaccine, state television reported on Friday, as… https://t.co/eGacqcL99Y\n",
            "Awaiting for the day when whole world would be Corona-free! #CovidVaccine\n",
            "Biocon Executive Chairperson Kiran Mazumdar Shaw contracts coronavirus, informs on Twitter… https://t.co/eojjwPsw11\n",
            "Great news today that everyone in Australia will get a💉of the Oxford #vaccine if it proves successful.🤞🏻\n",
            "\n",
            "@CSIRO sc… https://t.co/AFLN5PRk8u\n",
            "@AC360 @CNN #CovidVaccine \n",
            "I think you're not seeing the whole picture when it comes to the #CovidVaccine issue.Tho… https://t.co/KRwKXzNY2Y\n",
            "#CovidVaccine manufacture must provide good jobs and medicine security, says @unitetheunion #Covid_19  | IndustriAL… https://t.co/Rrmku0mI4W\n",
            "Whenever a safe viable #CovidVaccine is available, it must be first made available to the Indian army as high prior… https://t.co/RDW3In1u5R\n",
            "Here’s hoping vaccines (raised against S protein) work, but if there’s a moral from this research it is: “don’t cou… https://t.co/jyAiNpF6EM\n",
            "#COVID19 #CovidVaccine\n",
            "Immune Boosting Foods - Natural Ways To Improve Immunity https://t.co/rJW8272hLH\n",
            "#Freehand #speedart #drawing of #Professor #FrancescoVaia working on #covidvaccine #madeinitaly at #Spallanzani hos… https://t.co/hZw1Z3IDK2\n",
            "Govt amends CSR norms to allow pharma firms to contribute to COVID-19 RnD; Details #covid #covid19 #RnD #CSRnorms… https://t.co/Cv1gS8Xwxq\n",
            "Since #COVID is a hoax, if I were @realDonaldTrump, I’d just get a bunch of vials of saline solution, put a covid v… https://t.co/wtqNrEe0Uo\n",
            "What he said! ⬇\n",
            "\n",
            "All of the tRUMP's (Don, Melania, all offspring), Bill Barr, all WH staff, + ALL elected @gop memb… https://t.co/1yQF16zUuk\n",
            "Average flu vaccine manufacturing  time = 6 months.\n",
            "#TrumpDerangementSyndrome #COVID19 #covidvaccine #CovidHoax… https://t.co/7OmHryhc27\n",
            "Iran, Russia To Jointly Produce COVID-19 Vaccine. \n",
            "\n",
            "#STEWK AP  News\n",
            "#COVID19Update \n",
            "#CovidVaccine \n",
            "#Iran \n",
            "#Russia https://t.co/pyMIv6BGLL\n",
            "If a vaccine 💉 for #COVID comes out would you take it? #CovidVaccine #coronavirus\n",
            "UAE approved COVID-19 vaccine for emergency use.. #uae #covidvaccine https://t.co/3mPtljAJOC\n",
            "❄❄ “Why Does Pfizer's COVID-19 Vaccine Need to Be Kept Colder Than Antarctica?” ❄❄ via @NPR https://t.co/pq0kEylhwv… https://t.co/I0Tj6FW6W7\n",
            "@alkassdigital Please postpone the #TokyoOlympics, #ParisOlympics and #LAOlympics to #2024year, #2028year and… https://t.co/y5iBsJcg6Q\n",
            "Amen! Exaaaactly. #WearADamnMask #COVID19 #CovidVaccine https://t.co/chiBlpABYD\n",
            "@AnnetteReid247 Hello, please postpone the #TokyoOlympics, #ParisOlympics and #LAOlympics to #2024year, #2028year &amp;… https://t.co/n0j4wvXca8\n",
            "We Are Inviting A #New #Issue #Release In The Month Of #November please #upload your #manuscript clicking on… https://t.co/ii6v4v0D4A\n",
            "Sick and tired of hearing people's conspiracies about #Covid_19 #CovidVaccine. Especially when they look like they… https://t.co/g89y8rVUbW\n",
            "Potential Industry Effects from COVID-19 Vaccine Candidates | by J. Dianne Dotson #COVID19 #CovidVaccine… https://t.co/Vm9Wf0uDaQ\n",
            "@ArvindKejriwal #Vaccine s need minus 70 *deep freezers !\n",
            "It would NOT be that much of a relief even when they come… https://t.co/E3CzTPJR3A\n",
            "Being vaccinated against covid19 will soon be the new status symbol #CovidVaccine\n",
            "Im confused @NBCNightlyNews as to how it is possible for #CovidVaccine to be 90+% effective when numerous… https://t.co/g5Lg5Xl24h\n",
            "@OMag4 Sky News pushing Covid vaccination with propaganda | Gaslighting | Misinformation #SkyNews #CovidVaccine \n",
            "MU… https://t.co/SZphBjWG4w\n",
            "Learn more about the people behind the vaccine ...https://t.co/fbRsZMlVYN #covid #CovidVaccines #covidvaccine\n",
            "@politico The middle class family is grappling with the consequences of the economic crisis. #COVID19 #CovidVaccine\n",
            "Was just talking to one of my BFFs. We are all Black female professionals who plan on taking the #CovidVaccine this… https://t.co/dXgW250DQZ\n",
            "In this second of a six-part series, the biggest concern is short supply. #COVIDVaccine #ManagedCare\n",
            "https://t.co/ZB5CnAJFQI\n",
            "Today my mom, a medical practitioner at Yale New Haven Hospital, received the first of her two #CovidVaccine shots.… https://t.co/wwupIH0IV9\n",
            "#CovidVaccine is getting ready\n",
            "Le Corona now https://t.co/yfiVUfdhkB\n",
            "So excited to have gotten the #CovidVaccine @UCSDHealth #endcovid #ucsdhealth #ThisIsOurShot #inthistogetherSD https://t.co/45ETqJZ4aS\n",
            "And obviously safety would never be compromised when that sort of cash is on the table 🤷‍♂️ \n",
            "\n",
            "#CovidVaccine… https://t.co/zIWJAMYM9L\n",
            "Of course our modia channels will not propagate the religion of #CovidVaccine inventors\n",
            "@RajatSharmaLive… https://t.co/XG1kuP078g\n",
            "Harry Vox exposed the Rockefeller Pandemic in 2014.\n",
            "This is his most recent lecture &gt; Vaccines as a Backdoor. Must… https://t.co/qoOjh4hFXc\n",
            "Wouldn't this be sweet. #COVID19 #CovidVaccine https://t.co/FPVFI48KBS\n",
            "According to a new research of Cardiff University, the CPC containing mouthwash can kill the corona virus in 30 sec… https://t.co/TmItg3QSPj\n",
            "#Moderna announces its #CovidVaccine to be 95% effective. \n",
            "\n",
            "#Pfizer &amp; Moderna #COVID__19 vaccine are expected to ro… https://t.co/QUGSSGvjBh\n",
            "- the \"black gold\" climbs on #CovidVaccine from #Pfizer &amp; #Moderna but falls short of going beyond  $42/bbl at leas… https://t.co/EHibtoTFhR\n",
            "''Higher #liquidity &amp; lower interest rates in global #economy could keep FII inflows high'' says Santosh Singh-Head… https://t.co/y1QbUasFDf\n",
            "@NancyFielder @jonathansamuels How are they going to deliver the COVID vaccine when lots of people are struggling t… https://t.co/7mRLYEBQrO\n",
            "Much money are @pfizer set to make then?.\n",
            "#CovidVaccine #coronavirus\n",
            "People be losing hopes on covid vaccine like it's 4g in kashmir.\n",
            " \n",
            "#CovidVaccine \n",
            "#4ginkashmir\n",
            "@Barnes_Law @Cernovich https://t.co/5hQlRqlFSD  \n",
            "W.H.O. Flips on Lockdown; ‘MASK’ERADE Exposed by CDC?; Dr. Bartlet… https://t.co/UM6aWz5XYF\n",
            "Fascinating news about the Pfizer #CovidVaccine but worth remembering that this latest news still comes from a pres… https://t.co/bYFzPEXUQG\n",
            "🙏For “Everyone who CALLS\n",
            "on the name of the LORD will\n",
            "be SAVED. \n",
            "📖 Romans 10:13\n",
            "\n",
            "⏰This may be the only time you hea… https://t.co/BoxhXMnrQE\n",
            "It looks like Trump was right about the vaccine. And media was saying it was wishful thinking.\n",
            "#CovidVaccine\n",
            "𝑹𝒖𝒎𝒐𝒓 𝒉𝒂𝒔 𝒊𝒕 𝒕𝒉𝒆𝒓𝒆 𝒊𝒔 𝒂 #𝑽𝒂𝒄𝒄𝒊𝒏𝒆 - 𝒘𝒆 𝒂𝒍𝒍 𝒌𝒏𝒐𝒘 𝒀𝑶𝑼 𝑮𝑬𝑻 𝒘𝒉𝒂𝒕 𝒚𝒐𝒖 𝒑𝒂𝒚 𝒇𝒐𝒓 💉 so make sure you do your research and be… https://t.co/xWPLW6jZ6i\n",
            "Be careful when going to #warpspeed. You might end up as lizards.\n",
            "\n",
            "#startrek #voyager #threshold #CovidVaccine\n",
            "#COVID19 #CovidVaccine \n",
            "Can social distance, masking while outside and ginger tea twice a day, steam inhalation at… https://t.co/QBiXrc2HPE\n",
            "#Americans\n",
            "\n",
            "#vaccine is a mostly German development. #germany #eu \n",
            "\n",
            "Nothing to do with you guys at all,… https://t.co/uzNLddliiK\n",
            "Johnson &amp; Johnson has paused its coronavirus vaccine trial, casting doubt on the Trump Administration's promise to… https://t.co/RzLwUDE8wg\n",
            "Participants who received #CovidVaccine AZD1222 in phase I/II trial had developed detectable neutralising antibodie… https://t.co/rgY8rc0Gi7\n",
            "That means,if @BJP4India doesn’t win in #Bihar will they charge Biharis for the #CovidVaccine?\n",
            "It's blackmail,… https://t.co/YOx9H88d8u\n",
            "Goldman says short dollar as odds firm for Biden win, vaccine progress #bitcoin #Dollar #Joebiden #Covidvaccine $GS… https://t.co/vSpKSQobkE\n",
            "#CovidVaccine So much for #DonTheCon 's promise for an early vaccine.   #TrumpVirusDeathToll215K https://t.co/NIGffOwEBp\n",
            "Russia To Approve Second COVID-19 Vaccine Trials Next Week @drreddys @rdif_press\n",
            "\n",
            "#russia #SputnikV #covid19… https://t.co/OGfDdwfAm7\n",
            "HOPE\n",
            "(that whole world is having now) \n",
            "INKTOBER2020 DAY 10\n",
            "#inktober2020 #inktober2020day10\n",
            "#hope #CovidVaccine… https://t.co/WXYaJEj9MX\n",
            "Late to the party of #WhatIsTrending on @Twitter But what should be on our radar is #ProtectUSSecretService… https://t.co/bQzyCQveoP\n",
            "================================================================================================\n",
            "\n",
            "Looking at cluster 9 with 19 elements:\n",
            "\n",
            "@Zoya_nafidi Putin's daughter might have vaccinated . But those who are claiming that a girl in that video is Putin… https://t.co/CKDIIcXNoG\n",
            "So it begins, hope new mexico fights back.\n",
            "\n",
            "https://t.co/iBsb5t2ciq\n",
            "\n",
            "#Covid_19 #CovidVaccine #NewMexico\n",
            "Who had this on their 2020 bingo card? #vaccines #COVID19 #CovidVaccine  https://t.co/zsYVQl18El\n",
            "Oxford Covid vaccine Phase-3 trials are set to start in India this week. Meanwhile Russian  Sputnik V has entered m… https://t.co/9tVtRXUSY2\n",
            "A dare that they wisely chose not to take.\n",
            "\n",
            "#IIT #CovidVaccine\n",
            "\n",
            "https://t.co/ppFhkiXQHj\n",
            "8,239 persons were undergoing quarantine at 74 centres belonging to the tri-forces as at this morning, the National… https://t.co/QmYE30Ec1v\n",
            "#Covidvaccine likely by early 2021; for old, high-risk first: @drharshvardhan  https://t.co/OL84XSiHsT\n",
            "@njnntv Please postpone the #TokyoOlympics, #ParisOlympics and #LAOlympics to #2024year, #2028year and #2032year ea… https://t.co/VmTdYQzTWF\n",
            "@the_hindu Why not IITKgp following government guidelines? Likes other IITs and IISC, Central universities are open… https://t.co/PIDEvW9gtN\n",
            "Not only do Pfizer manufacture Viagra, but they been doing some heavy lifting on the markets too...😜🤦🏻‍♀️… https://t.co/YyTbWNy5Eu\n",
            "1/4) A major advantage of messenger RNA (#mRNA) vaccines is that they can be developed much more rapidly in respons… https://t.co/RMmQGW9xC3\n",
            "================================================================================================\n",
            "\n"
          ],
          "name": "stdout"
        }
      ]
    },
    {
      "cell_type": "markdown",
      "metadata": {
        "id": "0dFOalnDNXXb"
      },
      "source": [
        "Note to the reader of our article: we accidently reran the clustering algorithm since write the article so we are not able to reproduce the results given in our Analysis section and Appendix. Also please ignore the statements `Looking at cluster X with X elements:` since some elements are passed over. In reality, cluster bin counts are `[len(l) for k, l in cluster_bins.items()] = [20, 7, 19, 29, 59, 58, 33, 2, 73, 11]` which means only 311/474 text elements are semantically clustered."
      ]
    }
  ]
}